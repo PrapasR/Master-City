{
 "cells": [
  {
   "cell_type": "markdown",
   "metadata": {},
   "source": [
    "# Task 1: Implementation of a Tabular Reinforcement Learning Environment\n",
    "### By Nattaphat Thanaussawanun and Prapas Rakchartkiattikul"
   ]
  },
  {
   "cell_type": "markdown",
   "metadata": {},
   "source": [
    "This notebook has demonstrated the nature of the warehouse environment into 5 scenarios.\n",
    "\n",
    "## Content\n",
    "- <a href='#scenario1'>Scenario 1: Basic Move Actions</a>\n",
    "- <a href='#scenario2'>Scenario 2: Agent Hit the Box</a>\n",
    "- <a href='#scenario3'>Scenario 3: Agent Hit the Human</a>\n",
    "- <a href='#scenario4'>Scenario 4: Pickup Action</a>\n",
    "- <a href='#scenario5'>Scenario 5: Dropoff Action</a>\n",
    "\n",
    "The notation that used to represent the location in the environment: \n",
    "- Empty Space --> .\n",
    "- Stationary Obstacles --> X\n",
    "- Box --> B\n",
    "- Human --> H\n",
    "- Parcel --> P\n",
    "- Destination --> P\n",
    "- Agent --> A"
   ]
  },
  {
   "cell_type": "code",
   "execution_count": 1,
   "metadata": {},
   "outputs": [],
   "source": [
    "#Import nessary functions\n",
    "from warehouse import *\n",
    "import pickle"
   ]
  },
  {
   "cell_type": "code",
   "execution_count": 2,
   "metadata": {},
   "outputs": [
    {
     "name": "stdout",
     "output_type": "stream",
     "text": [
      "X X X X X X X X X X \n",
      "X P . . . . D . . X \n",
      "X . . . . . X . . X \n",
      "X . . X . . X B . X \n",
      "X X . . . . . . . X \n",
      "X . . . . . . . . X \n",
      "X . . . . . . . . X \n",
      "X . . H . . . . . X \n",
      "X . . . . . . . X X \n",
      "X X X X X X A X X X \n",
      "\n"
     ]
    }
   ],
   "source": [
    "# Example of environment of size 10\n",
    "env = Warehouse(10)\n",
    "env.reset()\n",
    "env.display()"
   ]
  },
  {
   "cell_type": "markdown",
   "metadata": {},
   "source": [
    "## Scenario 1: Basic Move Actions <a id='scenario1'></a> "
   ]
  },
  {
   "cell_type": "code",
   "execution_count": 3,
   "metadata": {},
   "outputs": [],
   "source": [
    "# Import a predefined enviroment\n",
    "FILENAME = open('env_scenario_1.p', 'rb')\n",
    "env_scenario_1_test = pickle.load(FILENAME)\n",
    "FILENAME.close()"
   ]
  },
  {
   "cell_type": "code",
   "execution_count": 4,
   "metadata": {},
   "outputs": [
    {
     "name": "stdout",
     "output_type": "stream",
     "text": [
      "Scenario 1: Starting Point\n",
      "X X X X X X X X X X \n",
      "X . . . . . . . . X \n",
      "X D . . . . . X . X \n",
      "X X . . . . . . . X \n",
      "X . . . . B . . . X \n",
      "X . . . . . . X H X \n",
      "X . . A . . . . P X \n",
      "X . . . . . . . . X \n",
      "X . . . . . X . . X \n",
      "X X X X X X X X X X \n",
      "\n",
      "Perform \"right\" action --> Received -1 point\n",
      "X X X X X X X X X X \n",
      "X . . . . . . . . X \n",
      "X D . . . . . X . X \n",
      "X X . . . . . . . X \n",
      "X . . . . B . . . X \n",
      "X . . . . . . X H X \n",
      "X . . . A . . . P X \n",
      "X . . . . . . . . X \n",
      "X . . . . . X . . X \n",
      "X X X X X X X X X X \n",
      "\n",
      "Perform \"down\" action --> Received -1 point\n",
      "X X X X X X X X X X \n",
      "X . . . . . . . . X \n",
      "X D . . . . . X . X \n",
      "X X . . . . . . . X \n",
      "X . . . . B . . . X \n",
      "X . . . . . . X H X \n",
      "X . . . . . . . P X \n",
      "X . . . A . . . . X \n",
      "X . . . . . X . . X \n",
      "X X X X X X X X X X \n",
      "\n",
      "Perform \"left\" action --> Received -1 point\n",
      "X X X X X X X X X X \n",
      "X . . . . . . . . X \n",
      "X D . . . . . X . X \n",
      "X X . . . . . . . X \n",
      "X . . . . B . . . X \n",
      "X . . . . . . X H X \n",
      "X . . . . . . . P X \n",
      "X . . A . . . . . X \n",
      "X . . . . . X . . X \n",
      "X X X X X X X X X X \n",
      "\n",
      "Perform \"up\" action --> Received -1 point\n",
      "X X X X X X X X X X \n",
      "X . . . . . . . . X \n",
      "X D . . . . . X . X \n",
      "X X . . . . . . . X \n",
      "X . . . . B . . H X \n",
      "X . . . . . . X . X \n",
      "X . . A . . . . P X \n",
      "X . . . . . . . . X \n",
      "X . . . . . X . . X \n",
      "X X X X X X X X X X \n",
      "\n"
     ]
    }
   ],
   "source": [
    "# Perform set of actions\n",
    "print('Scenario 1: Starting Point')\n",
    "env_scenario_1_test.display()\n",
    "\n",
    "_, reward, _ = env_scenario_1_test.step('right')\n",
    "print(f'''Perform \"right\" action --> Received {reward} point''')\n",
    "env_scenario_1_test.display()\n",
    "\n",
    "_, reward, _ = env_scenario_1_test.step('down')\n",
    "print(f'''Perform \"down\" action --> Received {reward} point''')\n",
    "env_scenario_1_test.display()\n",
    "\n",
    "_, reward, _=  env_scenario_1_test.step('left')\n",
    "print(f'''Perform \"left\" action --> Received {reward} point''')\n",
    "env_scenario_1_test.display()\n",
    "\n",
    "_, reward, _ =  env_scenario_1_test.step('up')\n",
    "print(f'''Perform \"up\" action --> Received {reward} point''')\n",
    "env_scenario_1_test.display()"
   ]
  },
  {
   "cell_type": "markdown",
   "metadata": {},
   "source": [
    "## Scenario 2: Agent Hit the Box   <a id='scenario2'></a> "
   ]
  },
  {
   "cell_type": "code",
   "execution_count": 5,
   "metadata": {},
   "outputs": [],
   "source": [
    "# Import a predefined enviroment\n",
    "FILENAME = open('env_scenario_2.p', 'rb')\n",
    "env_scenario_2 = pickle.load(FILENAME)\n",
    "FILENAME.close()"
   ]
  },
  {
   "cell_type": "code",
   "execution_count": 6,
   "metadata": {},
   "outputs": [
    {
     "name": "stdout",
     "output_type": "stream",
     "text": [
      "Scenario 2: Starting Point\n",
      "X X X X X X X X X X \n",
      "X . . . . . . . . X \n",
      "X D . . . . . X . X \n",
      "X X . . . . . . . X \n",
      "X . . . . . . . H X \n",
      "X . . . A B . X . X \n",
      "X . . . . . . . P X \n",
      "X . . . . . . . . X \n",
      "X . . . . . X . . X \n",
      "X X X X X X X X X X \n",
      "\n",
      ">>> The \"right\" action will push the box backward, which results in a huge punishment.\n",
      "Perform \"right\" action --> Received -21 points\n",
      "X X X X X X X X X X \n",
      "X . . . . . . . . X \n",
      "X D . . . . . X . X \n",
      "X X . . . . . . . X \n",
      "X . . . . . . . . X \n",
      "X . . . . A B X H X \n",
      "X . . . . . . . P X \n",
      "X . . . . . . . . X \n",
      "X . . . . . X . . X \n",
      "X X X X X X X X X X \n",
      "\n",
      ">>> We can still perform the right action again, but the box will not move further since there is no free space behind.\n",
      ">>> The agent still receive a huge punishment.\n",
      "Perform \"right\" action --> Received -21 points\n",
      "X X X X X X X X X X \n",
      "X . . . . . . . . X \n",
      "X D . . . . . X . X \n",
      "X X . . . . . . . X \n",
      "X . . . . . . . . X \n",
      "X . . . . A B X H X \n",
      "X . . . . . . . P X \n",
      "X . . . . . . . . X \n",
      "X . . . . . X . . X \n",
      "X X X X X X X X X X \n",
      "\n"
     ]
    }
   ],
   "source": [
    "# Perform set of actions\n",
    "print('Scenario 2: Starting Point')\n",
    "env_scenario_2.display()\n",
    "\n",
    "print('>>> The \"right\" action will push the box backward, which results in a huge punishment.')\n",
    "_, reward, _= env_scenario_2.step('right')\n",
    "print(f'''Perform \"right\" action --> Received {reward} points''')\n",
    "env_scenario_2.display()\n",
    "\n",
    "\n",
    "print('>>> We can still perform the right action again, but the box will not move further since there is no free space behind.')\n",
    "print('>>> The agent still receive a huge punishment.')\n",
    "_, reward, _ = env_scenario_2.step('right')\n",
    "print(f'''Perform \"right\" action --> Received {reward} points''')\n",
    "env_scenario_2.display()"
   ]
  },
  {
   "cell_type": "markdown",
   "metadata": {},
   "source": [
    "## Scenario 3: Agent Hit the Human   <a id='scenario3'></a> "
   ]
  },
  {
   "cell_type": "code",
   "execution_count": 7,
   "metadata": {},
   "outputs": [],
   "source": [
    "# Import a predefined enviroment\n",
    "FILENAME = open('env_scenario_3.p', 'rb')\n",
    "env_scenario_3 = pickle.load(FILENAME)\n",
    "FILENAME.close()"
   ]
  },
  {
   "cell_type": "code",
   "execution_count": 8,
   "metadata": {},
   "outputs": [
    {
     "name": "stdout",
     "output_type": "stream",
     "text": [
      "Scenario 3: Starting Point\n",
      "X X X X X X X X X X \n",
      "X . . . . . . . . X \n",
      "X . X . . X . . . X \n",
      "X D . . H A . . P X \n",
      "X . . . . . X . . X \n",
      "X . . . . . . . . X \n",
      "X . X X . . . . . X \n",
      "X . . B . . . . . X \n",
      "X . . . . . . . . X \n",
      "X X X X X X X X X X \n",
      "\n",
      ">>> The left action will make the agent hit the human, which results in a huge punishment and terminate the environment.\n",
      "Perform \"left\" action --> Received -51.0 points --> Done state True\n",
      "X X X X X X X X X X \n",
      "X . . . . . . . . X \n",
      "X . X . . X . . . X \n",
      "X D . . A . . . P X \n",
      "X . . . . . X . . X \n",
      "X . . . . . . . . X \n",
      "X . X X . . . . . X \n",
      "X . . B . . . . . X \n",
      "X . . . . . . . . X \n",
      "X X X X X X X X X X \n",
      "\n"
     ]
    }
   ],
   "source": [
    "# Perform set of actions\n",
    "print('Scenario 3: Starting Point')\n",
    "env_scenario_3.display()\n",
    "\n",
    "print('>>> The left action will make the agent hit the human, which results in a huge punishment and terminate the environment.')\n",
    "_, reward, done = env_scenario_3.step('left')\n",
    "print(f'''Perform \"left\" action --> Received {reward} points --> Done state {done}''')\n",
    "env_scenario_3.display()"
   ]
  },
  {
   "cell_type": "markdown",
   "metadata": {},
   "source": [
    "If the done status is not True, please uncomment the code in the below cell and run it.\n",
    "This is due to the random chance the human can move."
   ]
  },
  {
   "cell_type": "code",
   "execution_count": 9,
   "metadata": {},
   "outputs": [],
   "source": [
    "# print('>>> We can still perform right action again, but the box will not move further since there is no free space in the back.')\n",
    "# _, reward, _ = env_scenario_2.step('down')\n",
    "# print(f'''Perform \"down\" action --> Received {reward} points''')\n",
    "# env_scenario_2.display()"
   ]
  },
  {
   "cell_type": "markdown",
   "metadata": {},
   "source": [
    "## Scenario 4: Pickup action <a id='scenario4'></a> "
   ]
  },
  {
   "cell_type": "code",
   "execution_count": 10,
   "metadata": {},
   "outputs": [],
   "source": [
    "FILENAME = open('env_scenario_4.p', 'rb')\n",
    "env_scenario_4 = pickle.load(FILENAME)\n",
    "FILENAME.close()"
   ]
  },
  {
   "cell_type": "code",
   "execution_count": 11,
   "metadata": {},
   "outputs": [
    {
     "name": "stdout",
     "output_type": "stream",
     "text": [
      "Scenario 4: Starting Point\n",
      "X X X X X X X X X X \n",
      "X . . . . . . . . X \n",
      "X . X . . X . . . X \n",
      "X D . . . . . A P X \n",
      "X . . . H . X . . X \n",
      "X . . . . . . . . X \n",
      "X . X X . . . . . X \n",
      "X . . B . . . . . X \n",
      "X . . . . . . . . X \n",
      "X X X X X X X X X X \n",
      "\n",
      ">>> The \"right\" action will make the agent to be at the parcel location.\n",
      "Perform \"right\" action --> Received -1 point\n",
      "X X X X X X X X X X \n",
      "X . . . . . . . . X \n",
      "X . X . . X . . . X \n",
      "X D . . . . . . A X \n",
      "X . . . . H X . . X \n",
      "X . . . . . . . . X \n",
      "X . X X . . . . . X \n",
      "X . . B . . . . . X \n",
      "X . . . . . . . . X \n",
      "X X X X X X X X X X \n",
      "\n",
      ">>> The agent needs to perform the \"pickup\" action to pick the parcel up and it gets moderate rewards.\n",
      "Perform \"pickup\" action --> Received 49.0 points\n",
      "X X X X X X X X X X \n",
      "X . . . . . . . . X \n",
      "X . X . . X . . . X \n",
      "X D . . . H . . A X \n",
      "X . . . . . X . . X \n",
      "X . . . . . . . . X \n",
      "X . X X . . . . . X \n",
      "X . . B . . . . . X \n",
      "X . . . . . . . . X \n",
      "X X X X X X X X X X \n",
      "\n"
     ]
    }
   ],
   "source": [
    "print('Scenario 4: Starting Point')\n",
    "env_scenario_4.display()\n",
    "\n",
    "print('>>> The \"right\" action will make the agent to be at the parcel location.')\n",
    "_, reward, done = env_scenario_4.step('right')\n",
    "print(f'''Perform \"right\" action --> Received {reward} point''')\n",
    "env_scenario_4.display()\n",
    "\n",
    "print('>>> The agent needs to perform the \"pickup\" action to pick the parcel up and it gets moderate rewards.')\n",
    "_, reward, done = env_scenario_4.step('pickup')\n",
    "print(f'''Perform \"pickup\" action --> Received {reward} points''')\n",
    "env_scenario_4.display()"
   ]
  },
  {
   "cell_type": "markdown",
   "metadata": {},
   "source": [
    "## Scenario 5: Dropoff Action  <a id='scenario5'></a> "
   ]
  },
  {
   "cell_type": "code",
   "execution_count": 12,
   "metadata": {},
   "outputs": [],
   "source": [
    "FILENAME = open('env_scenario_5.p', 'rb')\n",
    "env_scenario_5 = pickle.load(FILENAME)\n",
    "FILENAME.close()"
   ]
  },
  {
   "cell_type": "code",
   "execution_count": 13,
   "metadata": {},
   "outputs": [
    {
     "name": "stdout",
     "output_type": "stream",
     "text": [
      "Scenario 5: Starting Point\n",
      "X X X X X X X X X X \n",
      "X . . . . . . . . X \n",
      "X . X . . X . . . X \n",
      "X D A . . . . . . X \n",
      "X . . . . H X . . X \n",
      "X . . . . . . . . X \n",
      "X . X X . . . . . X \n",
      "X . . B . . . . . X \n",
      "X . . . . . . . . X \n",
      "X X X X X X X X X X \n",
      "\n",
      ">>> At this point, the agent has already picked up the parcel, which needs to move to the left to be at the destination location.\n",
      "Perform \"left\" action --> Received -1 point\n",
      "X X X X X X X X X X \n",
      "X . . . . . . . . X \n",
      "X . X . . X . . . X \n",
      "X A . . . . . . . X \n",
      "X . . . . H X . . X \n",
      "X . . . . . . . . X \n",
      "X . X X . . . . . X \n",
      "X . . B . . . . . X \n",
      "X . . . . . . . . X \n",
      "X X X X X X X X X X \n",
      "\n",
      ">>> The agent needs to perform the \"dropoff\" action to drop the parcel at the destination and terminate the environment.\n",
      "Perform \"dropoff\" action --> Received 49.0 points --> Done state True\n",
      "X X X X X X X X X X \n",
      "X . . . . . . . . X \n",
      "X . X . . X . . . X \n",
      "X A . . . . . . . X \n",
      "X . . . . H X . . X \n",
      "X . . . . . . . . X \n",
      "X . X X . . . . . X \n",
      "X . . B . . . . . X \n",
      "X . . . . . . . . X \n",
      "X X X X X X X X X X \n",
      "\n"
     ]
    }
   ],
   "source": [
    "print('Scenario 5: Starting Point')\n",
    "env_scenario_5.display()\n",
    "\n",
    "print('>>> At this point, the agent has already picked up the parcel, which needs to move to the left to be at the destination location.')\n",
    "_, reward, done = env_scenario_5.step('left')\n",
    "print(f'''Perform \"left\" action --> Received {reward} point''')\n",
    "env_scenario_5.display()\n",
    "\n",
    "print('>>> The agent needs to perform the \"dropoff\" action to drop the parcel at the destination and terminate the environment.')\n",
    "_, reward, done = env_scenario_5.step('dropoff')\n",
    "print(f'''Perform \"dropoff\" action --> Received {reward} points --> Done state {done}''')\n",
    "env_scenario_5.display()"
   ]
  },
  {
   "cell_type": "markdown",
   "metadata": {},
   "source": [
    "## END"
   ]
  }
 ],
 "metadata": {
  "kernelspec": {
   "display_name": "Python 3",
   "language": "python",
   "name": "python3"
  },
  "language_info": {
   "codemirror_mode": {
    "name": "ipython",
    "version": 3
   },
   "file_extension": ".py",
   "mimetype": "text/x-python",
   "name": "python",
   "nbconvert_exporter": "python",
   "pygments_lexer": "ipython3",
   "version": "3.8.5"
  }
 },
 "nbformat": 4,
 "nbformat_minor": 5
}
