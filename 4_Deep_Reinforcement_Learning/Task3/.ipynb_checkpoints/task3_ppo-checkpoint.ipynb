{
 "cells": [
  {
   "cell_type": "markdown",
   "metadata": {},
   "source": [
    "# Task 3: Implementation of Proximal Policy Optimization (PPO)\n",
    "### By Nattaphat Thanaussawanun and Prapas Rakchartkiattikul\n",
    "Note: Borrowed the code from this [link](https://github.com/ericyangyu/PPO-for-Beginners) approximately 35%."
   ]
  },
  {
   "cell_type": "markdown",
   "metadata": {},
   "source": [
    "## Contents\n",
    "\n",
    "- <a href='#hypers_con3'>Hyperparameters consideration</a>\n",
    "- <a href='#Experiment3_1'>Experiment 1: The small environment (N = 20)</a>\n",
    " - <a href='#vis3_1'>Visualisation of the results</a>\n",
    "- <a href='#Experiment3_2'>Experiment 2: The medium environment (N = 40)</a>\n",
    " - <a href='#vis3_2'>Visualisation of the results</a>\n",
    "- <a href='#Experiment3_3'>Experiment 3: The large environment (N = 60)</a>\n",
    " - <a href='#vis3_3'>Visualisation of the results</a>"
   ]
  },
  {
   "cell_type": "code",
   "execution_count": 1,
   "metadata": {},
   "outputs": [],
   "source": [
    "from training_evaluating import *"
   ]
  },
  {
   "cell_type": "markdown",
   "metadata": {},
   "source": [
    "## Hyperparameters consideration <a id='hypers_con3'></a> "
   ]
  },
  {
   "cell_type": "code",
   "execution_count": 2,
   "metadata": {},
   "outputs": [],
   "source": [
    "# Define an objective function to tune hyperparameters by Optuna framework (similar to random search but it's better)\n",
    "def objective(trial):\n",
    "    # Define tuning parameters\n",
    "    params = {\n",
    "        'n_layers': trial.suggest_int('n_layers', 1, 2),\n",
    "        'hidden_size': trial.suggest_categorical('hidden_size', [64, 128, 256, 512]),\n",
    "        'learning_rate': trial.suggest_loguniform('learning_rate', 1e-4, 1e-2),\n",
    "        'gamma': trial.suggest_uniform('gamma', 0.2, 0.8),\n",
    "        'multiplier': trial.suggest_int('multiplier', 3, 5)\n",
    "    }\n",
    "\n",
    "    best_avg_reward_per_action, _, _, _, _ = PPO(dungeon, params).learning(save_model=False)\n",
    "\n",
    "    return best_avg_reward_per_action"
   ]
  },
  {
   "cell_type": "markdown",
   "metadata": {},
   "source": [
    "## Experiment 1: The small environment (n = 20) <a id='Experiment3_1'></a> "
   ]
  },
  {
   "cell_type": "code",
   "execution_count": 12,
   "metadata": {},
   "outputs": [
    {
     "name": "stderr",
     "output_type": "stream",
     "text": [
      "\u001b[32m[I 2021-04-04 08:50:53,289]\u001b[0m A new study created in memory with name: no-name-690f005b-57a1-4773-a3d9-2704a5d621fd\u001b[0m\n"
     ]
    },
    {
     "name": "stdout",
     "output_type": "stream",
     "text": [
      "Iteration:   10 | Avg. Reward: -150.53 | Var. Reward: 492.8230 | Avg. Action Count: 176.43 | Actor Loss: 0.0000 | Critic Loss: 1376.6023\n",
      ">> Avg. Reward per Action: -0.8532\n",
      "Iteration:   20 | Avg. Reward: -150.52 | Var. Reward: 485.6315 | Avg. Action Count: 185.57 | Actor Loss: 0.0010 | Critic Loss: 758.3480\n",
      ">> Avg. Reward per Action: -0.8111\n",
      "Iteration:   30 | Avg. Reward: -182.13 | Var. Reward: 515.0913 | Avg. Action Count: 198.08 | Actor Loss: -0.0080 | Critic Loss: 734.6989\n",
      ">> Avg. Reward per Action: -0.9195\n",
      "Iteration:   40 | Avg. Reward: -189.84 | Var. Reward: 522.0146 | Avg. Action Count: 199.59 | Actor Loss: -0.0108 | Critic Loss: 816.6445\n",
      ">> Avg. Reward per Action: -0.9511\n",
      "Iteration:   50 | Avg. Reward: -250.02 | Var. Reward: 528.4713 | Avg. Action Count: 222.42 | Actor Loss: -0.0074 | Critic Loss: 751.9584\n",
      ">> Avg. Reward per Action: -1.1241\n",
      "Iteration:   60 | Avg. Reward: -205.83 | Var. Reward: 498.1832 | Avg. Action Count: 213.63 | Actor Loss: -0.0094 | Critic Loss: 539.5980\n",
      ">> Avg. Reward per Action: -0.9635\n",
      "Iteration:   70 | Avg. Reward: -177.99 | Var. Reward: 469.5469 | Avg. Action Count: 213.89 | Actor Loss: -0.0100 | Critic Loss: 788.7823\n",
      ">> Avg. Reward per Action: -0.8322\n",
      "Iteration:   80 | Avg. Reward: -115.39 | Var. Reward: 488.5477 | Avg. Action Count: 192.09 | Actor Loss: -0.0094 | Critic Loss: 908.1158\n",
      ">> Avg. Reward per Action: -0.6007\n",
      "Iteration:   90 | Avg. Reward: -158.74 | Var. Reward: 416.0221 | Avg. Action Count: 212.09 | Actor Loss: -0.0086 | Critic Loss: 686.5102\n",
      ">> Avg. Reward per Action: -0.7485\n",
      "Iteration:  100 | Avg. Reward: -153.56 | Var. Reward: 472.5655 | Avg. Action Count: 205.96 | Actor Loss: -0.0070 | Critic Loss: 438.4353\n",
      ">> Avg. Reward per Action: -0.7456\n",
      "Iteration:  110 | Avg. Reward: -122.97 | Var. Reward: 453.1312 | Avg. Action Count: 201.92 | Actor Loss: -0.0093 | Critic Loss: 724.3876\n",
      ">> Avg. Reward per Action: -0.6090\n",
      "Iteration:  120 | Avg. Reward: -143.97 | Var. Reward: 505.3982 | Avg. Action Count: 192.07 | Actor Loss: -0.0100 | Critic Loss: 705.5722\n",
      ">> Avg. Reward per Action: -0.7496\n",
      "Iteration:  130 | Avg. Reward: -48.59 | Var. Reward: 429.1181 | Avg. Action Count: 175.99 | Actor Loss: -0.0079 | Critic Loss: 955.6271\n",
      ">> Avg. Reward per Action: -0.2761\n",
      "Iteration:  140 | Avg. Reward: -79.36 | Var. Reward: 442.5911 | Avg. Action Count: 187.51 | Actor Loss: -0.0069 | Critic Loss: 799.4800\n",
      ">> Avg. Reward per Action: -0.4232\n",
      "Iteration:  150 | Avg. Reward: -155.85 | Var. Reward: 474.5329 | Avg. Action Count: 210.60 | Actor Loss: -0.0082 | Critic Loss: 711.9503\n",
      ">> Avg. Reward per Action: -0.7400\n",
      "Iteration:  160 | Avg. Reward: -131.94 | Var. Reward: 489.8802 | Avg. Action Count: 198.04 | Actor Loss: -0.0055 | Critic Loss: 1157.8242\n",
      ">> Avg. Reward per Action: -0.6662\n",
      "Iteration:  170 | Avg. Reward: -80.56 | Var. Reward: 417.2600 | Avg. Action Count: 191.86 | Actor Loss: -0.0036 | Critic Loss: 691.9441\n",
      ">> Avg. Reward per Action: -0.4199\n",
      "Iteration:  180 | Avg. Reward: -127.99 | Var. Reward: 461.0560 | Avg. Action Count: 202.34 | Actor Loss: -0.0074 | Critic Loss: 917.6052\n",
      ">> Avg. Reward per Action: -0.6325\n",
      "Iteration:  190 | Avg. Reward: -49.69 | Var. Reward: 423.2584 | Avg. Action Count: 180.14 | Actor Loss: -0.0107 | Critic Loss: 670.3653\n",
      ">> Avg. Reward per Action: -0.2758\n",
      "Iteration:  200 | Avg. Reward: 11.68 | Var. Reward: 356.0790 | Avg. Action Count: 161.32 | Actor Loss: 0.0010 | Critic Loss: 1441.9034\n",
      ">> Avg. Reward per Action: 0.0724\n",
      "Iteration:  210 | Avg. Reward: -66.46 | Var. Reward: 425.4925 | Avg. Action Count: 187.51 | Actor Loss: -0.0065 | Critic Loss: 1083.6675\n",
      ">> Avg. Reward per Action: -0.3544\n",
      "Iteration:  220 | Avg. Reward: -164.91 | Var. Reward: 503.6487 | Avg. Action Count: 211.01 | Actor Loss: -0.0065 | Critic Loss: 727.8581\n",
      ">> Avg. Reward per Action: -0.7815\n",
      "Iteration:  230 | Avg. Reward: 50.66 | Var. Reward: 378.0779 | Avg. Action Count: 144.94 | Actor Loss: -0.0059 | Critic Loss: 446.2529\n",
      ">> Avg. Reward per Action: 0.3495\n",
      "Iteration:  240 | Avg. Reward: -0.77 | Var. Reward: 363.9374 | Avg. Action Count: 168.47 | Actor Loss: 0.0017 | Critic Loss: 348.7064\n",
      ">> Avg. Reward per Action: -0.0046\n",
      "Iteration:  250 | Avg. Reward: 43.00 | Var. Reward: 362.0942 | Avg. Action Count: 158.90 | Actor Loss: -0.0020 | Critic Loss: 729.9227\n",
      ">> Avg. Reward per Action: 0.2706\n",
      "Iteration:  260 | Avg. Reward: -124.26 | Var. Reward: 481.4433 | Avg. Action Count: 200.16 | Actor Loss: -0.0042 | Critic Loss: 811.7392\n",
      ">> Avg. Reward per Action: -0.6208\n",
      "Iteration:  270 | Avg. Reward: 66.26 | Var. Reward: 358.9717 | Avg. Action Count: 142.74 | Actor Loss: 0.0010 | Critic Loss: 419.3243\n",
      ">> Avg. Reward per Action: 0.4642\n",
      "Iteration:  280 | Avg. Reward: -27.09 | Var. Reward: 453.0409 | Avg. Action Count: 169.34 | Actor Loss: -0.0033 | Critic Loss: 630.0946\n",
      ">> Avg. Reward per Action: -0.1600\n",
      "Iteration:  290 | Avg. Reward: -7.19 | Var. Reward: 422.3276 | Avg. Action Count: 154.54 | Actor Loss: -0.0034 | Critic Loss: 823.1547\n",
      ">> Avg. Reward per Action: -0.0465\n",
      "Iteration:  300 | Avg. Reward: 28.56 | Var. Reward: 393.1048 | Avg. Action Count: 159.04 | Actor Loss: -0.0044 | Critic Loss: 746.7071\n",
      ">> Avg. Reward per Action: 0.1796\n",
      "Iteration:  310 | Avg. Reward: -9.90 | Var. Reward: 429.5287 | Avg. Action Count: 167.70 | Actor Loss: -0.0044 | Critic Loss: 321.9675\n",
      ">> Avg. Reward per Action: -0.0590\n",
      "Iteration:  320 | Avg. Reward: 79.28 | Var. Reward: 380.5283 | Avg. Action Count: 134.87 | Actor Loss: 0.0004 | Critic Loss: 657.0428\n",
      ">> Avg. Reward per Action: 0.5878\n",
      "Iteration:  330 | Avg. Reward: 126.70 | Var. Reward: 295.8556 | Avg. Action Count: 123.20 | Actor Loss: 0.0002 | Critic Loss: 1030.3619\n",
      ">> Avg. Reward per Action: 1.0284\n",
      "Iteration:  340 | Avg. Reward: -25.54 | Var. Reward: 370.1158 | Avg. Action Count: 185.59 | Actor Loss: 0.0062 | Critic Loss: 771.5014\n",
      ">> Avg. Reward per Action: -0.1376\n",
      "Iteration:  350 | Avg. Reward: 105.13 | Var. Reward: 349.7750 | Avg. Action Count: 129.62 | Actor Loss: 0.0068 | Critic Loss: 1907.3599\n",
      ">> Avg. Reward per Action: 0.8111\n",
      "Iteration:  360 | Avg. Reward: 30.98 | Var. Reward: 406.2618 | Avg. Action Count: 149.82 | Actor Loss: 0.0108 | Critic Loss: 1276.1436\n",
      ">> Avg. Reward per Action: 0.2068\n",
      "Iteration:  370 | Avg. Reward: 91.51 | Var. Reward: 362.2598 | Avg. Action Count: 128.99 | Actor Loss: 0.0042 | Critic Loss: 714.9825\n",
      ">> Avg. Reward per Action: 0.7094\n",
      "Iteration:  380 | Avg. Reward: 115.97 | Var. Reward: 317.7241 | Avg. Action Count: 126.73 | Actor Loss: 0.0039 | Critic Loss: 1250.0986\n",
      ">> Avg. Reward per Action: 0.9151\n",
      "Iteration:  390 | Avg. Reward: 72.87 | Var. Reward: 386.0384 | Avg. Action Count: 140.73 | Actor Loss: 0.0023 | Critic Loss: 1226.2659\n",
      ">> Avg. Reward per Action: 0.5178\n",
      "Iteration:  400 | Avg. Reward: 116.12 | Var. Reward: 314.0720 | Avg. Action Count: 131.03 | Actor Loss: 0.0123 | Critic Loss: 1776.0051\n",
      ">> Avg. Reward per Action: 0.8862\n",
      "Iteration:  410 | Avg. Reward: 19.87 | Var. Reward: 390.1091 | Avg. Action Count: 168.43 | Actor Loss: 0.0061 | Critic Loss: 1157.4491\n",
      ">> Avg. Reward per Action: 0.1180\n",
      "Iteration:  420 | Avg. Reward: 4.55 | Var. Reward: 427.0164 | Avg. Action Count: 161.50 | Actor Loss: -0.0003 | Critic Loss: 706.0786\n",
      ">> Avg. Reward per Action: 0.0282\n",
      "Iteration:  430 | Avg. Reward: 108.83 | Var. Reward: 330.0757 | Avg. Action Count: 126.57 | Actor Loss: -0.0000 | Critic Loss: 665.4602\n",
      ">> Avg. Reward per Action: 0.8598\n",
      "Iteration:  440 | Avg. Reward: 73.72 | Var. Reward: 393.3532 | Avg. Action Count: 132.23 | Actor Loss: 0.0010 | Critic Loss: 1358.2798\n",
      ">> Avg. Reward per Action: 0.5575\n",
      "Iteration:  450 | Avg. Reward: 64.43 | Var. Reward: 356.8581 | Avg. Action Count: 147.92 | Actor Loss: 0.0030 | Critic Loss: 747.6594\n",
      ">> Avg. Reward per Action: 0.4356\n",
      "Iteration:  460 | Avg. Reward: 104.92 | Var. Reward: 348.1818 | Avg. Action Count: 124.58 | Actor Loss: 0.0028 | Critic Loss: 852.4243\n",
      ">> Avg. Reward per Action: 0.8422\n",
      "Iteration:  470 | Avg. Reward: 157.64 | Var. Reward: 302.2211 | Avg. Action Count: 107.36 | Actor Loss: 0.0021 | Critic Loss: 775.1290\n",
      ">> Avg. Reward per Action: 1.4683\n",
      "Iteration:  480 | Avg. Reward: 103.62 | Var. Reward: 342.8050 | Avg. Action Count: 127.58 | Actor Loss: 0.0158 | Critic Loss: 1807.5251\n",
      ">> Avg. Reward per Action: 0.8122\n",
      "Iteration:  490 | Avg. Reward: 72.68 | Var. Reward: 383.3664 | Avg. Action Count: 136.97 | Actor Loss: -0.0014 | Critic Loss: 712.6376\n",
      ">> Avg. Reward per Action: 0.5306\n",
      "Iteration:  500 | Avg. Reward: 37.27 | Var. Reward: 431.5232 | Avg. Action Count: 143.63 | Actor Loss: 0.0067 | Critic Loss: 1514.4059\n",
      ">> Avg. Reward per Action: 0.2595\n",
      "Iteration:  510 | Avg. Reward: 43.61 | Var. Reward: 391.2175 | Avg. Action Count: 151.04 | Actor Loss: 0.0016 | Critic Loss: 1113.3805\n",
      ">> Avg. Reward per Action: 0.2887\n",
      "Iteration:  520 | Avg. Reward: 105.29 | Var. Reward: 340.4844 | Avg. Action Count: 129.61 | Actor Loss: 0.0051 | Critic Loss: 1290.5831\n",
      ">> Avg. Reward per Action: 0.8124\n",
      "Iteration:  530 | Avg. Reward: 155.50 | Var. Reward: 290.6620 | Avg. Action Count: 110.95 | Actor Loss: 0.0046 | Critic Loss: 1183.1553\n",
      ">> Avg. Reward per Action: 1.4015\n",
      "Iteration:  540 | Avg. Reward: 121.23 | Var. Reward: 302.8907 | Avg. Action Count: 125.92 | Actor Loss: 0.0056 | Critic Loss: 1322.7836\n",
      ">> Avg. Reward per Action: 0.9628\n",
      "Iteration:  550 | Avg. Reward: 83.93 | Var. Reward: 333.9657 | Avg. Action Count: 142.52 | Actor Loss: 0.0024 | Critic Loss: 1220.1195\n",
      ">> Avg. Reward per Action: 0.5889\n",
      "Iteration:  560 | Avg. Reward: 84.78 | Var. Reward: 369.9197 | Avg. Action Count: 134.97 | Actor Loss: 0.0059 | Critic Loss: 1206.4457\n",
      ">> Avg. Reward per Action: 0.6281\n",
      "Iteration:  570 | Avg. Reward: 124.71 | Var. Reward: 328.0367 | Avg. Action Count: 118.79 | Actor Loss: 0.0030 | Critic Loss: 1286.7771\n",
      ">> Avg. Reward per Action: 1.0498\n",
      "Iteration:  580 | Avg. Reward: 3.96 | Var. Reward: 425.5168 | Avg. Action Count: 165.89 | Actor Loss: 0.0055 | Critic Loss: 1009.4261\n",
      ">> Avg. Reward per Action: 0.0239\n",
      "Iteration:  590 | Avg. Reward: 113.06 | Var. Reward: 330.2511 | Avg. Action Count: 131.59 | Actor Loss: 0.0066 | Critic Loss: 1695.0668\n",
      ">> Avg. Reward per Action: 0.8592\n",
      "Iteration:  600 | Avg. Reward: 120.95 | Var. Reward: 348.3099 | Avg. Action Count: 119.05 | Actor Loss: -0.0022 | Critic Loss: 727.7524\n",
      ">> Avg. Reward per Action: 1.0160\n",
      "Iteration:  610 | Avg. Reward: 110.86 | Var. Reward: 300.7955 | Avg. Action Count: 137.54 | Actor Loss: 0.0023 | Critic Loss: 1037.2194\n",
      ">> Avg. Reward per Action: 0.8060\n",
      "Iteration:  620 | Avg. Reward: 74.28 | Var. Reward: 329.5799 | Avg. Action Count: 147.12 | Actor Loss: 0.0054 | Critic Loss: 1640.8501\n",
      ">> Avg. Reward per Action: 0.5049\n",
      "Iteration:  630 | Avg. Reward: 153.29 | Var. Reward: 283.9028 | Avg. Action Count: 117.71 | Actor Loss: 0.0063 | Critic Loss: 840.7504\n",
      ">> Avg. Reward per Action: 1.3023\n",
      "Iteration:  640 | Avg. Reward: 91.00 | Var. Reward: 361.1272 | Avg. Action Count: 130.55 | Actor Loss: -0.0006 | Critic Loss: 497.2387\n",
      ">> Avg. Reward per Action: 0.6971\n",
      "Iteration:  650 | Avg. Reward: 192.52 | Var. Reward: 224.4969 | Avg. Action Count: 105.98 | Actor Loss: 0.0086 | Critic Loss: 1406.8361\n",
      ">> Avg. Reward per Action: 1.8166\n",
      "Iteration:  660 | Avg. Reward: 134.80 | Var. Reward: 313.0727 | Avg. Action Count: 124.50 | Actor Loss: 0.0035 | Critic Loss: 1065.9327\n",
      ">> Avg. Reward per Action: 1.0827\n",
      "Iteration:  670 | Avg. Reward: 162.56 | Var. Reward: 267.2402 | Avg. Action Count: 116.19 | Actor Loss: 0.0016 | Critic Loss: 1235.2430\n",
      ">> Avg. Reward per Action: 1.3991\n",
      "Iteration:  680 | Avg. Reward: 93.00 | Var. Reward: 342.5535 | Avg. Action Count: 146.95 | Actor Loss: 0.0014 | Critic Loss: 565.2263\n",
      ">> Avg. Reward per Action: 0.6329\n",
      "Iteration:  690 | Avg. Reward: 197.16 | Var. Reward: 246.7740 | Avg. Action Count: 93.34 | Actor Loss: 0.0077 | Critic Loss: 1507.1808\n",
      ">> Avg. Reward per Action: 2.1123\n",
      "Iteration:  700 | Avg. Reward: 90.93 | Var. Reward: 361.0704 | Avg. Action Count: 138.42 | Actor Loss: 0.0072 | Critic Loss: 1243.3601\n",
      ">> Avg. Reward per Action: 0.6569\n",
      "Iteration:  710 | Avg. Reward: 148.83 | Var. Reward: 289.9049 | Avg. Action Count: 118.42 | Actor Loss: 0.0011 | Critic Loss: 815.5571\n",
      ">> Avg. Reward per Action: 1.2568\n",
      "Iteration:  720 | Avg. Reward: 27.14 | Var. Reward: 390.7617 | Avg. Action Count: 162.06 | Actor Loss: -0.0012 | Critic Loss: 691.9526\n",
      ">> Avg. Reward per Action: 0.1675\n",
      "Iteration:  730 | Avg. Reward: 108.46 | Var. Reward: 307.2660 | Avg. Action Count: 142.29 | Actor Loss: 0.0026 | Critic Loss: 861.1895\n",
      ">> Avg. Reward per Action: 0.7622\n",
      "Iteration:  740 | Avg. Reward: 83.11 | Var. Reward: 344.1700 | Avg. Action Count: 147.14 | Actor Loss: 0.0059 | Critic Loss: 838.6281\n",
      ">> Avg. Reward per Action: 0.5648\n",
      "Iteration:  750 | Avg. Reward: 67.62 | Var. Reward: 378.3513 | Avg. Action Count: 147.98 | Actor Loss: 0.0108 | Critic Loss: 1566.2980\n",
      ">> Avg. Reward per Action: 0.4570\n",
      "Iteration:  760 | Avg. Reward: 134.16 | Var. Reward: 331.3372 | Avg. Action Count: 122.39 | Actor Loss: 0.0007 | Critic Loss: 1054.6383\n",
      ">> Avg. Reward per Action: 1.0962\n",
      "Iteration:  770 | Avg. Reward: 93.33 | Var. Reward: 319.8986 | Avg. Action Count: 143.07 | Actor Loss: 0.0018 | Critic Loss: 771.6782\n",
      ">> Avg. Reward per Action: 0.6523\n",
      "Iteration:  780 | Avg. Reward: 95.05 | Var. Reward: 371.6130 | Avg. Action Count: 137.10 | Actor Loss: 0.0040 | Critic Loss: 696.2361\n",
      ">> Avg. Reward per Action: 0.6933\n",
      "Iteration:  790 | Avg. Reward: 64.22 | Var. Reward: 409.0088 | Avg. Action Count: 141.73 | Actor Loss: 0.0043 | Critic Loss: 868.0458\n",
      ">> Avg. Reward per Action: 0.4531\n",
      "Iteration:  800 | Avg. Reward: 122.78 | Var. Reward: 311.1250 | Avg. Action Count: 136.17 | Actor Loss: 0.0026 | Critic Loss: 1162.6941\n",
      ">> Avg. Reward per Action: 0.9017\n",
      "Iteration:  810 | Avg. Reward: 99.32 | Var. Reward: 354.6244 | Avg. Action Count: 138.23 | Actor Loss: 0.0015 | Critic Loss: 632.5621\n",
      ">> Avg. Reward per Action: 0.7185\n",
      "Iteration:  820 | Avg. Reward: 118.81 | Var. Reward: 341.5939 | Avg. Action Count: 133.29 | Actor Loss: -0.0003 | Critic Loss: 755.3206\n",
      ">> Avg. Reward per Action: 0.8914\n",
      "Iteration:  830 | Avg. Reward: 25.10 | Var. Reward: 387.9663 | Avg. Action Count: 170.00 | Actor Loss: 0.0011 | Critic Loss: 615.1999\n",
      ">> Avg. Reward per Action: 0.1476\n",
      "Iteration:  840 | Avg. Reward: 73.90 | Var. Reward: 344.7877 | Avg. Action Count: 148.95 | Actor Loss: 0.0013 | Critic Loss: 784.5786\n",
      ">> Avg. Reward per Action: 0.4961\n",
      "Iteration:  850 | Avg. Reward: 160.28 | Var. Reward: 275.0832 | Avg. Action Count: 123.42 | Actor Loss: -0.0007 | Critic Loss: 651.5682\n",
      ">> Avg. Reward per Action: 1.2987\n",
      "Iteration:  860 | Avg. Reward: 24.23 | Var. Reward: 388.1374 | Avg. Action Count: 166.62 | Actor Loss: 0.0044 | Critic Loss: 724.8467\n",
      ">> Avg. Reward per Action: 0.1454\n",
      "Iteration:  870 | Avg. Reward: 155.57 | Var. Reward: 262.5819 | Avg. Action Count: 129.93 | Actor Loss: 0.0068 | Critic Loss: 444.7442\n",
      ">> Avg. Reward per Action: 1.1973\n",
      "Iteration:  880 | Avg. Reward: 99.06 | Var. Reward: 337.4014 | Avg. Action Count: 141.29 | Actor Loss: -0.0022 | Critic Loss: 806.2066\n",
      ">> Avg. Reward per Action: 0.7011\n"
     ]
    },
    {
     "name": "stderr",
     "output_type": "stream",
     "text": [
      "\u001b[32m[I 2021-04-04 09:06:34,495]\u001b[0m Trial 0 finished with value: 2.1122776944503965 and parameters: {'n_layers': 1, 'hidden_size': 64, 'learning_rate': 0.00017368675440136794, 'gamma': 0.3578931680604361, 'multiplier': 5}. Best is trial 0 with value: 2.1122776944503965.\u001b[0m\n"
     ]
    },
    {
     "name": "stdout",
     "output_type": "stream",
     "text": [
      "Iteration:  890 | Avg. Reward: 77.21 | Var. Reward: 376.3561 | Avg. Action Count: 145.24 | Actor Loss: 0.0050 | Critic Loss: 710.6005\n",
      ">> Avg. Reward per Action: 0.5316\n",
      "Early stopping: Have no improvement since 690 iterations \n",
      "\n",
      "Iteration:   10 | Avg. Reward: -120.58 | Var. Reward: 451.1026 | Avg. Action Count: 199.38 | Actor Loss: -0.0032 | Critic Loss: 758.0088\n",
      ">> Avg. Reward per Action: -0.6048\n",
      "Iteration:   20 | Avg. Reward: 164.93 | Var. Reward: 264.9488 | Avg. Action Count: 107.07 | Actor Loss: -0.0009 | Critic Loss: 701.1316\n",
      ">> Avg. Reward per Action: 1.5404\n",
      "Iteration:   30 | Avg. Reward: -79.67 | Var. Reward: 465.7922 | Avg. Action Count: 186.82 | Actor Loss: 0.0080 | Critic Loss: 1113.3135\n",
      ">> Avg. Reward per Action: -0.4265\n",
      "Iteration:   40 | Avg. Reward: -54.77 | Var. Reward: 480.3029 | Avg. Action Count: 168.52 | Actor Loss: 0.0207 | Critic Loss: 844.7067\n",
      ">> Avg. Reward per Action: -0.3250\n",
      "Iteration:   50 | Avg. Reward: 121.71 | Var. Reward: 321.0461 | Avg. Action Count: 115.09 | Actor Loss: 0.0354 | Critic Loss: 1378.0656\n",
      ">> Avg. Reward per Action: 1.0575\n",
      "Iteration:   60 | Avg. Reward: 42.56 | Var. Reward: 364.6815 | Avg. Action Count: 151.89 | Actor Loss: 0.0303 | Critic Loss: 737.6213\n",
      ">> Avg. Reward per Action: 0.2802\n",
      "Iteration:   70 | Avg. Reward: 186.65 | Var. Reward: 273.2065 | Avg. Action Count: 89.00 | Actor Loss: 0.0020 | Critic Loss: 587.3624\n",
      ">> Avg. Reward per Action: 2.0972\n",
      "Iteration:   80 | Avg. Reward: 218.39 | Var. Reward: 278.4517 | Avg. Action Count: 84.21 | Actor Loss: 0.0100 | Critic Loss: 366.9075\n",
      ">> Avg. Reward per Action: 2.5934\n",
      "Iteration:   90 | Avg. Reward: 247.12 | Var. Reward: 135.2933 | Avg. Action Count: 79.23 | Actor Loss: -0.0047 | Critic Loss: 675.3708\n",
      ">> Avg. Reward per Action: 3.1190\n",
      "Iteration:  100 | Avg. Reward: 62.50 | Var. Reward: 358.2038 | Avg. Action Count: 158.65 | Actor Loss: 0.2424 | Critic Loss: 413.6964\n",
      ">> Avg. Reward per Action: 0.3939\n",
      "Iteration:  110 | Avg. Reward: -16.55 | Var. Reward: 424.3974 | Avg. Action Count: 178.65 | Actor Loss: -0.0030 | Critic Loss: 225.7460\n",
      ">> Avg. Reward per Action: -0.0926\n",
      "Iteration:  120 | Avg. Reward: 226.17 | Var. Reward: 193.8240 | Avg. Action Count: 92.73 | Actor Loss: 0.0014 | Critic Loss: 705.7816\n",
      ">> Avg. Reward per Action: 2.4390\n",
      "Iteration:  130 | Avg. Reward: 73.49 | Var. Reward: 352.5021 | Avg. Action Count: 154.96 | Actor Loss: -0.0041 | Critic Loss: 326.3042\n",
      ">> Avg. Reward per Action: 0.4743\n",
      "Iteration:  140 | Avg. Reward: 120.06 | Var. Reward: 338.1031 | Avg. Action Count: 126.94 | Actor Loss: 0.1299 | Critic Loss: 293.0963\n",
      ">> Avg. Reward per Action: 0.9458\n",
      "Iteration:  150 | Avg. Reward: 92.62 | Var. Reward: 363.8719 | Avg. Action Count: 149.23 | Actor Loss: 0.0016 | Critic Loss: 150.4740\n",
      ">> Avg. Reward per Action: 0.6207\n",
      "Iteration:  160 | Avg. Reward: 116.45 | Var. Reward: 335.6701 | Avg. Action Count: 149.65 | Actor Loss: 0.2344 | Critic Loss: 513.5918\n",
      ">> Avg. Reward per Action: 0.7781\n",
      "Iteration:  170 | Avg. Reward: 267.89 | Var. Reward: 155.8061 | Avg. Action Count: 78.81 | Actor Loss: 0.0154 | Critic Loss: 412.6215\n",
      ">> Avg. Reward per Action: 3.3992\n",
      "Iteration:  180 | Avg. Reward: 223.32 | Var. Reward: 257.1117 | Avg. Action Count: 95.68 | Actor Loss: -0.0016 | Critic Loss: 249.8731\n",
      ">> Avg. Reward per Action: 2.3340\n",
      "Iteration:  190 | Avg. Reward: 89.62 | Var. Reward: 355.3513 | Avg. Action Count: 160.33 | Actor Loss: 0.0033 | Critic Loss: 325.5265\n",
      ">> Avg. Reward per Action: 0.5590\n",
      "Iteration:  200 | Avg. Reward: 54.19 | Var. Reward: 371.8306 | Avg. Action Count: 173.76 | Actor Loss: 0.0018 | Critic Loss: 109.9453\n",
      ">> Avg. Reward per Action: 0.3119\n",
      "Iteration:  210 | Avg. Reward: 214.37 | Var. Reward: 231.7053 | Avg. Action Count: 105.38 | Actor Loss: 0.0447 | Critic Loss: 324.8362\n",
      ">> Avg. Reward per Action: 2.0343\n",
      "Iteration:  220 | Avg. Reward: 220.12 | Var. Reward: 255.8033 | Avg. Action Count: 98.83 | Actor Loss: 0.0115 | Critic Loss: 486.8835\n",
      ">> Avg. Reward per Action: 2.2273\n",
      "Iteration:  230 | Avg. Reward: 208.51 | Var. Reward: 235.8549 | Avg. Action Count: 109.24 | Actor Loss: 0.0076 | Critic Loss: 304.1711\n",
      ">> Avg. Reward per Action: 1.9087\n",
      "Iteration:  240 | Avg. Reward: 321.12 | Var. Reward: 84.4587 | Avg. Action Count: 49.53 | Actor Loss: 0.0763 | Critic Loss: 1057.5955\n",
      ">> Avg. Reward per Action: 6.4833\n",
      "Iteration:  250 | Avg. Reward: 266.81 | Var. Reward: 176.2655 | Avg. Action Count: 80.19 | Actor Loss: 0.0447 | Critic Loss: 433.5468\n",
      ">> Avg. Reward per Action: 3.3272\n",
      "Iteration:  260 | Avg. Reward: 257.64 | Var. Reward: 140.3192 | Avg. Action Count: 89.46 | Actor Loss: 0.0209 | Critic Loss: 435.8030\n",
      ">> Avg. Reward per Action: 2.8799\n",
      "Iteration:  270 | Avg. Reward: 314.26 | Var. Reward: 99.7671 | Avg. Action Count: 54.49 | Actor Loss: 0.0969 | Critic Loss: 717.5401\n",
      ">> Avg. Reward per Action: 5.7673\n",
      "Iteration:  280 | Avg. Reward: 139.28 | Var. Reward: 326.7230 | Avg. Action Count: 136.52 | Actor Loss: 0.0125 | Critic Loss: 438.2775\n",
      ">> Avg. Reward per Action: 1.0202\n",
      "Iteration:  290 | Avg. Reward: 292.89 | Var. Reward: 96.7639 | Avg. Action Count: 68.61 | Actor Loss: 0.0132 | Critic Loss: 448.7398\n",
      ">> Avg. Reward per Action: 4.2689\n",
      "Iteration:  300 | Avg. Reward: 201.94 | Var. Reward: 232.5152 | Avg. Action Count: 112.46 | Actor Loss: -0.0007 | Critic Loss: 354.7375\n",
      ">> Avg. Reward per Action: 1.7957\n",
      "Iteration:  310 | Avg. Reward: 269.23 | Var. Reward: 151.5967 | Avg. Action Count: 83.32 | Actor Loss: 0.0341 | Critic Loss: 655.3847\n",
      ">> Avg. Reward per Action: 3.2313\n",
      "Iteration:  320 | Avg. Reward: 283.41 | Var. Reward: 136.6681 | Avg. Action Count: 71.54 | Actor Loss: -0.0013 | Critic Loss: 240.7126\n",
      ">> Avg. Reward per Action: 3.9616\n",
      "Iteration:  330 | Avg. Reward: 190.58 | Var. Reward: 278.2643 | Avg. Action Count: 114.07 | Actor Loss: 0.1098 | Critic Loss: 152.6405\n",
      ">> Avg. Reward per Action: 1.6707\n",
      "Iteration:  340 | Avg. Reward: 218.85 | Var. Reward: 250.3626 | Avg. Action Count: 103.05 | Actor Loss: 0.0146 | Critic Loss: 243.5171\n",
      ">> Avg. Reward per Action: 2.1237\n",
      "Iteration:  350 | Avg. Reward: 295.04 | Var. Reward: 127.8258 | Avg. Action Count: 65.51 | Actor Loss: 0.0460 | Critic Loss: 668.3617\n",
      ">> Avg. Reward per Action: 4.5037\n",
      "Iteration:  360 | Avg. Reward: 175.11 | Var. Reward: 323.0233 | Avg. Action Count: 112.69 | Actor Loss: 0.0308 | Critic Loss: 348.5324\n",
      ">> Avg. Reward per Action: 1.5539\n",
      "Iteration:  370 | Avg. Reward: 250.09 | Var. Reward: 174.9185 | Avg. Action Count: 91.51 | Actor Loss: 0.0283 | Critic Loss: 461.1796\n",
      ">> Avg. Reward per Action: 2.7329\n",
      "Iteration:  380 | Avg. Reward: 92.19 | Var. Reward: 362.3529 | Avg. Action Count: 149.91 | Actor Loss: 0.0344 | Critic Loss: 460.1630\n",
      ">> Avg. Reward per Action: 0.6150\n",
      "Iteration:  390 | Avg. Reward: 278.50 | Var. Reward: 177.1073 | Avg. Action Count: 67.90 | Actor Loss: 0.0017 | Critic Loss: 287.8943\n",
      ">> Avg. Reward per Action: 4.1016\n",
      "Iteration:  400 | Avg. Reward: 261.77 | Var. Reward: 192.1125 | Avg. Action Count: 81.03 | Actor Loss: 0.0261 | Critic Loss: 110.4420\n",
      ">> Avg. Reward per Action: 3.2305\n",
      "Iteration:  410 | Avg. Reward: 261.76 | Var. Reward: 193.2639 | Avg. Action Count: 88.59 | Actor Loss: 0.0133 | Critic Loss: 80.0559\n",
      ">> Avg. Reward per Action: 2.9547\n",
      "Iteration:  420 | Avg. Reward: 248.97 | Var. Reward: 214.6262 | Avg. Action Count: 88.33 | Actor Loss: 0.0461 | Critic Loss: 412.0603\n",
      ">> Avg. Reward per Action: 2.8186\n",
      "Iteration:  430 | Avg. Reward: 242.46 | Var. Reward: 170.1333 | Avg. Action Count: 99.94 | Actor Loss: 0.0162 | Critic Loss: 465.5237\n",
      ">> Avg. Reward per Action: 2.4261\n"
     ]
    },
    {
     "name": "stderr",
     "output_type": "stream",
     "text": [
      "\u001b[32m[I 2021-04-04 09:12:28,634]\u001b[0m Trial 1 finished with value: 6.483343428225318 and parameters: {'n_layers': 2, 'hidden_size': 128, 'learning_rate': 0.0008722336049382319, 'gamma': 0.5718191701176203, 'multiplier': 3}. Best is trial 1 with value: 6.483343428225318.\u001b[0m\n"
     ]
    },
    {
     "name": "stdout",
     "output_type": "stream",
     "text": [
      "Iteration:  440 | Avg. Reward: 147.08 | Var. Reward: 284.4831 | Avg. Action Count: 143.32 | Actor Loss: -0.0089 | Critic Loss: 330.3843\n",
      ">> Avg. Reward per Action: 1.0262\n",
      "Early stopping: Have no improvement since 240 iterations \n",
      "\n",
      "Iteration:   10 | Avg. Reward: -170.42 | Var. Reward: 534.1068 | Avg. Action Count: 191.62 | Actor Loss: 0.0227 | Critic Loss: 2264.9131\n",
      ">> Avg. Reward per Action: -0.8894\n",
      "Iteration:   20 | Avg. Reward: 96.70 | Var. Reward: 375.8029 | Avg. Action Count: 127.65 | Actor Loss: 0.0005 | Critic Loss: 475.0349\n",
      ">> Avg. Reward per Action: 0.7575\n",
      "Iteration:   30 | Avg. Reward: 44.32 | Var. Reward: 379.5570 | Avg. Action Count: 139.08 | Actor Loss: -0.0064 | Critic Loss: 1277.8602\n",
      ">> Avg. Reward per Action: 0.3187\n",
      "Iteration:   40 | Avg. Reward: 175.32 | Var. Reward: 277.3114 | Avg. Action Count: 97.63 | Actor Loss: -0.0028 | Critic Loss: 1033.4396\n",
      ">> Avg. Reward per Action: 1.7958\n",
      "Iteration:   50 | Avg. Reward: 236.82 | Var. Reward: 143.3532 | Avg. Action Count: 79.33 | Actor Loss: 0.0298 | Critic Loss: 1358.9899\n",
      ">> Avg. Reward per Action: 2.9853\n",
      "Iteration:   60 | Avg. Reward: 124.44 | Var. Reward: 370.3270 | Avg. Action Count: 111.81 | Actor Loss: 0.0597 | Critic Loss: 677.1649\n",
      ">> Avg. Reward per Action: 1.1130\n",
      "Iteration:   70 | Avg. Reward: 295.59 | Var. Reward: 96.8393 | Avg. Action Count: 55.01 | Actor Loss: 0.0119 | Critic Loss: 1375.0027\n",
      ">> Avg. Reward per Action: 5.3734\n",
      "Iteration:   80 | Avg. Reward: 244.91 | Var. Reward: 198.4591 | Avg. Action Count: 88.79 | Actor Loss: 0.0063 | Critic Loss: 376.5111\n",
      ">> Avg. Reward per Action: 2.7583\n",
      "Iteration:   90 | Avg. Reward: 238.33 | Var. Reward: 165.0837 | Avg. Action Count: 77.52 | Actor Loss: -0.0010 | Critic Loss: 1986.4941\n",
      ">> Avg. Reward per Action: 3.0744\n",
      "Iteration:  100 | Avg. Reward: 230.91 | Var. Reward: 235.8924 | Avg. Action Count: 78.74 | Actor Loss: -0.0009 | Critic Loss: 1226.5632\n",
      ">> Avg. Reward per Action: 2.9326\n",
      "Iteration:  110 | Avg. Reward: 141.42 | Var. Reward: 241.8560 | Avg. Action Count: 116.23 | Actor Loss: 0.0255 | Critic Loss: 1095.4683\n",
      ">> Avg. Reward per Action: 1.2167\n",
      "Iteration:  120 | Avg. Reward: 164.47 | Var. Reward: 241.7571 | Avg. Action Count: 106.13 | Actor Loss: -0.0055 | Critic Loss: 1268.1859\n",
      ">> Avg. Reward per Action: 1.5497\n",
      "Iteration:  130 | Avg. Reward: 28.06 | Var. Reward: 422.3913 | Avg. Action Count: 148.69 | Actor Loss: 0.1127 | Critic Loss: 1654.3698\n",
      ">> Avg. Reward per Action: 0.1887\n",
      "Iteration:  140 | Avg. Reward: 237.50 | Var. Reward: 177.8836 | Avg. Action Count: 87.80 | Actor Loss: 0.0046 | Critic Loss: 1357.1360\n",
      ">> Avg. Reward per Action: 2.7050\n",
      "Iteration:  150 | Avg. Reward: 231.08 | Var. Reward: 170.9411 | Avg. Action Count: 90.22 | Actor Loss: 0.9109 | Critic Loss: 1201.2179\n",
      ">> Avg. Reward per Action: 2.5613\n",
      "Iteration:  160 | Avg. Reward: 267.34 | Var. Reward: 132.5705 | Avg. Action Count: 73.46 | Actor Loss: 0.0071 | Critic Loss: 1413.6488\n",
      ">> Avg. Reward per Action: 3.6393\n",
      "Iteration:  170 | Avg. Reward: 239.55 | Var. Reward: 139.1288 | Avg. Action Count: 81.10 | Actor Loss: 0.0319 | Critic Loss: 2624.9797\n",
      ">> Avg. Reward per Action: 2.9538\n",
      "Iteration:  180 | Avg. Reward: 202.50 | Var. Reward: 192.9515 | Avg. Action Count: 99.85 | Actor Loss: 0.0394 | Critic Loss: 1130.0294\n",
      ">> Avg. Reward per Action: 2.0280\n",
      "Iteration:  190 | Avg. Reward: 215.38 | Var. Reward: 239.5705 | Avg. Action Count: 97.07 | Actor Loss: -0.0075 | Critic Loss: 753.1283\n",
      ">> Avg. Reward per Action: 2.2188\n",
      "Iteration:  200 | Avg. Reward: 236.79 | Var. Reward: 203.1094 | Avg. Action Count: 76.66 | Actor Loss: 0.0509 | Critic Loss: 1607.3979\n",
      ">> Avg. Reward per Action: 3.0888\n",
      "Iteration:  210 | Avg. Reward: 288.08 | Var. Reward: 126.1358 | Avg. Action Count: 55.32 | Actor Loss: 0.0069 | Critic Loss: 701.5940\n",
      ">> Avg. Reward per Action: 5.2075\n",
      "Iteration:  220 | Avg. Reward: 241.66 | Var. Reward: 174.1376 | Avg. Action Count: 86.39 | Actor Loss: 0.2889 | Critic Loss: 1468.6453\n",
      ">> Avg. Reward per Action: 2.7973\n",
      "Iteration:  230 | Avg. Reward: 209.79 | Var. Reward: 234.9500 | Avg. Action Count: 87.01 | Actor Loss: 0.0291 | Critic Loss: 1018.3928\n",
      ">> Avg. Reward per Action: 2.4111\n",
      "Iteration:  240 | Avg. Reward: 192.89 | Var. Reward: 277.0597 | Avg. Action Count: 104.41 | Actor Loss: 0.0148 | Critic Loss: 1517.7474\n",
      ">> Avg. Reward per Action: 1.8474\n",
      "Iteration:  250 | Avg. Reward: 123.02 | Var. Reward: 324.9020 | Avg. Action Count: 133.58 | Actor Loss: 0.0803 | Critic Loss: 877.0035\n",
      ">> Avg. Reward per Action: 0.9209\n",
      "Iteration:  260 | Avg. Reward: 268.58 | Var. Reward: 158.8962 | Avg. Action Count: 68.82 | Actor Loss: 0.0028 | Critic Loss: 778.9445\n",
      ">> Avg. Reward per Action: 3.9026\n"
     ]
    },
    {
     "name": "stderr",
     "output_type": "stream",
     "text": [
      "\u001b[32m[I 2021-04-04 09:17:53,439]\u001b[0m Trial 2 finished with value: 5.3733866569714595 and parameters: {'n_layers': 2, 'hidden_size': 256, 'learning_rate': 0.0032978325894953034, 'gamma': 0.7509992545385187, 'multiplier': 5}. Best is trial 1 with value: 6.483343428225318.\u001b[0m\n"
     ]
    },
    {
     "name": "stdout",
     "output_type": "stream",
     "text": [
      "Iteration:  270 | Avg. Reward: 264.65 | Var. Reward: 158.4545 | Avg. Action Count: 74.35 | Actor Loss: 0.0221 | Critic Loss: 869.7917\n",
      ">> Avg. Reward per Action: 3.5595\n",
      "Early stopping: Have no improvement since 70 iterations \n",
      "\n",
      "Iteration:   10 | Avg. Reward: -168.56 | Var. Reward: 479.1728 | Avg. Action Count: 204.61 | Actor Loss: -0.0058 | Critic Loss: 903.9955\n",
      ">> Avg. Reward per Action: -0.8238\n",
      "Iteration:   20 | Avg. Reward: 85.95 | Var. Reward: 287.4326 | Avg. Action Count: 129.40 | Actor Loss: -0.0106 | Critic Loss: 1411.9645\n",
      ">> Avg. Reward per Action: 0.6642\n",
      "Iteration:   30 | Avg. Reward: 135.87 | Var. Reward: 303.9644 | Avg. Action Count: 117.73 | Actor Loss: -0.0095 | Critic Loss: 1538.2161\n",
      ">> Avg. Reward per Action: 1.1541\n",
      "Iteration:   40 | Avg. Reward: 96.38 | Var. Reward: 330.4364 | Avg. Action Count: 132.67 | Actor Loss: 0.0098 | Critic Loss: 259.6360\n",
      ">> Avg. Reward per Action: 0.7265\n",
      "Iteration:   50 | Avg. Reward: -196.11 | Var. Reward: 537.2646 | Avg. Action Count: 214.56 | Actor Loss: 0.0057 | Critic Loss: 611.6370\n",
      ">> Avg. Reward per Action: -0.9140\n",
      "Iteration:   60 | Avg. Reward: 242.43 | Var. Reward: 144.1334 | Avg. Action Count: 82.57 | Actor Loss: 0.0080 | Critic Loss: 741.3963\n",
      ">> Avg. Reward per Action: 2.9361\n",
      "Iteration:   70 | Avg. Reward: -168.98 | Var. Reward: 533.1425 | Avg. Action Count: 210.28 | Actor Loss: 0.0856 | Critic Loss: 540.6205\n",
      ">> Avg. Reward per Action: -0.8036\n",
      "Iteration:   80 | Avg. Reward: 72.45 | Var. Reward: 365.3834 | Avg. Action Count: 157.90 | Actor Loss: 0.0497 | Critic Loss: 357.8683\n",
      ">> Avg. Reward per Action: 0.4588\n",
      "Iteration:   90 | Avg. Reward: 140.75 | Var. Reward: 295.8162 | Avg. Action Count: 133.70 | Actor Loss: 0.0183 | Critic Loss: 327.6531\n",
      ">> Avg. Reward per Action: 1.0527\n",
      "Iteration:  100 | Avg. Reward: -20.09 | Var. Reward: 412.1950 | Avg. Action Count: 197.59 | Actor Loss: 0.0015 | Critic Loss: 196.1009\n",
      ">> Avg. Reward per Action: -0.1017\n",
      "Iteration:  110 | Avg. Reward: -120.12 | Var. Reward: 440.5026 | Avg. Action Count: 232.17 | Actor Loss: 0.0008 | Critic Loss: 278.7517\n",
      ">> Avg. Reward per Action: -0.5174\n",
      "Iteration:  120 | Avg. Reward: 14.49 | Var. Reward: 404.7703 | Avg. Action Count: 181.21 | Actor Loss: 0.0050 | Critic Loss: 103.7078\n",
      ">> Avg. Reward per Action: 0.0800\n",
      "Iteration:  130 | Avg. Reward: 309.68 | Var. Reward: 84.1690 | Avg. Action Count: 55.97 | Actor Loss: 0.0413 | Critic Loss: 603.4615\n",
      ">> Avg. Reward per Action: 5.5330\n",
      "Iteration:  140 | Avg. Reward: -88.80 | Var. Reward: 440.8429 | Avg. Action Count: 216.10 | Actor Loss: 0.0460 | Critic Loss: 57.5351\n",
      ">> Avg. Reward per Action: -0.4109\n",
      "Iteration:  150 | Avg. Reward: 297.34 | Var. Reward: 104.2790 | Avg. Action Count: 69.56 | Actor Loss: 0.0279 | Critic Loss: 14.4312\n",
      ">> Avg. Reward per Action: 4.2746\n",
      "Iteration:  160 | Avg. Reward: 231.62 | Var. Reward: 218.2478 | Avg. Action Count: 100.98 | Actor Loss: 0.0207 | Critic Loss: 605.4755\n",
      ">> Avg. Reward per Action: 2.2937\n",
      "Iteration:  170 | Avg. Reward: -13.04 | Var. Reward: 352.3299 | Avg. Action Count: 220.04 | Actor Loss: 0.0037 | Critic Loss: 116.6559\n",
      ">> Avg. Reward per Action: -0.0593\n",
      "Iteration:  180 | Avg. Reward: 164.64 | Var. Reward: 267.9522 | Avg. Action Count: 140.26 | Actor Loss: 0.0119 | Critic Loss: 597.7055\n",
      ">> Avg. Reward per Action: 1.1738\n",
      "Iteration:  190 | Avg. Reward: 20.48 | Var. Reward: 363.9135 | Avg. Action Count: 198.42 | Actor Loss: 0.0230 | Critic Loss: 24.1990\n",
      ">> Avg. Reward per Action: 0.1032\n",
      "Iteration:  200 | Avg. Reward: 61.32 | Var. Reward: 350.7401 | Avg. Action Count: 184.98 | Actor Loss: 0.0309 | Critic Loss: 19.5528\n",
      ">> Avg. Reward per Action: 0.3315\n",
      "Iteration:  210 | Avg. Reward: 101.58 | Var. Reward: 337.0721 | Avg. Action Count: 167.77 | Actor Loss: -0.0039 | Critic Loss: 76.1696\n",
      ">> Avg. Reward per Action: 0.6055\n",
      "Iteration:  220 | Avg. Reward: 205.23 | Var. Reward: 252.3732 | Avg. Action Count: 124.17 | Actor Loss: 0.0262 | Critic Loss: 310.5513\n",
      ">> Avg. Reward per Action: 1.6528\n",
      "Iteration:  230 | Avg. Reward: 107.19 | Var. Reward: 339.1145 | Avg. Action Count: 161.36 | Actor Loss: 0.0174 | Critic Loss: 119.5038\n",
      ">> Avg. Reward per Action: 0.6643\n",
      "Iteration:  240 | Avg. Reward: 258.21 | Var. Reward: 197.2641 | Avg. Action Count: 99.94 | Actor Loss: 0.0181 | Critic Loss: 275.9950\n",
      ">> Avg. Reward per Action: 2.5837\n",
      "Iteration:  250 | Avg. Reward: 216.64 | Var. Reward: 230.4071 | Avg. Action Count: 122.91 | Actor Loss: 0.1083 | Critic Loss: 412.4691\n",
      ">> Avg. Reward per Action: 1.7626\n",
      "Iteration:  260 | Avg. Reward: -78.46 | Var. Reward: 395.4455 | Avg. Action Count: 233.61 | Actor Loss: 0.0122 | Critic Loss: 234.2365\n",
      ">> Avg. Reward per Action: -0.3359\n",
      "Iteration:  270 | Avg. Reward: 68.85 | Var. Reward: 340.6651 | Avg. Action Count: 188.00 | Actor Loss: 0.0396 | Critic Loss: 7.9801\n",
      ">> Avg. Reward per Action: 0.3662\n",
      "Iteration:  280 | Avg. Reward: 95.11 | Var. Reward: 338.0537 | Avg. Action Count: 170.04 | Actor Loss: 0.1734 | Critic Loss: 156.3657\n",
      ">> Avg. Reward per Action: 0.5593\n",
      "Iteration:  290 | Avg. Reward: 265.09 | Var. Reward: 184.3105 | Avg. Action Count: 89.31 | Actor Loss: -0.0093 | Critic Loss: 281.0451\n",
      ">> Avg. Reward per Action: 2.9682\n",
      "Iteration:  300 | Avg. Reward: 28.24 | Var. Reward: 364.0503 | Avg. Action Count: 200.71 | Actor Loss: 0.0098 | Critic Loss: 117.9198\n",
      ">> Avg. Reward per Action: 0.1407\n",
      "Iteration:  310 | Avg. Reward: 289.38 | Var. Reward: 134.1715 | Avg. Action Count: 81.57 | Actor Loss: 0.0029 | Critic Loss: 298.2997\n",
      ">> Avg. Reward per Action: 3.5476\n",
      "Iteration:  320 | Avg. Reward: 75.61 | Var. Reward: 339.3405 | Avg. Action Count: 183.84 | Actor Loss: 0.0174 | Critic Loss: 311.6753\n",
      ">> Avg. Reward per Action: 0.4113\n"
     ]
    },
    {
     "name": "stderr",
     "output_type": "stream",
     "text": [
      "\u001b[32m[I 2021-04-04 09:22:41,053]\u001b[0m Trial 3 finished with value: 5.532964087904235 and parameters: {'n_layers': 2, 'hidden_size': 64, 'learning_rate': 0.0008352060369911086, 'gamma': 0.31731596330742656, 'multiplier': 3}. Best is trial 1 with value: 6.483343428225318.\u001b[0m\n"
     ]
    },
    {
     "name": "stdout",
     "output_type": "stream",
     "text": [
      "Iteration:  330 | Avg. Reward: 269.90 | Var. Reward: 177.1822 | Avg. Action Count: 97.25 | Actor Loss: 0.0162 | Critic Loss: 124.2173\n",
      ">> Avg. Reward per Action: 2.7753\n",
      "Early stopping: Have no improvement since 130 iterations \n",
      "\n",
      "Iteration:   10 | Avg. Reward: 16.82 | Var. Reward: 365.8254 | Avg. Action Count: 159.73 | Actor Loss: -0.0097 | Critic Loss: 976.1965\n",
      ">> Avg. Reward per Action: 0.1053\n",
      "Iteration:   20 | Avg. Reward: 63.08 | Var. Reward: 386.8539 | Avg. Action Count: 139.42 | Actor Loss: -0.0018 | Critic Loss: 681.1425\n",
      ">> Avg. Reward per Action: 0.4524\n",
      "Iteration:   30 | Avg. Reward: 60.00 | Var. Reward: 346.0025 | Avg. Action Count: 143.00 | Actor Loss: 0.0690 | Critic Loss: 547.3768\n",
      ">> Avg. Reward per Action: 0.4196\n",
      "Iteration:   40 | Avg. Reward: 99.70 | Var. Reward: 357.5539 | Avg. Action Count: 138.00 | Actor Loss: -0.0012 | Critic Loss: 512.6351\n",
      ">> Avg. Reward per Action: 0.7225\n",
      "Iteration:   50 | Avg. Reward: -203.47 | Var. Reward: 466.2475 | Avg. Action Count: 241.67 | Actor Loss: 0.0354 | Critic Loss: 533.5005\n",
      ">> Avg. Reward per Action: -0.8419\n",
      "Iteration:   60 | Avg. Reward: 42.28 | Var. Reward: 344.4113 | Avg. Action Count: 157.17 | Actor Loss: 0.0123 | Critic Loss: 384.9459\n",
      ">> Avg. Reward per Action: 0.2690\n",
      "Iteration:   70 | Avg. Reward: 46.90 | Var. Reward: 371.9869 | Avg. Action Count: 164.00 | Actor Loss: 0.0007 | Critic Loss: 194.8923\n",
      ">> Avg. Reward per Action: 0.2860\n",
      "Iteration:   80 | Avg. Reward: 51.55 | Var. Reward: 341.7350 | Avg. Action Count: 176.75 | Actor Loss: 0.0112 | Critic Loss: 18.5915\n",
      ">> Avg. Reward per Action: 0.2917\n",
      "Iteration:   90 | Avg. Reward: 31.82 | Var. Reward: 384.3082 | Avg. Action Count: 169.88 | Actor Loss: 0.0157 | Critic Loss: 27.2408\n",
      ">> Avg. Reward per Action: 0.1873\n",
      "Iteration:  100 | Avg. Reward: -9.55 | Var. Reward: 397.5637 | Avg. Action Count: 202.20 | Actor Loss: 0.0481 | Critic Loss: 121.0288\n",
      ">> Avg. Reward per Action: -0.0472\n",
      "Iteration:  110 | Avg. Reward: 140.65 | Var. Reward: 281.6174 | Avg. Action Count: 149.50 | Actor Loss: 0.0005 | Critic Loss: 105.8316\n",
      ">> Avg. Reward per Action: 0.9408\n",
      "Iteration:  120 | Avg. Reward: 71.20 | Var. Reward: 351.6345 | Avg. Action Count: 175.35 | Actor Loss: 0.0057 | Critic Loss: 30.6571\n",
      ">> Avg. Reward per Action: 0.4060\n",
      "Iteration:  130 | Avg. Reward: -46.98 | Var. Reward: 384.1657 | Avg. Action Count: 225.53 | Actor Loss: 0.0329 | Critic Loss: 49.6138\n",
      ">> Avg. Reward per Action: -0.2083\n",
      "Iteration:  140 | Avg. Reward: -101.66 | Var. Reward: 396.4059 | Avg. Action Count: 240.61 | Actor Loss: 0.0515 | Critic Loss: 35.8297\n",
      ">> Avg. Reward per Action: -0.4225\n",
      "Iteration:  150 | Avg. Reward: 171.82 | Var. Reward: 262.4120 | Avg. Action Count: 137.08 | Actor Loss: 0.0185 | Critic Loss: 51.6648\n",
      ">> Avg. Reward per Action: 1.2534\n",
      "Iteration:  160 | Avg. Reward: 190.54 | Var. Reward: 277.4376 | Avg. Action Count: 123.81 | Actor Loss: 0.0185 | Critic Loss: 43.1782\n",
      ">> Avg. Reward per Action: 1.5390\n",
      "Iteration:  170 | Avg. Reward: 270.30 | Var. Reward: 142.3550 | Avg. Action Count: 92.70 | Actor Loss: 0.0126 | Critic Loss: 120.8378\n",
      ">> Avg. Reward per Action: 2.9159\n",
      "Iteration:  180 | Avg. Reward: 300.89 | Var. Reward: 97.5976 | Avg. Action Count: 73.61 | Actor Loss: 0.0284 | Critic Loss: 259.9589\n",
      ">> Avg. Reward per Action: 4.0876\n",
      "Iteration:  190 | Avg. Reward: 7.19 | Var. Reward: 399.3744 | Avg. Action Count: 192.86 | Actor Loss: 0.0213 | Critic Loss: 48.2251\n",
      ">> Avg. Reward per Action: 0.0373\n",
      "Iteration:  200 | Avg. Reward: 155.99 | Var. Reward: 297.7904 | Avg. Action Count: 141.51 | Actor Loss: 0.0002 | Critic Loss: 30.0397\n",
      ">> Avg. Reward per Action: 1.1023\n",
      "Iteration:  210 | Avg. Reward: 161.29 | Var. Reward: 300.9560 | Avg. Action Count: 126.61 | Actor Loss: 0.0106 | Critic Loss: 312.4465\n",
      ">> Avg. Reward per Action: 1.2739\n",
      "Iteration:  220 | Avg. Reward: 218.94 | Var. Reward: 201.7572 | Avg. Action Count: 123.81 | Actor Loss: 0.0227 | Critic Loss: 147.2710\n",
      ">> Avg. Reward per Action: 1.7684\n",
      "Iteration:  230 | Avg. Reward: 260.89 | Var. Reward: 185.3899 | Avg. Action Count: 92.66 | Actor Loss: 0.0340 | Critic Loss: 394.6660\n",
      ">> Avg. Reward per Action: 2.8156\n",
      "Iteration:  240 | Avg. Reward: -3.96 | Var. Reward: 385.5375 | Avg. Action Count: 204.06 | Actor Loss: -0.0047 | Critic Loss: 26.8288\n",
      ">> Avg. Reward per Action: -0.0194\n",
      "Iteration:  250 | Avg. Reward: 180.56 | Var. Reward: 258.8345 | Avg. Action Count: 143.84 | Actor Loss: 0.0187 | Critic Loss: 6.2236\n",
      ">> Avg. Reward per Action: 1.2553\n",
      "Iteration:  260 | Avg. Reward: -116.59 | Var. Reward: 416.0960 | Avg. Action Count: 240.24 | Actor Loss: 0.2846 | Critic Loss: 241.0907\n",
      ">> Avg. Reward per Action: -0.4853\n",
      "Iteration:  270 | Avg. Reward: 259.95 | Var. Reward: 183.1334 | Avg. Action Count: 98.55 | Actor Loss: 0.0428 | Critic Loss: 148.0787\n",
      ">> Avg. Reward per Action: 2.6377\n",
      "Iteration:  280 | Avg. Reward: 109.79 | Var. Reward: 335.2088 | Avg. Action Count: 160.11 | Actor Loss: -0.0018 | Critic Loss: 11.0573\n",
      ">> Avg. Reward per Action: 0.6857\n",
      "Iteration:  290 | Avg. Reward: -47.16 | Var. Reward: 379.8898 | Avg. Action Count: 224.61 | Actor Loss: 0.0935 | Critic Loss: 20.4341\n",
      ">> Avg. Reward per Action: -0.2100\n",
      "Iteration:  300 | Avg. Reward: 140.42 | Var. Reward: 300.6390 | Avg. Action Count: 156.43 | Actor Loss: 0.0091 | Critic Loss: 289.1910\n",
      ">> Avg. Reward per Action: 0.8977\n",
      "Iteration:  310 | Avg. Reward: 229.07 | Var. Reward: 164.2162 | Avg. Action Count: 125.83 | Actor Loss: 0.0490 | Critic Loss: 442.2683\n",
      ">> Avg. Reward per Action: 1.8205\n",
      "Iteration:  320 | Avg. Reward: 209.43 | Var. Reward: 221.2764 | Avg. Action Count: 136.52 | Actor Loss: 0.0029 | Critic Loss: 317.4758\n",
      ">> Avg. Reward per Action: 1.5341\n",
      "Iteration:  330 | Avg. Reward: -4.60 | Var. Reward: 349.9098 | Avg. Action Count: 220.35 | Actor Loss: 0.0046 | Critic Loss: 311.8402\n",
      ">> Avg. Reward per Action: -0.0209\n",
      "Iteration:  340 | Avg. Reward: -12.28 | Var. Reward: 359.1378 | Avg. Action Count: 220.73 | Actor Loss: 0.0219 | Critic Loss: 255.4305\n",
      ">> Avg. Reward per Action: -0.0556\n",
      "Iteration:  350 | Avg. Reward: 268.39 | Var. Reward: 100.4374 | Avg. Action Count: 90.16 | Actor Loss: 0.0021 | Critic Loss: 603.6860\n",
      ">> Avg. Reward per Action: 2.9768\n",
      "Iteration:  360 | Avg. Reward: 126.95 | Var. Reward: 293.1005 | Avg. Action Count: 145.25 | Actor Loss: 0.0065 | Critic Loss: 111.9706\n",
      ">> Avg. Reward per Action: 0.8740\n",
      "Iteration:  370 | Avg. Reward: 147.77 | Var. Reward: 304.8305 | Avg. Action Count: 143.33 | Actor Loss: 0.0249 | Critic Loss: 154.4097\n",
      ">> Avg. Reward per Action: 1.0310\n"
     ]
    },
    {
     "name": "stderr",
     "output_type": "stream",
     "text": [
      "\u001b[32m[I 2021-04-04 09:28:16,809]\u001b[0m Trial 4 finished with value: 4.087623964135307 and parameters: {'n_layers': 2, 'hidden_size': 64, 'learning_rate': 0.0016552417245908832, 'gamma': 0.20333981035019352, 'multiplier': 3}. Best is trial 1 with value: 6.483343428225318.\u001b[0m\n"
     ]
    },
    {
     "name": "stdout",
     "output_type": "stream",
     "text": [
      "Iteration:  380 | Avg. Reward: 27.16 | Var. Reward: 341.1810 | Avg. Action Count: 201.79 | Actor Loss: 0.0144 | Critic Loss: 289.5438\n",
      ">> Avg. Reward per Action: 0.1346\n",
      "Early stopping: Have no improvement since 180 iterations \n",
      "\n",
      "\n",
      "Best trial:\n",
      "Best parameters: {'n_layers': 2, 'hidden_size': 128, 'learning_rate': 0.0008722336049382319, 'gamma': 0.5718191701176203, 'multiplier': 3}\n",
      "Iteration:   10 | Avg. Reward: -174.53 | Var. Reward: 439.3632 | Avg. Action Count: 218.38 | Actor Loss: -0.0115 | Critic Loss: 546.2621\n",
      ">> Avg. Reward per Action: -0.7992\n",
      "Iteration:   20 | Avg. Reward: 64.74 | Var. Reward: 352.5899 | Avg. Action Count: 138.06 | Actor Loss: -0.0107 | Critic Loss: 582.6373\n",
      ">> Avg. Reward per Action: 0.4689\n",
      "Iteration:   30 | Avg. Reward: -119.97 | Var. Reward: 468.7614 | Avg. Action Count: 201.27 | Actor Loss: -0.0085 | Critic Loss: 693.1571\n",
      ">> Avg. Reward per Action: -0.5961\n",
      "Iteration:   40 | Avg. Reward: 122.29 | Var. Reward: 369.6376 | Avg. Action Count: 124.96 | Actor Loss: 0.0076 | Critic Loss: 1070.8314\n",
      ">> Avg. Reward per Action: 0.9786\n",
      "Iteration:   50 | Avg. Reward: 179.60 | Var. Reward: 262.3417 | Avg. Action Count: 103.60 | Actor Loss: -0.0009 | Critic Loss: 674.9849\n",
      ">> Avg. Reward per Action: 1.7336\n",
      "Iteration:   60 | Avg. Reward: 143.94 | Var. Reward: 293.0182 | Avg. Action Count: 126.86 | Actor Loss: 0.0105 | Critic Loss: 273.4444\n",
      ">> Avg. Reward per Action: 1.1346\n",
      "Iteration:   70 | Avg. Reward: 168.36 | Var. Reward: 292.0217 | Avg. Action Count: 106.84 | Actor Loss: 0.0002 | Critic Loss: 404.0676\n",
      ">> Avg. Reward per Action: 1.5758\n",
      "Iteration:   80 | Avg. Reward: 202.43 | Var. Reward: 256.8278 | Avg. Action Count: 91.02 | Actor Loss: 0.0210 | Critic Loss: 485.5753\n",
      ">> Avg. Reward per Action: 2.2240\n",
      "Iteration:   90 | Avg. Reward: 210.22 | Var. Reward: 235.3043 | Avg. Action Count: 88.33 | Actor Loss: 0.0153 | Critic Loss: 1065.8832\n",
      ">> Avg. Reward per Action: 2.3799\n",
      "Iteration:  100 | Avg. Reward: 203.55 | Var. Reward: 268.2165 | Avg. Action Count: 92.85 | Actor Loss: -0.0031 | Critic Loss: 881.0388\n",
      ">> Avg. Reward per Action: 2.1922\n",
      "Iteration:  110 | Avg. Reward: -72.37 | Var. Reward: 461.9313 | Avg. Action Count: 194.72 | Actor Loss: 0.0445 | Critic Loss: 147.5867\n",
      ">> Avg. Reward per Action: -0.3717\n",
      "Iteration:  120 | Avg. Reward: 51.28 | Var. Reward: 406.7327 | Avg. Action Count: 151.92 | Actor Loss: -0.0033 | Critic Loss: 847.7844\n",
      ">> Avg. Reward per Action: 0.3375\n",
      "Iteration:  130 | Avg. Reward: 229.06 | Var. Reward: 194.3967 | Avg. Action Count: 89.19 | Actor Loss: 0.0068 | Critic Loss: 383.9633\n",
      ">> Avg. Reward per Action: 2.5682\n",
      "Iteration:  140 | Avg. Reward: 120.39 | Var. Reward: 330.1882 | Avg. Action Count: 132.31 | Actor Loss: 0.0140 | Critic Loss: 571.7990\n",
      ">> Avg. Reward per Action: 0.9099\n",
      "Iteration:  150 | Avg. Reward: 269.14 | Var. Reward: 138.9035 | Avg. Action Count: 78.06 | Actor Loss: 0.0186 | Critic Loss: 392.5525\n",
      ">> Avg. Reward per Action: 3.4479\n",
      "Iteration:  160 | Avg. Reward: 128.48 | Var. Reward: 331.1374 | Avg. Action Count: 135.52 | Actor Loss: 0.0227 | Critic Loss: 255.6629\n",
      ">> Avg. Reward per Action: 0.9481\n",
      "Iteration:  170 | Avg. Reward: 244.34 | Var. Reward: 168.1617 | Avg. Action Count: 92.56 | Actor Loss: 0.0119 | Critic Loss: 569.9526\n",
      ">> Avg. Reward per Action: 2.6398\n",
      "Iteration:  180 | Avg. Reward: 92.44 | Var. Reward: 338.2425 | Avg. Action Count: 149.51 | Actor Loss: -0.0031 | Critic Loss: 181.4465\n",
      ">> Avg. Reward per Action: 0.6183\n",
      "Iteration:  190 | Avg. Reward: 173.68 | Var. Reward: 305.1876 | Avg. Action Count: 115.47 | Actor Loss: 0.0024 | Critic Loss: 440.7126\n",
      ">> Avg. Reward per Action: 1.5041\n",
      "Iteration:  200 | Avg. Reward: 184.88 | Var. Reward: 303.8264 | Avg. Action Count: 115.32 | Actor Loss: 0.0772 | Critic Loss: 253.2056\n",
      ">> Avg. Reward per Action: 1.6032\n",
      "Iteration:  210 | Avg. Reward: 219.06 | Var. Reward: 249.3663 | Avg. Action Count: 100.74 | Actor Loss: 0.0248 | Critic Loss: 648.4379\n",
      ">> Avg. Reward per Action: 2.1745\n",
      "Iteration:  220 | Avg. Reward: 143.10 | Var. Reward: 356.1727 | Avg. Action Count: 123.95 | Actor Loss: 0.0029 | Critic Loss: 188.0246\n",
      ">> Avg. Reward per Action: 1.1545\n",
      "Iteration:  230 | Avg. Reward: 246.74 | Var. Reward: 214.9092 | Avg. Action Count: 90.51 | Actor Loss: 0.0112 | Critic Loss: 264.7328\n",
      ">> Avg. Reward per Action: 2.7261\n",
      "Iteration:  240 | Avg. Reward: 295.81 | Var. Reward: 147.5695 | Avg. Action Count: 62.09 | Actor Loss: -0.0119 | Critic Loss: 117.8264\n",
      ">> Avg. Reward per Action: 4.7642\n",
      "Iteration:  250 | Avg. Reward: 256.48 | Var. Reward: 194.6392 | Avg. Action Count: 89.17 | Actor Loss: 0.0548 | Critic Loss: 251.5807\n",
      ">> Avg. Reward per Action: 2.8763\n",
      "Iteration:  260 | Avg. Reward: 267.30 | Var. Reward: 146.4945 | Avg. Action Count: 79.95 | Actor Loss: 0.0101 | Critic Loss: 473.2079\n",
      ">> Avg. Reward per Action: 3.3433\n",
      "Iteration:  270 | Avg. Reward: 265.30 | Var. Reward: 169.0723 | Avg. Action Count: 80.20 | Actor Loss: 0.2350 | Critic Loss: 336.5686\n",
      ">> Avg. Reward per Action: 3.3080\n",
      "Iteration:  280 | Avg. Reward: 214.58 | Var. Reward: 253.9186 | Avg. Action Count: 107.82 | Actor Loss: 0.0239 | Critic Loss: 194.0009\n",
      ">> Avg. Reward per Action: 1.9902\n",
      "Iteration:  290 | Avg. Reward: 170.79 | Var. Reward: 310.6923 | Avg. Action Count: 119.51 | Actor Loss: 0.0070 | Critic Loss: 460.5673\n",
      ">> Avg. Reward per Action: 1.4291\n",
      "Iteration:  300 | Avg. Reward: 285.19 | Var. Reward: 168.7839 | Avg. Action Count: 63.61 | Actor Loss: 0.0322 | Critic Loss: 514.9902\n",
      ">> Avg. Reward per Action: 4.4834\n",
      "Iteration:  310 | Avg. Reward: 252.81 | Var. Reward: 184.3505 | Avg. Action Count: 89.69 | Actor Loss: 0.0680 | Critic Loss: 539.7988\n",
      ">> Avg. Reward per Action: 2.8187\n",
      "Iteration:  320 | Avg. Reward: 277.05 | Var. Reward: 178.5644 | Avg. Action Count: 69.45 | Actor Loss: 0.0543 | Critic Loss: 343.1441\n",
      ">> Avg. Reward per Action: 3.9892\n",
      "Iteration:  330 | Avg. Reward: 252.15 | Var. Reward: 211.9966 | Avg. Action Count: 81.40 | Actor Loss: 0.0180 | Critic Loss: 434.8077\n",
      ">> Avg. Reward per Action: 3.0977\n",
      "Iteration:  340 | Avg. Reward: 184.54 | Var. Reward: 322.5248 | Avg. Action Count: 109.41 | Actor Loss: 0.0090 | Critic Loss: 435.3189\n",
      ">> Avg. Reward per Action: 1.6867\n",
      "Iteration:  350 | Avg. Reward: 101.83 | Var. Reward: 372.4453 | Avg. Action Count: 148.32 | Actor Loss: 0.0130 | Critic Loss: 157.1318\n",
      ">> Avg. Reward per Action: 0.6866\n",
      "Iteration:  360 | Avg. Reward: 269.87 | Var. Reward: 148.4092 | Avg. Action Count: 87.23 | Actor Loss: -0.0041 | Critic Loss: 269.0410\n",
      ">> Avg. Reward per Action: 3.0938\n",
      "Iteration:  370 | Avg. Reward: 152.30 | Var. Reward: 338.9369 | Avg. Action Count: 122.55 | Actor Loss: 0.0080 | Critic Loss: 321.9958\n",
      ">> Avg. Reward per Action: 1.2428\n",
      "Iteration:  380 | Avg. Reward: 208.87 | Var. Reward: 283.7377 | Avg. Action Count: 103.63 | Actor Loss: 0.0024 | Critic Loss: 371.3817\n",
      ">> Avg. Reward per Action: 2.0155\n",
      "Iteration:  390 | Avg. Reward: 214.17 | Var. Reward: 267.0390 | Avg. Action Count: 102.18 | Actor Loss: -0.0007 | Critic Loss: 205.7009\n",
      ">> Avg. Reward per Action: 2.0960\n",
      "Iteration:  400 | Avg. Reward: 258.55 | Var. Reward: 192.8194 | Avg. Action Count: 83.35 | Actor Loss: 0.0177 | Critic Loss: 282.7863\n",
      ">> Avg. Reward per Action: 3.1020\n",
      "Iteration:  410 | Avg. Reward: 245.09 | Var. Reward: 237.1863 | Avg. Action Count: 92.96 | Actor Loss: 0.0247 | Critic Loss: 574.2567\n",
      ">> Avg. Reward per Action: 2.6365\n",
      "Iteration:  420 | Avg. Reward: 283.95 | Var. Reward: 133.5526 | Avg. Action Count: 77.20 | Actor Loss: 0.0106 | Critic Loss: 479.2775\n",
      ">> Avg. Reward per Action: 3.6781\n",
      "Iteration:  430 | Avg. Reward: 291.18 | Var. Reward: 138.5097 | Avg. Action Count: 70.07 | Actor Loss: 0.0827 | Critic Loss: 538.7638\n",
      ">> Avg. Reward per Action: 4.1556\n",
      "Iteration:  440 | Avg. Reward: 214.91 | Var. Reward: 238.5715 | Avg. Action Count: 105.84 | Actor Loss: 0.0212 | Critic Loss: 489.1745\n",
      ">> Avg. Reward per Action: 2.0305\n",
      "Early stopping: Have no improvement since 240 iterations \n",
      "\n"
     ]
    }
   ],
   "source": [
    "# Define the environment\n",
    "dungeon = IceDungeonPO(20)\n",
    "dungeon.reset()\n",
    "\n",
    "# Save the environment for evaluating the results\n",
    "FILENAME_ENV = open('dungeon_' + str(dungeon.size) + '.p', 'wb')\n",
    "pickle.dump(dungeon, FILENAME_ENV)\n",
    "FILENAME_ENV.close()\n",
    "\n",
    "# Create a study object and optimise the objective function\n",
    "study = optuna.create_study(direction='maximize')\n",
    "\n",
    "# Limit tuning iteration at 5 times\n",
    "study.optimize(objective, n_trials=5)\n",
    "print('\\nBest trial:')\n",
    "trial_ = study.best_trial\n",
    "print('Best parameters:', trial_.params)\n",
    "\n",
    "# Training with the optimal hyperparameters\n",
    "_, iter_lst, avg_r_lst, var_r_lst, avg_ac_lst = PPO(dungeon, trial_.params).learning(save_model=True)"
   ]
  },
  {
   "cell_type": "markdown",
   "metadata": {},
   "source": [
    "### Visualisation of the results <a id='vis3_1'></a>"
   ]
  },
  {
   "cell_type": "code",
   "execution_count": 15,
   "metadata": {},
   "outputs": [
    {
     "data": {
      "application/vnd.plotly.v1+json": {
       "config": {
        "plotlyServerURL": "https://plot.ly"
       },
       "data": [
        {
         "mode": "markers",
         "name": "Objective Value",
         "type": "scatter",
         "x": [
          0,
          1,
          2,
          3,
          4
         ],
         "y": [
          2.1122776944503965,
          6.483343428225318,
          5.3733866569714595,
          5.532964087904235,
          4.087623964135307
         ]
        },
        {
         "name": "Best Value",
         "type": "scatter",
         "x": [
          0,
          1,
          2,
          3,
          4
         ],
         "y": [
          2.1122776944503965,
          6.483343428225318,
          6.483343428225318,
          6.483343428225318,
          6.483343428225318
         ]
        }
       ],
       "layout": {
        "autosize": true,
        "template": {
         "data": {
          "bar": [
           {
            "error_x": {
             "color": "#2a3f5f"
            },
            "error_y": {
             "color": "#2a3f5f"
            },
            "marker": {
             "line": {
              "color": "#E5ECF6",
              "width": 0.5
             }
            },
            "type": "bar"
           }
          ],
          "barpolar": [
           {
            "marker": {
             "line": {
              "color": "#E5ECF6",
              "width": 0.5
             }
            },
            "type": "barpolar"
           }
          ],
          "carpet": [
           {
            "aaxis": {
             "endlinecolor": "#2a3f5f",
             "gridcolor": "white",
             "linecolor": "white",
             "minorgridcolor": "white",
             "startlinecolor": "#2a3f5f"
            },
            "baxis": {
             "endlinecolor": "#2a3f5f",
             "gridcolor": "white",
             "linecolor": "white",
             "minorgridcolor": "white",
             "startlinecolor": "#2a3f5f"
            },
            "type": "carpet"
           }
          ],
          "choropleth": [
           {
            "colorbar": {
             "outlinewidth": 0,
             "ticks": ""
            },
            "type": "choropleth"
           }
          ],
          "contour": [
           {
            "colorbar": {
             "outlinewidth": 0,
             "ticks": ""
            },
            "colorscale": [
             [
              0,
              "#0d0887"
             ],
             [
              0.1111111111111111,
              "#46039f"
             ],
             [
              0.2222222222222222,
              "#7201a8"
             ],
             [
              0.3333333333333333,
              "#9c179e"
             ],
             [
              0.4444444444444444,
              "#bd3786"
             ],
             [
              0.5555555555555556,
              "#d8576b"
             ],
             [
              0.6666666666666666,
              "#ed7953"
             ],
             [
              0.7777777777777778,
              "#fb9f3a"
             ],
             [
              0.8888888888888888,
              "#fdca26"
             ],
             [
              1,
              "#f0f921"
             ]
            ],
            "type": "contour"
           }
          ],
          "contourcarpet": [
           {
            "colorbar": {
             "outlinewidth": 0,
             "ticks": ""
            },
            "type": "contourcarpet"
           }
          ],
          "heatmap": [
           {
            "colorbar": {
             "outlinewidth": 0,
             "ticks": ""
            },
            "colorscale": [
             [
              0,
              "#0d0887"
             ],
             [
              0.1111111111111111,
              "#46039f"
             ],
             [
              0.2222222222222222,
              "#7201a8"
             ],
             [
              0.3333333333333333,
              "#9c179e"
             ],
             [
              0.4444444444444444,
              "#bd3786"
             ],
             [
              0.5555555555555556,
              "#d8576b"
             ],
             [
              0.6666666666666666,
              "#ed7953"
             ],
             [
              0.7777777777777778,
              "#fb9f3a"
             ],
             [
              0.8888888888888888,
              "#fdca26"
             ],
             [
              1,
              "#f0f921"
             ]
            ],
            "type": "heatmap"
           }
          ],
          "heatmapgl": [
           {
            "colorbar": {
             "outlinewidth": 0,
             "ticks": ""
            },
            "colorscale": [
             [
              0,
              "#0d0887"
             ],
             [
              0.1111111111111111,
              "#46039f"
             ],
             [
              0.2222222222222222,
              "#7201a8"
             ],
             [
              0.3333333333333333,
              "#9c179e"
             ],
             [
              0.4444444444444444,
              "#bd3786"
             ],
             [
              0.5555555555555556,
              "#d8576b"
             ],
             [
              0.6666666666666666,
              "#ed7953"
             ],
             [
              0.7777777777777778,
              "#fb9f3a"
             ],
             [
              0.8888888888888888,
              "#fdca26"
             ],
             [
              1,
              "#f0f921"
             ]
            ],
            "type": "heatmapgl"
           }
          ],
          "histogram": [
           {
            "marker": {
             "colorbar": {
              "outlinewidth": 0,
              "ticks": ""
             }
            },
            "type": "histogram"
           }
          ],
          "histogram2d": [
           {
            "colorbar": {
             "outlinewidth": 0,
             "ticks": ""
            },
            "colorscale": [
             [
              0,
              "#0d0887"
             ],
             [
              0.1111111111111111,
              "#46039f"
             ],
             [
              0.2222222222222222,
              "#7201a8"
             ],
             [
              0.3333333333333333,
              "#9c179e"
             ],
             [
              0.4444444444444444,
              "#bd3786"
             ],
             [
              0.5555555555555556,
              "#d8576b"
             ],
             [
              0.6666666666666666,
              "#ed7953"
             ],
             [
              0.7777777777777778,
              "#fb9f3a"
             ],
             [
              0.8888888888888888,
              "#fdca26"
             ],
             [
              1,
              "#f0f921"
             ]
            ],
            "type": "histogram2d"
           }
          ],
          "histogram2dcontour": [
           {
            "colorbar": {
             "outlinewidth": 0,
             "ticks": ""
            },
            "colorscale": [
             [
              0,
              "#0d0887"
             ],
             [
              0.1111111111111111,
              "#46039f"
             ],
             [
              0.2222222222222222,
              "#7201a8"
             ],
             [
              0.3333333333333333,
              "#9c179e"
             ],
             [
              0.4444444444444444,
              "#bd3786"
             ],
             [
              0.5555555555555556,
              "#d8576b"
             ],
             [
              0.6666666666666666,
              "#ed7953"
             ],
             [
              0.7777777777777778,
              "#fb9f3a"
             ],
             [
              0.8888888888888888,
              "#fdca26"
             ],
             [
              1,
              "#f0f921"
             ]
            ],
            "type": "histogram2dcontour"
           }
          ],
          "mesh3d": [
           {
            "colorbar": {
             "outlinewidth": 0,
             "ticks": ""
            },
            "type": "mesh3d"
           }
          ],
          "parcoords": [
           {
            "line": {
             "colorbar": {
              "outlinewidth": 0,
              "ticks": ""
             }
            },
            "type": "parcoords"
           }
          ],
          "pie": [
           {
            "automargin": true,
            "type": "pie"
           }
          ],
          "scatter": [
           {
            "marker": {
             "colorbar": {
              "outlinewidth": 0,
              "ticks": ""
             }
            },
            "type": "scatter"
           }
          ],
          "scatter3d": [
           {
            "line": {
             "colorbar": {
              "outlinewidth": 0,
              "ticks": ""
             }
            },
            "marker": {
             "colorbar": {
              "outlinewidth": 0,
              "ticks": ""
             }
            },
            "type": "scatter3d"
           }
          ],
          "scattercarpet": [
           {
            "marker": {
             "colorbar": {
              "outlinewidth": 0,
              "ticks": ""
             }
            },
            "type": "scattercarpet"
           }
          ],
          "scattergeo": [
           {
            "marker": {
             "colorbar": {
              "outlinewidth": 0,
              "ticks": ""
             }
            },
            "type": "scattergeo"
           }
          ],
          "scattergl": [
           {
            "marker": {
             "colorbar": {
              "outlinewidth": 0,
              "ticks": ""
             }
            },
            "type": "scattergl"
           }
          ],
          "scattermapbox": [
           {
            "marker": {
             "colorbar": {
              "outlinewidth": 0,
              "ticks": ""
             }
            },
            "type": "scattermapbox"
           }
          ],
          "scatterpolar": [
           {
            "marker": {
             "colorbar": {
              "outlinewidth": 0,
              "ticks": ""
             }
            },
            "type": "scatterpolar"
           }
          ],
          "scatterpolargl": [
           {
            "marker": {
             "colorbar": {
              "outlinewidth": 0,
              "ticks": ""
             }
            },
            "type": "scatterpolargl"
           }
          ],
          "scatterternary": [
           {
            "marker": {
             "colorbar": {
              "outlinewidth": 0,
              "ticks": ""
             }
            },
            "type": "scatterternary"
           }
          ],
          "surface": [
           {
            "colorbar": {
             "outlinewidth": 0,
             "ticks": ""
            },
            "colorscale": [
             [
              0,
              "#0d0887"
             ],
             [
              0.1111111111111111,
              "#46039f"
             ],
             [
              0.2222222222222222,
              "#7201a8"
             ],
             [
              0.3333333333333333,
              "#9c179e"
             ],
             [
              0.4444444444444444,
              "#bd3786"
             ],
             [
              0.5555555555555556,
              "#d8576b"
             ],
             [
              0.6666666666666666,
              "#ed7953"
             ],
             [
              0.7777777777777778,
              "#fb9f3a"
             ],
             [
              0.8888888888888888,
              "#fdca26"
             ],
             [
              1,
              "#f0f921"
             ]
            ],
            "type": "surface"
           }
          ],
          "table": [
           {
            "cells": {
             "fill": {
              "color": "#EBF0F8"
             },
             "line": {
              "color": "white"
             }
            },
            "header": {
             "fill": {
              "color": "#C8D4E3"
             },
             "line": {
              "color": "white"
             }
            },
            "type": "table"
           }
          ]
         },
         "layout": {
          "annotationdefaults": {
           "arrowcolor": "#2a3f5f",
           "arrowhead": 0,
           "arrowwidth": 1
          },
          "autotypenumbers": "strict",
          "coloraxis": {
           "colorbar": {
            "outlinewidth": 0,
            "ticks": ""
           }
          },
          "colorscale": {
           "diverging": [
            [
             0,
             "#8e0152"
            ],
            [
             0.1,
             "#c51b7d"
            ],
            [
             0.2,
             "#de77ae"
            ],
            [
             0.3,
             "#f1b6da"
            ],
            [
             0.4,
             "#fde0ef"
            ],
            [
             0.5,
             "#f7f7f7"
            ],
            [
             0.6,
             "#e6f5d0"
            ],
            [
             0.7,
             "#b8e186"
            ],
            [
             0.8,
             "#7fbc41"
            ],
            [
             0.9,
             "#4d9221"
            ],
            [
             1,
             "#276419"
            ]
           ],
           "sequential": [
            [
             0,
             "#0d0887"
            ],
            [
             0.1111111111111111,
             "#46039f"
            ],
            [
             0.2222222222222222,
             "#7201a8"
            ],
            [
             0.3333333333333333,
             "#9c179e"
            ],
            [
             0.4444444444444444,
             "#bd3786"
            ],
            [
             0.5555555555555556,
             "#d8576b"
            ],
            [
             0.6666666666666666,
             "#ed7953"
            ],
            [
             0.7777777777777778,
             "#fb9f3a"
            ],
            [
             0.8888888888888888,
             "#fdca26"
            ],
            [
             1,
             "#f0f921"
            ]
           ],
           "sequentialminus": [
            [
             0,
             "#0d0887"
            ],
            [
             0.1111111111111111,
             "#46039f"
            ],
            [
             0.2222222222222222,
             "#7201a8"
            ],
            [
             0.3333333333333333,
             "#9c179e"
            ],
            [
             0.4444444444444444,
             "#bd3786"
            ],
            [
             0.5555555555555556,
             "#d8576b"
            ],
            [
             0.6666666666666666,
             "#ed7953"
            ],
            [
             0.7777777777777778,
             "#fb9f3a"
            ],
            [
             0.8888888888888888,
             "#fdca26"
            ],
            [
             1,
             "#f0f921"
            ]
           ]
          },
          "colorway": [
           "#636efa",
           "#EF553B",
           "#00cc96",
           "#ab63fa",
           "#FFA15A",
           "#19d3f3",
           "#FF6692",
           "#B6E880",
           "#FF97FF",
           "#FECB52"
          ],
          "font": {
           "color": "#2a3f5f"
          },
          "geo": {
           "bgcolor": "white",
           "lakecolor": "white",
           "landcolor": "#E5ECF6",
           "showlakes": true,
           "showland": true,
           "subunitcolor": "white"
          },
          "hoverlabel": {
           "align": "left"
          },
          "hovermode": "closest",
          "mapbox": {
           "style": "light"
          },
          "paper_bgcolor": "white",
          "plot_bgcolor": "#E5ECF6",
          "polar": {
           "angularaxis": {
            "gridcolor": "white",
            "linecolor": "white",
            "ticks": ""
           },
           "bgcolor": "#E5ECF6",
           "radialaxis": {
            "gridcolor": "white",
            "linecolor": "white",
            "ticks": ""
           }
          },
          "scene": {
           "xaxis": {
            "backgroundcolor": "#E5ECF6",
            "gridcolor": "white",
            "gridwidth": 2,
            "linecolor": "white",
            "showbackground": true,
            "ticks": "",
            "zerolinecolor": "white"
           },
           "yaxis": {
            "backgroundcolor": "#E5ECF6",
            "gridcolor": "white",
            "gridwidth": 2,
            "linecolor": "white",
            "showbackground": true,
            "ticks": "",
            "zerolinecolor": "white"
           },
           "zaxis": {
            "backgroundcolor": "#E5ECF6",
            "gridcolor": "white",
            "gridwidth": 2,
            "linecolor": "white",
            "showbackground": true,
            "ticks": "",
            "zerolinecolor": "white"
           }
          },
          "shapedefaults": {
           "line": {
            "color": "#2a3f5f"
           }
          },
          "ternary": {
           "aaxis": {
            "gridcolor": "white",
            "linecolor": "white",
            "ticks": ""
           },
           "baxis": {
            "gridcolor": "white",
            "linecolor": "white",
            "ticks": ""
           },
           "bgcolor": "#E5ECF6",
           "caxis": {
            "gridcolor": "white",
            "linecolor": "white",
            "ticks": ""
           }
          },
          "title": {
           "x": 0.05
          },
          "xaxis": {
           "automargin": true,
           "gridcolor": "white",
           "linecolor": "white",
           "ticks": "",
           "title": {
            "standoff": 15
           },
           "zerolinecolor": "white",
           "zerolinewidth": 2
          },
          "yaxis": {
           "automargin": true,
           "gridcolor": "white",
           "linecolor": "white",
           "ticks": "",
           "title": {
            "standoff": 15
           },
           "zerolinecolor": "white",
           "zerolinewidth": 2
          }
         }
        },
        "title": {
         "text": "Optimization History Plot"
        },
        "xaxis": {
         "autorange": true,
         "range": [
          -0.2440944881889764,
          4.244094488188976
         ],
         "title": {
          "text": "#Trials"
         },
         "type": "linear"
        },
        "yaxis": {
         "autorange": true,
         "range": [
          1.7921040897471379,
          6.803517032928577
         ],
         "title": {
          "text": "Objective Value"
         },
         "type": "linear"
        }
       }
      },
      "image/png": "[encoded data removed]",
      "text/html": [
       "<div>                            <div id=\"fe4801c1-8017-46e0-bcf8-d79286af0aa2\" class=\"plotly-graph-div\" style=\"height:525px; width:100%;\"></div>            <script type=\"text/javascript\">                require([\"plotly\"], function(Plotly) {                    window.PLOTLYENV=window.PLOTLYENV || {};                                    if (document.getElementById(\"fe4801c1-8017-46e0-bcf8-d79286af0aa2\")) {                    Plotly.newPlot(                        \"fe4801c1-8017-46e0-bcf8-d79286af0aa2\",                        [{\"mode\": \"markers\", \"name\": \"Objective Value\", \"type\": \"scatter\", \"x\": [0, 1, 2, 3, 4], \"y\": [2.1122776944503965, 6.483343428225318, 5.3733866569714595, 5.532964087904235, 4.087623964135307]}, {\"name\": \"Best Value\", \"type\": \"scatter\", \"x\": [0, 1, 2, 3, 4], \"y\": [2.1122776944503965, 6.483343428225318, 6.483343428225318, 6.483343428225318, 6.483343428225318]}],                        {\"template\": {\"data\": {\"bar\": [{\"error_x\": {\"color\": \"#2a3f5f\"}, \"error_y\": {\"color\": \"#2a3f5f\"}, \"marker\": {\"line\": {\"color\": \"#E5ECF6\", \"width\": 0.5}}, \"type\": \"bar\"}], \"barpolar\": [{\"marker\": {\"line\": {\"color\": \"#E5ECF6\", \"width\": 0.5}}, \"type\": \"barpolar\"}], \"carpet\": [{\"aaxis\": {\"endlinecolor\": \"#2a3f5f\", \"gridcolor\": \"white\", \"linecolor\": \"white\", \"minorgridcolor\": \"white\", \"startlinecolor\": \"#2a3f5f\"}, \"baxis\": {\"endlinecolor\": \"#2a3f5f\", \"gridcolor\": \"white\", \"linecolor\": \"white\", \"minorgridcolor\": \"white\", \"startlinecolor\": \"#2a3f5f\"}, \"type\": \"carpet\"}], \"choropleth\": [{\"colorbar\": {\"outlinewidth\": 0, \"ticks\": \"\"}, \"type\": \"choropleth\"}], \"contour\": [{\"colorbar\": {\"outlinewidth\": 0, \"ticks\": \"\"}, \"colorscale\": [[0.0, \"#0d0887\"], [0.1111111111111111, \"#46039f\"], [0.2222222222222222, \"#7201a8\"], [0.3333333333333333, \"#9c179e\"], [0.4444444444444444, \"#bd3786\"], [0.5555555555555556, \"#d8576b\"], [0.6666666666666666, \"#ed7953\"], [0.7777777777777778, \"#fb9f3a\"], [0.8888888888888888, \"#fdca26\"], [1.0, \"#f0f921\"]], \"type\": \"contour\"}], \"contourcarpet\": [{\"colorbar\": {\"outlinewidth\": 0, \"ticks\": \"\"}, \"type\": \"contourcarpet\"}], \"heatmap\": [{\"colorbar\": {\"outlinewidth\": 0, \"ticks\": \"\"}, \"colorscale\": [[0.0, \"#0d0887\"], [0.1111111111111111, \"#46039f\"], [0.2222222222222222, \"#7201a8\"], [0.3333333333333333, \"#9c179e\"], [0.4444444444444444, \"#bd3786\"], [0.5555555555555556, \"#d8576b\"], [0.6666666666666666, \"#ed7953\"], [0.7777777777777778, \"#fb9f3a\"], [0.8888888888888888, \"#fdca26\"], [1.0, \"#f0f921\"]], \"type\": \"heatmap\"}], \"heatmapgl\": [{\"colorbar\": {\"outlinewidth\": 0, \"ticks\": \"\"}, \"colorscale\": [[0.0, \"#0d0887\"], [0.1111111111111111, \"#46039f\"], [0.2222222222222222, \"#7201a8\"], [0.3333333333333333, \"#9c179e\"], [0.4444444444444444, \"#bd3786\"], [0.5555555555555556, \"#d8576b\"], [0.6666666666666666, \"#ed7953\"], [0.7777777777777778, \"#fb9f3a\"], [0.8888888888888888, \"#fdca26\"], [1.0, \"#f0f921\"]], \"type\": \"heatmapgl\"}], \"histogram\": [{\"marker\": {\"colorbar\": {\"outlinewidth\": 0, \"ticks\": \"\"}}, \"type\": \"histogram\"}], \"histogram2d\": [{\"colorbar\": {\"outlinewidth\": 0, \"ticks\": \"\"}, \"colorscale\": [[0.0, \"#0d0887\"], [0.1111111111111111, \"#46039f\"], [0.2222222222222222, \"#7201a8\"], [0.3333333333333333, \"#9c179e\"], [0.4444444444444444, \"#bd3786\"], [0.5555555555555556, \"#d8576b\"], [0.6666666666666666, \"#ed7953\"], [0.7777777777777778, \"#fb9f3a\"], [0.8888888888888888, \"#fdca26\"], [1.0, \"#f0f921\"]], \"type\": \"histogram2d\"}], \"histogram2dcontour\": [{\"colorbar\": {\"outlinewidth\": 0, \"ticks\": \"\"}, \"colorscale\": [[0.0, \"#0d0887\"], [0.1111111111111111, \"#46039f\"], [0.2222222222222222, \"#7201a8\"], [0.3333333333333333, \"#9c179e\"], [0.4444444444444444, \"#bd3786\"], [0.5555555555555556, \"#d8576b\"], [0.6666666666666666, \"#ed7953\"], [0.7777777777777778, \"#fb9f3a\"], [0.8888888888888888, \"#fdca26\"], [1.0, \"#f0f921\"]], \"type\": \"histogram2dcontour\"}], \"mesh3d\": [{\"colorbar\": {\"outlinewidth\": 0, \"ticks\": \"\"}, \"type\": \"mesh3d\"}], \"parcoords\": [{\"line\": {\"colorbar\": {\"outlinewidth\": 0, \"ticks\": \"\"}}, \"type\": \"parcoords\"}], \"pie\": [{\"automargin\": true, \"type\": \"pie\"}], \"scatter\": [{\"marker\": {\"colorbar\": {\"outlinewidth\": 0, \"ticks\": \"\"}}, \"type\": \"scatter\"}], \"scatter3d\": [{\"line\": {\"colorbar\": {\"outlinewidth\": 0, \"ticks\": \"\"}}, \"marker\": {\"colorbar\": {\"outlinewidth\": 0, \"ticks\": \"\"}}, \"type\": \"scatter3d\"}], \"scattercarpet\": [{\"marker\": {\"colorbar\": {\"outlinewidth\": 0, \"ticks\": \"\"}}, \"type\": \"scattercarpet\"}], \"scattergeo\": [{\"marker\": {\"colorbar\": {\"outlinewidth\": 0, \"ticks\": \"\"}}, \"type\": \"scattergeo\"}], \"scattergl\": [{\"marker\": {\"colorbar\": {\"outlinewidth\": 0, \"ticks\": \"\"}}, \"type\": \"scattergl\"}], \"scattermapbox\": [{\"marker\": {\"colorbar\": {\"outlinewidth\": 0, \"ticks\": \"\"}}, \"type\": \"scattermapbox\"}], \"scatterpolar\": [{\"marker\": {\"colorbar\": {\"outlinewidth\": 0, \"ticks\": \"\"}}, \"type\": \"scatterpolar\"}], \"scatterpolargl\": [{\"marker\": {\"colorbar\": {\"outlinewidth\": 0, \"ticks\": \"\"}}, \"type\": \"scatterpolargl\"}], \"scatterternary\": [{\"marker\": {\"colorbar\": {\"outlinewidth\": 0, \"ticks\": \"\"}}, \"type\": \"scatterternary\"}], \"surface\": [{\"colorbar\": {\"outlinewidth\": 0, \"ticks\": \"\"}, \"colorscale\": [[0.0, \"#0d0887\"], [0.1111111111111111, \"#46039f\"], [0.2222222222222222, \"#7201a8\"], [0.3333333333333333, \"#9c179e\"], [0.4444444444444444, \"#bd3786\"], [0.5555555555555556, \"#d8576b\"], [0.6666666666666666, \"#ed7953\"], [0.7777777777777778, \"#fb9f3a\"], [0.8888888888888888, \"#fdca26\"], [1.0, \"#f0f921\"]], \"type\": \"surface\"}], \"table\": [{\"cells\": {\"fill\": {\"color\": \"#EBF0F8\"}, \"line\": {\"color\": \"white\"}}, \"header\": {\"fill\": {\"color\": \"#C8D4E3\"}, \"line\": {\"color\": \"white\"}}, \"type\": \"table\"}]}, \"layout\": {\"annotationdefaults\": {\"arrowcolor\": \"#2a3f5f\", \"arrowhead\": 0, \"arrowwidth\": 1}, \"autotypenumbers\": \"strict\", \"coloraxis\": {\"colorbar\": {\"outlinewidth\": 0, \"ticks\": \"\"}}, \"colorscale\": {\"diverging\": [[0, \"#8e0152\"], [0.1, \"#c51b7d\"], [0.2, \"#de77ae\"], [0.3, \"#f1b6da\"], [0.4, \"#fde0ef\"], [0.5, \"#f7f7f7\"], [0.6, \"#e6f5d0\"], [0.7, \"#b8e186\"], [0.8, \"#7fbc41\"], [0.9, \"#4d9221\"], [1, \"#276419\"]], \"sequential\": [[0.0, \"#0d0887\"], [0.1111111111111111, \"#46039f\"], [0.2222222222222222, \"#7201a8\"], [0.3333333333333333, \"#9c179e\"], [0.4444444444444444, \"#bd3786\"], [0.5555555555555556, \"#d8576b\"], [0.6666666666666666, \"#ed7953\"], [0.7777777777777778, \"#fb9f3a\"], [0.8888888888888888, \"#fdca26\"], [1.0, \"#f0f921\"]], \"sequentialminus\": [[0.0, \"#0d0887\"], [0.1111111111111111, \"#46039f\"], [0.2222222222222222, \"#7201a8\"], [0.3333333333333333, \"#9c179e\"], [0.4444444444444444, \"#bd3786\"], [0.5555555555555556, \"#d8576b\"], [0.6666666666666666, \"#ed7953\"], [0.7777777777777778, \"#fb9f3a\"], [0.8888888888888888, \"#fdca26\"], [1.0, \"#f0f921\"]]}, \"colorway\": [\"#636efa\", \"#EF553B\", \"#00cc96\", \"#ab63fa\", \"#FFA15A\", \"#19d3f3\", \"#FF6692\", \"#B6E880\", \"#FF97FF\", \"#FECB52\"], \"font\": {\"color\": \"#2a3f5f\"}, \"geo\": {\"bgcolor\": \"white\", \"lakecolor\": \"white\", \"landcolor\": \"#E5ECF6\", \"showlakes\": true, \"showland\": true, \"subunitcolor\": \"white\"}, \"hoverlabel\": {\"align\": \"left\"}, \"hovermode\": \"closest\", \"mapbox\": {\"style\": \"light\"}, \"paper_bgcolor\": \"white\", \"plot_bgcolor\": \"#E5ECF6\", \"polar\": {\"angularaxis\": {\"gridcolor\": \"white\", \"linecolor\": \"white\", \"ticks\": \"\"}, \"bgcolor\": \"#E5ECF6\", \"radialaxis\": {\"gridcolor\": \"white\", \"linecolor\": \"white\", \"ticks\": \"\"}}, \"scene\": {\"xaxis\": {\"backgroundcolor\": \"#E5ECF6\", \"gridcolor\": \"white\", \"gridwidth\": 2, \"linecolor\": \"white\", \"showbackground\": true, \"ticks\": \"\", \"zerolinecolor\": \"white\"}, \"yaxis\": {\"backgroundcolor\": \"#E5ECF6\", \"gridcolor\": \"white\", \"gridwidth\": 2, \"linecolor\": \"white\", \"showbackground\": true, \"ticks\": \"\", \"zerolinecolor\": \"white\"}, \"zaxis\": {\"backgroundcolor\": \"#E5ECF6\", \"gridcolor\": \"white\", \"gridwidth\": 2, \"linecolor\": \"white\", \"showbackground\": true, \"ticks\": \"\", \"zerolinecolor\": \"white\"}}, \"shapedefaults\": {\"line\": {\"color\": \"#2a3f5f\"}}, \"ternary\": {\"aaxis\": {\"gridcolor\": \"white\", \"linecolor\": \"white\", \"ticks\": \"\"}, \"baxis\": {\"gridcolor\": \"white\", \"linecolor\": \"white\", \"ticks\": \"\"}, \"bgcolor\": \"#E5ECF6\", \"caxis\": {\"gridcolor\": \"white\", \"linecolor\": \"white\", \"ticks\": \"\"}}, \"title\": {\"x\": 0.05}, \"xaxis\": {\"automargin\": true, \"gridcolor\": \"white\", \"linecolor\": \"white\", \"ticks\": \"\", \"title\": {\"standoff\": 15}, \"zerolinecolor\": \"white\", \"zerolinewidth\": 2}, \"yaxis\": {\"automargin\": true, \"gridcolor\": \"white\", \"linecolor\": \"white\", \"ticks\": \"\", \"title\": {\"standoff\": 15}, \"zerolinecolor\": \"white\", \"zerolinewidth\": 2}}}, \"title\": {\"text\": \"Optimization History Plot\"}, \"xaxis\": {\"title\": {\"text\": \"#Trials\"}}, \"yaxis\": {\"title\": {\"text\": \"Objective Value\"}}},                        {\"responsive\": true}                    ).then(function(){\n",
       "                            \n",
       "var gd = document.getElementById('fe4801c1-8017-46e0-bcf8-d79286af0aa2');\n",
       "var x = new MutationObserver(function (mutations, observer) {{\n",
       "        var display = window.getComputedStyle(gd).display;\n",
       "        if (!display || display === 'none') {{\n",
       "            console.log([gd, 'removed!']);\n",
       "            Plotly.purge(gd);\n",
       "            observer.disconnect();\n",
       "        }}\n",
       "}});\n",
       "\n",
       "// Listen for the removal of the full notebook cells\n",
       "var notebookContainer = gd.closest('#notebook-container');\n",
       "if (notebookContainer) {{\n",
       "    x.observe(notebookContainer, {childList: true});\n",
       "}}\n",
       "\n",
       "// Listen for the clearing of the current output cell\n",
       "var outputEl = gd.closest('.output');\n",
       "if (outputEl) {{\n",
       "    x.observe(outputEl, {childList: true});\n",
       "}}\n",
       "\n",
       "                        })                };                });            </script>        </div>"
      ]
     },
     "metadata": {},
     "output_type": "display_data"
    }
   ],
   "source": [
    "# Visualise the optimisation history\n",
    "plot_optimization_history(study)"
   ]
  },
  {
   "cell_type": "code",
   "execution_count": 16,
   "metadata": {},
   "outputs": [
    {
     "data": {
      "image/png": "[encoded data removed]",
      "text/plain": [
       "<Figure size 864x720 with 3 Axes>"
      ]
     },
     "metadata": {
      "needs_background": "light"
     },
     "output_type": "display_data"
    }
   ],
   "source": [
    "# Visualise experiments of the PPO training\n",
    "visualise_training(iter_lst, avg_r_lst, var_r_lst, avg_ac_lst, trial_.params)"
   ]
  },
  {
   "cell_type": "markdown",
   "metadata": {},
   "source": [
    "## Experiment 2: The medium environment (n = 40) <a id='Experiment3_2'></a> "
   ]
  },
  {
   "cell_type": "code",
   "execution_count": 6,
   "metadata": {},
   "outputs": [
    {
     "name": "stderr",
     "output_type": "stream",
     "text": [
      "\u001b[32m[I 2021-04-04 00:35:13,000]\u001b[0m A new study created in memory with name: no-name-41a32994-3b34-4ec0-b2da-5e862572ed2a\u001b[0m\n"
     ]
    },
    {
     "name": "stdout",
     "output_type": "stream",
     "text": [
      "Iteration:   10 | Avg. Reward: 642.00 | Var. Reward: 786.9810 | Avg. Action Count: 533.55 | Actor Loss: -0.0055 | Critic Loss: 5068.9795\n",
      ">> Avg. Reward per Action: 1.2033\n",
      "Iteration:   20 | Avg. Reward: 711.03 | Var. Reward: 848.1416 | Avg. Action Count: 525.07 | Actor Loss: -0.0014 | Critic Loss: 2320.4495\n",
      ">> Avg. Reward per Action: 1.3542\n",
      "Iteration:   30 | Avg. Reward: 668.33 | Var. Reward: 884.6776 | Avg. Action Count: 546.52 | Actor Loss: -0.0020 | Critic Loss: 8183.6226\n",
      ">> Avg. Reward per Action: 1.2229\n",
      "Iteration:   40 | Avg. Reward: 540.37 | Var. Reward: 1064.2334 | Avg. Action Count: 608.88 | Actor Loss: -0.0018 | Critic Loss: 2979.5510\n",
      ">> Avg. Reward per Action: 0.8875\n",
      "Iteration:   50 | Avg. Reward: -2204.11 | Var. Reward: 2157.9302 | Avg. Action Count: 1217.21 | Actor Loss: 0.0036 | Critic Loss: 6968.2134\n",
      ">> Avg. Reward per Action: -1.8108\n",
      "Iteration:   60 | Avg. Reward: -261.95 | Var. Reward: 1625.6869 | Avg. Action Count: 883.95 | Actor Loss: -0.0018 | Critic Loss: 4506.7866\n",
      ">> Avg. Reward per Action: -0.2963\n",
      "Iteration:   70 | Avg. Reward: -1125.28 | Var. Reward: 1950.5665 | Avg. Action Count: 1056.03 | Actor Loss: 0.0083 | Critic Loss: 5006.5898\n",
      ">> Avg. Reward per Action: -1.0656\n",
      "Iteration:   80 | Avg. Reward: -596.60 | Var. Reward: 1722.2532 | Avg. Action Count: 966.15 | Actor Loss: 0.0089 | Critic Loss: 1365.5728\n",
      ">> Avg. Reward per Action: -0.6175\n",
      "Iteration:   90 | Avg. Reward: -462.13 | Var. Reward: 1830.5415 | Avg. Action Count: 887.08 | Actor Loss: -0.0010 | Critic Loss: 2779.9512\n",
      ">> Avg. Reward per Action: -0.5210\n",
      "Iteration:  100 | Avg. Reward: -598.86 | Var. Reward: 1710.4619 | Avg. Action Count: 970.21 | Actor Loss: -0.0047 | Critic Loss: 2398.2322\n",
      ">> Avg. Reward per Action: -0.6172\n",
      "Iteration:  110 | Avg. Reward: -452.43 | Var. Reward: 1775.7880 | Avg. Action Count: 901.28 | Actor Loss: 0.0081 | Critic Loss: 3621.0886\n",
      ">> Avg. Reward per Action: -0.5020\n",
      "Iteration:  120 | Avg. Reward: 524.08 | Var. Reward: 1093.9778 | Avg. Action Count: 640.42 | Actor Loss: 0.0013 | Critic Loss: 7680.0117\n",
      ">> Avg. Reward per Action: 0.8183\n",
      "Iteration:  130 | Avg. Reward: 764.96 | Var. Reward: 954.9237 | Avg. Action Count: 517.54 | Actor Loss: -0.0022 | Critic Loss: 1260.2994\n",
      ">> Avg. Reward per Action: 1.4781\n",
      "Iteration:  140 | Avg. Reward: -346.24 | Var. Reward: 1706.7972 | Avg. Action Count: 895.34 | Actor Loss: 0.0016 | Critic Loss: 3496.2058\n",
      ">> Avg. Reward per Action: -0.3867\n",
      "Iteration:  150 | Avg. Reward: -1129.08 | Var. Reward: 1588.6378 | Avg. Action Count: 1196.28 | Actor Loss: -0.0017 | Critic Loss: 1095.5016\n",
      ">> Avg. Reward per Action: -0.9438\n",
      "Iteration:  160 | Avg. Reward: -616.30 | Var. Reward: 1733.7951 | Avg. Action Count: 972.90 | Actor Loss: 0.0009 | Critic Loss: 1999.1017\n",
      ">> Avg. Reward per Action: -0.6335\n",
      "Iteration:  170 | Avg. Reward: 303.80 | Var. Reward: 1439.0217 | Avg. Action Count: 673.10 | Actor Loss: 0.0016 | Critic Loss: 1281.7872\n",
      ">> Avg. Reward per Action: 0.4513\n",
      "Iteration:  180 | Avg. Reward: 322.33 | Var. Reward: 1255.0531 | Avg. Action Count: 708.87 | Actor Loss: 0.0035 | Critic Loss: 4115.8101\n",
      ">> Avg. Reward per Action: 0.4547\n",
      "Iteration:  190 | Avg. Reward: -1096.09 | Var. Reward: 1798.0621 | Avg. Action Count: 1105.04 | Actor Loss: 0.0004 | Critic Loss: 890.4252\n",
      ">> Avg. Reward per Action: -0.9919\n",
      "Iteration:  200 | Avg. Reward: -747.92 | Var. Reward: 1922.7092 | Avg. Action Count: 963.92 | Actor Loss: 0.0074 | Critic Loss: 3199.7261\n",
      ">> Avg. Reward per Action: -0.7759\n",
      "Iteration:  210 | Avg. Reward: -707.50 | Var. Reward: 1756.7031 | Avg. Action Count: 1007.95 | Actor Loss: -0.0005 | Critic Loss: 1787.2759\n",
      ">> Avg. Reward per Action: -0.7019\n",
      "Iteration:  220 | Avg. Reward: -100.22 | Var. Reward: 1608.0258 | Avg. Action Count: 832.27 | Actor Loss: -0.0005 | Critic Loss: 1127.6455\n",
      ">> Avg. Reward per Action: -0.1204\n",
      "Iteration:  230 | Avg. Reward: -85.47 | Var. Reward: 1556.0666 | Avg. Action Count: 846.12 | Actor Loss: 0.0049 | Critic Loss: 1243.2361\n",
      ">> Avg. Reward per Action: -0.1010\n",
      "Iteration:  240 | Avg. Reward: -360.95 | Var. Reward: 1584.4588 | Avg. Action Count: 959.90 | Actor Loss: -0.0014 | Critic Loss: 59.0840\n",
      ">> Avg. Reward per Action: -0.3760\n",
      "Iteration:  250 | Avg. Reward: 81.99 | Var. Reward: 1559.6772 | Avg. Action Count: 762.66 | Actor Loss: 0.0006 | Critic Loss: 1601.6144\n",
      ">> Avg. Reward per Action: 0.1075\n",
      "Iteration:  260 | Avg. Reward: -244.49 | Var. Reward: 1627.7801 | Avg. Action Count: 893.79 | Actor Loss: -0.0011 | Critic Loss: 990.1451\n",
      ">> Avg. Reward per Action: -0.2735\n",
      "Iteration:  270 | Avg. Reward: 376.89 | Var. Reward: 1346.9392 | Avg. Action Count: 649.46 | Actor Loss: -0.0003 | Critic Loss: 666.3316\n",
      ">> Avg. Reward per Action: 0.5803\n",
      "Iteration:  280 | Avg. Reward: 258.25 | Var. Reward: 1393.5194 | Avg. Action Count: 723.75 | Actor Loss: 0.0059 | Critic Loss: 1036.8303\n",
      ">> Avg. Reward per Action: 0.3568\n",
      "Iteration:  290 | Avg. Reward: 283.15 | Var. Reward: 1417.4659 | Avg. Action Count: 697.75 | Actor Loss: -0.0022 | Critic Loss: 1539.1715\n",
      ">> Avg. Reward per Action: 0.4058\n",
      "Iteration:  300 | Avg. Reward: 618.74 | Var. Reward: 971.4669 | Avg. Action Count: 637.21 | Actor Loss: -0.0079 | Critic Loss: 152.4231\n",
      ">> Avg. Reward per Action: 0.9710\n",
      "Iteration:  310 | Avg. Reward: 164.47 | Var. Reward: 1513.8496 | Avg. Action Count: 737.03 | Actor Loss: 0.0004 | Critic Loss: 4247.4541\n",
      ">> Avg. Reward per Action: 0.2232\n",
      "Iteration:  320 | Avg. Reward: 115.74 | Var. Reward: 1435.6901 | Avg. Action Count: 792.96 | Actor Loss: -0.0017 | Critic Loss: 756.1403\n",
      ">> Avg. Reward per Action: 0.1460\n"
     ]
    },
    {
     "name": "stderr",
     "output_type": "stream",
     "text": [
      "\u001b[32m[I 2021-04-04 00:57:43,005]\u001b[0m Trial 0 finished with value: 1.4780693279746495 and parameters: {'n_layers': 2, 'hidden_size': 128, 'learning_rate': 0.0002732227142717246, 'gamma': 0.6071798396332846, 'multiplier': 3}. Best is trial 0 with value: 1.4780693279746495.\u001b[0m\n"
     ]
    },
    {
     "name": "stdout",
     "output_type": "stream",
     "text": [
      "Iteration:  330 | Avg. Reward: 251.48 | Var. Reward: 1367.8432 | Avg. Action Count: 751.97 | Actor Loss: 0.0039 | Critic Loss: 1926.5757\n",
      ">> Avg. Reward per Action: 0.3344\n",
      "Early stopping: Have no improvement since 130 iterations \n",
      "\n",
      "Iteration:   10 | Avg. Reward: 1507.58 | Var. Reward: 63.6382 | Avg. Action Count: 43.37 | Actor Loss: 0.0652 | Critic Loss: 29811.3281\n",
      ">> Avg. Reward per Action: 34.7609\n",
      "Iteration:   20 | Avg. Reward: -1207.80 | Var. Reward: 2755.7598 | Avg. Action Count: 932.70 | Actor Loss: 0.0549 | Critic Loss: 2510.8572\n",
      ">> Avg. Reward per Action: -1.2950\n",
      "Iteration:   30 | Avg. Reward: -1879.25 | Var. Reward: 1507.4972 | Avg. Action Count: 1348.55 | Actor Loss: 0.1041 | Critic Loss: 1662.3232\n",
      ">> Avg. Reward per Action: -1.3935\n",
      "Iteration:   40 | Avg. Reward: 35.92 | Var. Reward: 1214.5445 | Avg. Action Count: 955.58 | Actor Loss: 0.0280 | Critic Loss: 1067.1434\n",
      ">> Avg. Reward per Action: 0.0376\n",
      "Iteration:   50 | Avg. Reward: 1457.56 | Var. Reward: 92.8477 | Avg. Action Count: 84.29 | Actor Loss: 0.0654 | Critic Loss: 11912.5469\n",
      ">> Avg. Reward per Action: 17.2922\n",
      "Iteration:   60 | Avg. Reward: -840.90 | Var. Reward: 1628.5651 | Avg. Action Count: 1112.40 | Actor Loss: 0.0209 | Critic Loss: 699.6245\n",
      ">> Avg. Reward per Action: -0.7559\n",
      "Iteration:   70 | Avg. Reward: 522.19 | Var. Reward: 1041.6034 | Avg. Action Count: 589.01 | Actor Loss: 0.0165 | Critic Loss: 2767.8350\n",
      ">> Avg. Reward per Action: 0.8866\n",
      "Iteration:   80 | Avg. Reward: 1149.28 | Var. Reward: 321.2496 | Avg. Action Count: 286.12 | Actor Loss: 0.0089 | Critic Loss: 4573.5718\n",
      ">> Avg. Reward per Action: 4.0168\n",
      "Iteration:   90 | Avg. Reward: -181.57 | Var. Reward: 1585.2188 | Avg. Action Count: 874.22 | Actor Loss: 0.0050 | Critic Loss: 802.1995\n",
      ">> Avg. Reward per Action: -0.2077\n",
      "Iteration:  100 | Avg. Reward: 46.90 | Var. Reward: 1473.3565 | Avg. Action Count: 802.75 | Actor Loss: -0.0005 | Critic Loss: 1020.0949\n",
      ">> Avg. Reward per Action: 0.0584\n",
      "Iteration:  110 | Avg. Reward: -1051.33 | Var. Reward: 2496.5537 | Avg. Action Count: 915.48 | Actor Loss: 0.0004 | Critic Loss: 382.2580\n",
      ">> Avg. Reward per Action: -1.1484\n",
      "Iteration:  120 | Avg. Reward: -1477.85 | Var. Reward: 1429.9838 | Avg. Action Count: 1324.95 | Actor Loss: 0.0006 | Critic Loss: 84.6642\n",
      ">> Avg. Reward per Action: -1.1154\n",
      "Iteration:  130 | Avg. Reward: -1426.56 | Var. Reward: 1932.2564 | Avg. Action Count: 1150.91 | Actor Loss: -0.0030 | Critic Loss: 216.1834\n",
      ">> Avg. Reward per Action: -1.2395\n",
      "Iteration:  140 | Avg. Reward: -1700.44 | Var. Reward: 1601.1678 | Avg. Action Count: 1332.99 | Actor Loss: 0.0073 | Critic Loss: 135.3661\n",
      ">> Avg. Reward per Action: -1.2757\n",
      "Iteration:  150 | Avg. Reward: -786.33 | Var. Reward: 1457.9808 | Avg. Action Count: 1166.68 | Actor Loss: 0.0090 | Critic Loss: 81.1016\n",
      ">> Avg. Reward per Action: -0.6740\n",
      "Iteration:  160 | Avg. Reward: -1414.19 | Var. Reward: 1756.5890 | Avg. Action Count: 1206.74 | Actor Loss: 0.0011 | Critic Loss: 553.4079\n",
      ">> Avg. Reward per Action: -1.1719\n",
      "Iteration:  170 | Avg. Reward: -167.29 | Var. Reward: 1472.5095 | Avg. Action Count: 922.29 | Actor Loss: 0.0042 | Critic Loss: 160.7103\n",
      ">> Avg. Reward per Action: -0.1814\n",
      "Iteration:  180 | Avg. Reward: -705.09 | Var. Reward: 1380.1085 | Avg. Action Count: 1161.64 | Actor Loss: 0.0014 | Critic Loss: 308.4373\n",
      ">> Avg. Reward per Action: -0.6070\n",
      "Iteration:  190 | Avg. Reward: -593.04 | Var. Reward: 1623.0389 | Avg. Action Count: 1048.49 | Actor Loss: 0.0029 | Critic Loss: 69.8018\n",
      ">> Avg. Reward per Action: -0.5656\n",
      "Iteration:  200 | Avg. Reward: -2207.78 | Var. Reward: 2075.1368 | Avg. Action Count: 1323.18 | Actor Loss: 0.0082 | Critic Loss: 335.9388\n",
      ">> Avg. Reward per Action: -1.6685\n"
     ]
    },
    {
     "name": "stderr",
     "output_type": "stream",
     "text": [
      "\u001b[32m[I 2021-04-04 01:21:16,901]\u001b[0m Trial 1 finished with value: 34.76089462762278 and parameters: {'n_layers': 2, 'hidden_size': 512, 'learning_rate': 0.0012147093014722961, 'gamma': 0.2547641907971162, 'multiplier': 4}. Best is trial 1 with value: 34.76089462762278.\u001b[0m\n"
     ]
    },
    {
     "name": "stdout",
     "output_type": "stream",
     "text": [
      "Iteration:  210 | Avg. Reward: 79.36 | Var. Reward: 1311.9815 | Avg. Action Count: 888.44 | Actor Loss: 0.0070 | Critic Loss: 106.0646\n",
      ">> Avg. Reward per Action: 0.0893\n",
      "Early stopping: Have no improvement since 10 iterations \n",
      "\n",
      "Iteration:   10 | Avg. Reward: 1416.47 | Var. Reward: 116.9731 | Avg. Action Count: 108.73 | Actor Loss: 0.0509 | Critic Loss: 33679.2148\n",
      ">> Avg. Reward per Action: 13.0274\n",
      "Iteration:   20 | Avg. Reward: 158.48 | Var. Reward: 1413.3874 | Avg. Action Count: 758.52 | Actor Loss: 0.0332 | Critic Loss: 966.6459\n",
      ">> Avg. Reward per Action: 0.2089\n",
      "Iteration:   30 | Avg. Reward: 1418.20 | Var. Reward: 213.3330 | Avg. Action Count: 100.20 | Actor Loss: 0.1061 | Critic Loss: 10465.9199\n",
      ">> Avg. Reward per Action: 14.1537\n",
      "Iteration:   40 | Avg. Reward: -336.42 | Var. Reward: 1852.2234 | Avg. Action Count: 821.27 | Actor Loss: 0.0367 | Critic Loss: 5686.0361\n",
      ">> Avg. Reward per Action: -0.4096\n",
      "Iteration:   50 | Avg. Reward: -506.14 | Var. Reward: 1562.1053 | Avg. Action Count: 1019.29 | Actor Loss: 0.0184 | Critic Loss: 4671.2905\n",
      ">> Avg. Reward per Action: -0.4966\n",
      "Iteration:   60 | Avg. Reward: -19.57 | Var. Reward: 1751.5419 | Avg. Action Count: 663.27 | Actor Loss: 0.0613 | Critic Loss: 8737.5166\n",
      ">> Avg. Reward per Action: -0.0295\n",
      "Iteration:   70 | Avg. Reward: 955.88 | Var. Reward: 815.8005 | Avg. Action Count: 458.62 | Actor Loss: 0.0515 | Critic Loss: 49.0345\n",
      ">> Avg. Reward per Action: 2.0843\n",
      "Iteration:   80 | Avg. Reward: -1032.53 | Var. Reward: 1601.7910 | Avg. Action Count: 1161.48 | Actor Loss: 0.0124 | Critic Loss: 700.6567\n",
      ">> Avg. Reward per Action: -0.8890\n",
      "Iteration:   90 | Avg. Reward: -575.18 | Var. Reward: 1643.0665 | Avg. Action Count: 1014.48 | Actor Loss: 0.0278 | Critic Loss: 765.8408\n",
      ">> Avg. Reward per Action: -0.5670\n",
      "Iteration:  100 | Avg. Reward: -572.01 | Var. Reward: 1556.9990 | Avg. Action Count: 1051.16 | Actor Loss: 0.0030 | Critic Loss: 1462.1777\n",
      ">> Avg. Reward per Action: -0.5442\n",
      "Iteration:  110 | Avg. Reward: -997.91 | Var. Reward: 1454.1179 | Avg. Action Count: 1214.46 | Actor Loss: 0.0054 | Critic Loss: 1880.9801\n",
      ">> Avg. Reward per Action: -0.8217\n",
      "Iteration:  120 | Avg. Reward: -1582.82 | Var. Reward: 1488.9064 | Avg. Action Count: 1315.92 | Actor Loss: 0.0110 | Critic Loss: 1331.9668\n",
      ">> Avg. Reward per Action: -1.2028\n",
      "Iteration:  130 | Avg. Reward: -38.25 | Var. Reward: 1345.6303 | Avg. Action Count: 935.25 | Actor Loss: 0.0326 | Critic Loss: 25.6144\n",
      ">> Avg. Reward per Action: -0.0409\n",
      "Iteration:  140 | Avg. Reward: -580.94 | Var. Reward: 1431.6526 | Avg. Action Count: 1123.34 | Actor Loss: 0.0050 | Critic Loss: 506.5872\n",
      ">> Avg. Reward per Action: -0.5172\n",
      "Iteration:  150 | Avg. Reward: -648.92 | Var. Reward: 1425.0394 | Avg. Action Count: 1146.77 | Actor Loss: 0.0180 | Critic Loss: 1254.5320\n",
      ">> Avg. Reward per Action: -0.5659\n",
      "Iteration:  160 | Avg. Reward: -3.42 | Var. Reward: 1354.0739 | Avg. Action Count: 921.22 | Actor Loss: 0.0146 | Critic Loss: 2076.6006\n",
      ">> Avg. Reward per Action: -0.0037\n",
      "Iteration:  170 | Avg. Reward: 656.35 | Var. Reward: 960.4172 | Avg. Action Count: 627.30 | Actor Loss: 0.0153 | Critic Loss: 315.8372\n",
      ">> Avg. Reward per Action: 1.0463\n",
      "Iteration:  180 | Avg. Reward: -2051.16 | Var. Reward: 1220.6801 | Avg. Action Count: 1441.41 | Actor Loss: 0.0466 | Critic Loss: 526.3907\n",
      ">> Avg. Reward per Action: -1.4230\n",
      "Iteration:  190 | Avg. Reward: -8748.34 | Var. Reward: 2832.9703 | Avg. Action Count: 1488.99 | Actor Loss: 0.0746 | Critic Loss: 120.3478\n",
      ">> Avg. Reward per Action: -5.8754\n",
      "Iteration:  200 | Avg. Reward: 1296.28 | Var. Reward: 205.5767 | Avg. Action Count: 211.67 | Actor Loss: 0.1033 | Critic Loss: 2206.3376\n",
      ">> Avg. Reward per Action: 6.1241\n",
      "Iteration:  210 | Avg. Reward: 1223.58 | Var. Reward: 271.6870 | Avg. Action Count: 269.97 | Actor Loss: 0.1220 | Critic Loss: 365.1362\n",
      ">> Avg. Reward per Action: 4.5323\n",
      "Iteration:  220 | Avg. Reward: 1350.11 | Var. Reward: 146.4998 | Avg. Action Count: 160.04 | Actor Loss: 0.2122 | Critic Loss: 88.7086\n",
      ">> Avg. Reward per Action: 8.4361\n"
     ]
    },
    {
     "name": "stderr",
     "output_type": "stream",
     "text": [
      "\u001b[32m[I 2021-04-04 01:36:36,225]\u001b[0m Trial 2 finished with value: 14.15369261477046 and parameters: {'n_layers': 1, 'hidden_size': 128, 'learning_rate': 0.00327765698081701, 'gamma': 0.39493298309158387, 'multiplier': 4}. Best is trial 1 with value: 34.76089462762278.\u001b[0m\n"
     ]
    },
    {
     "name": "stdout",
     "output_type": "stream",
     "text": [
      "Iteration:  230 | Avg. Reward: 1325.59 | Var. Reward: 177.8077 | Avg. Action Count: 170.41 | Actor Loss: 0.0148 | Critic Loss: 8380.9307\n",
      ">> Avg. Reward per Action: 7.7788\n",
      "Early stopping: Have no improvement since 30 iterations \n",
      "\n",
      "Iteration:   10 | Avg. Reward: -1221.32 | Var. Reward: 1895.8377 | Avg. Action Count: 1078.42 | Actor Loss: 0.0442 | Critic Loss: 76.8850\n",
      ">> Avg. Reward per Action: -1.1325\n",
      "Iteration:   20 | Avg. Reward: 1244.86 | Var. Reward: 307.9683 | Avg. Action Count: 148.44 | Actor Loss: 0.0078 | Critic Loss: 9172.6221\n",
      ">> Avg. Reward per Action: 8.3863\n",
      "Iteration:   30 | Avg. Reward: -865.45 | Var. Reward: 1943.1343 | Avg. Action Count: 993.85 | Actor Loss: 0.0672 | Critic Loss: 43.6588\n",
      ">> Avg. Reward per Action: -0.8708\n",
      "Iteration:   40 | Avg. Reward: 1511.66 | Var. Reward: 52.8194 | Avg. Action Count: 40.49 | Actor Loss: 0.2138 | Critic Loss: 75915.4766\n",
      ">> Avg. Reward per Action: 37.3342\n",
      "Iteration:   50 | Avg. Reward: -2976.64 | Var. Reward: 2127.8400 | Avg. Action Count: 1330.84 | Actor Loss: 0.0331 | Critic Loss: 989.9881\n",
      ">> Avg. Reward per Action: -2.2367\n",
      "Iteration:   60 | Avg. Reward: 962.12 | Var. Reward: 673.4748 | Avg. Action Count: 452.13 | Actor Loss: 0.0462 | Critic Loss: 2970.3677\n",
      ">> Avg. Reward per Action: 2.1280\n",
      "Iteration:   70 | Avg. Reward: 657.18 | Var. Reward: 1194.9809 | Avg. Action Count: 506.67 | Actor Loss: 0.1179 | Critic Loss: 3645.3013\n",
      ">> Avg. Reward per Action: 1.2971\n",
      "Iteration:   80 | Avg. Reward: 304.31 | Var. Reward: 1264.8870 | Avg. Action Count: 751.89 | Actor Loss: 0.0740 | Critic Loss: 5180.7544\n",
      ">> Avg. Reward per Action: 0.4047\n",
      "Iteration:   90 | Avg. Reward: -1373.91 | Var. Reward: 2187.9204 | Avg. Action Count: 1039.36 | Actor Loss: 0.0121 | Critic Loss: 3705.5068\n",
      ">> Avg. Reward per Action: -1.3219\n",
      "Iteration:  100 | Avg. Reward: 1018.42 | Var. Reward: 695.2993 | Avg. Action Count: 403.43 | Actor Loss: 0.0069 | Critic Loss: 3242.3342\n",
      ">> Avg. Reward per Action: 2.5244\n",
      "Iteration:  110 | Avg. Reward: 234.64 | Var. Reward: 1341.6449 | Avg. Action Count: 762.26 | Actor Loss: 0.0022 | Critic Loss: 595.3350\n",
      ">> Avg. Reward per Action: 0.3078\n",
      "Iteration:  120 | Avg. Reward: -174.48 | Var. Reward: 1630.6513 | Avg. Action Count: 852.03 | Actor Loss: 0.0123 | Critic Loss: 4560.1982\n",
      ">> Avg. Reward per Action: -0.2048\n",
      "Iteration:  130 | Avg. Reward: 465.80 | Var. Reward: 1197.6416 | Avg. Action Count: 677.05 | Actor Loss: 0.0041 | Critic Loss: 1679.6376\n",
      ">> Avg. Reward per Action: 0.6880\n",
      "Iteration:  140 | Avg. Reward: 894.17 | Var. Reward: 762.2132 | Avg. Action Count: 487.03 | Actor Loss: 0.0040 | Critic Loss: 3718.0308\n",
      ">> Avg. Reward per Action: 1.8360\n",
      "Iteration:  150 | Avg. Reward: -223.99 | Var. Reward: 1676.0078 | Avg. Action Count: 865.04 | Actor Loss: -0.0003 | Critic Loss: 1655.9850\n",
      ">> Avg. Reward per Action: -0.2589\n",
      "Iteration:  160 | Avg. Reward: -5383.34 | Var. Reward: 2986.9466 | Avg. Action Count: 1375.44 | Actor Loss: 0.0514 | Critic Loss: 727.1273\n",
      ">> Avg. Reward per Action: -3.9139\n",
      "Iteration:  170 | Avg. Reward: 1241.04 | Var. Reward: 498.3634 | Avg. Action Count: 204.76 | Actor Loss: 0.0633 | Critic Loss: 8743.3027\n",
      ">> Avg. Reward per Action: 6.0609\n",
      "Iteration:  180 | Avg. Reward: 1330.90 | Var. Reward: 253.9876 | Avg. Action Count: 187.40 | Actor Loss: 0.0204 | Critic Loss: 8549.9482\n",
      ">> Avg. Reward per Action: 7.1019\n",
      "Iteration:  190 | Avg. Reward: 1158.53 | Var. Reward: 646.3863 | Avg. Action Count: 308.67 | Actor Loss: 0.0214 | Critic Loss: 1115.9972\n",
      ">> Avg. Reward per Action: 3.7533\n",
      "Iteration:  200 | Avg. Reward: 1282.54 | Var. Reward: 294.9056 | Avg. Action Count: 235.96 | Actor Loss: 0.0213 | Critic Loss: 2919.6755\n",
      ">> Avg. Reward per Action: 5.4354\n",
      "Iteration:  210 | Avg. Reward: -1134.42 | Var. Reward: 2005.4485 | Avg. Action Count: 1065.92 | Actor Loss: 0.0039 | Critic Loss: 2088.7405\n",
      ">> Avg. Reward per Action: -1.0643\n",
      "Iteration:  220 | Avg. Reward: 488.89 | Var. Reward: 1257.7819 | Avg. Action Count: 620.81 | Actor Loss: 0.0005 | Critic Loss: 811.3560\n",
      ">> Avg. Reward per Action: 0.7875\n",
      "Iteration:  230 | Avg. Reward: 23.34 | Var. Reward: 1525.7909 | Avg. Action Count: 803.86 | Actor Loss: -0.0038 | Critic Loss: 2276.8479\n",
      ">> Avg. Reward per Action: 0.0290\n"
     ]
    },
    {
     "name": "stderr",
     "output_type": "stream",
     "text": [
      "\u001b[32m[I 2021-04-04 01:56:30,946]\u001b[0m Trial 3 finished with value: 37.334156581872065 and parameters: {'n_layers': 2, 'hidden_size': 512, 'learning_rate': 0.0005845651528792866, 'gamma': 0.7264892325955636, 'multiplier': 3}. Best is trial 3 with value: 37.334156581872065.\u001b[0m\n"
     ]
    },
    {
     "name": "stdout",
     "output_type": "stream",
     "text": [
      "Iteration:  240 | Avg. Reward: 1042.51 | Var. Reward: 653.9778 | Avg. Action Count: 381.64 | Actor Loss: 0.0566 | Critic Loss: 5166.2744\n",
      ">> Avg. Reward per Action: 2.7317\n",
      "Early stopping: Have no improvement since 40 iterations \n",
      "\n",
      "Iteration:   10 | Avg. Reward: 521.80 | Var. Reward: 940.4998 | Avg. Action Count: 642.65 | Actor Loss: -0.0036 | Critic Loss: 5426.0225\n",
      ">> Avg. Reward per Action: 0.8120\n",
      "Iteration:   20 | Avg. Reward: -1842.50 | Var. Reward: 1589.5351 | Avg. Action Count: 1324.90 | Actor Loss: 0.0025 | Critic Loss: 3442.2566\n",
      ">> Avg. Reward per Action: -1.3907\n",
      "Iteration:   30 | Avg. Reward: -1178.54 | Var. Reward: 1825.5138 | Avg. Action Count: 1120.39 | Actor Loss: 0.0431 | Critic Loss: 668.4521\n",
      ">> Avg. Reward per Action: -1.0519\n",
      "Iteration:   40 | Avg. Reward: -4319.05 | Var. Reward: 3086.2808 | Avg. Action Count: 1272.30 | Actor Loss: 0.0106 | Critic Loss: 2314.7312\n",
      ">> Avg. Reward per Action: -3.3947\n",
      "Iteration:   50 | Avg. Reward: -621.14 | Var. Reward: 1666.1670 | Avg. Action Count: 1024.84 | Actor Loss: 0.0128 | Critic Loss: 668.7712\n",
      ">> Avg. Reward per Action: -0.6061\n",
      "Iteration:   60 | Avg. Reward: -170.10 | Var. Reward: 1455.9352 | Avg. Action Count: 939.20 | Actor Loss: 0.0177 | Critic Loss: 590.4676\n",
      ">> Avg. Reward per Action: -0.1811\n",
      "Iteration:   70 | Avg. Reward: 987.00 | Var. Reward: 536.8410 | Avg. Action Count: 430.50 | Actor Loss: 0.0444 | Critic Loss: 5396.7568\n",
      ">> Avg. Reward per Action: 2.2927\n",
      "Iteration:   80 | Avg. Reward: -143.51 | Var. Reward: 1763.1967 | Avg. Action Count: 783.21 | Actor Loss: 0.0007 | Critic Loss: 1068.1278\n",
      ">> Avg. Reward per Action: -0.1832\n",
      "Iteration:   90 | Avg. Reward: 362.95 | Var. Reward: 1380.8614 | Avg. Action Count: 670.05 | Actor Loss: 0.0001 | Critic Loss: 2344.6392\n",
      ">> Avg. Reward per Action: 0.5417\n",
      "Iteration:  100 | Avg. Reward: 340.86 | Var. Reward: 1303.6613 | Avg. Action Count: 703.79 | Actor Loss: 0.0001 | Critic Loss: 979.2599\n",
      ">> Avg. Reward per Action: 0.4843\n",
      "Iteration:  110 | Avg. Reward: 539.63 | Var. Reward: 1196.0887 | Avg. Action Count: 609.87 | Actor Loss: 0.0092 | Critic Loss: 2253.5227\n",
      ">> Avg. Reward per Action: 0.8848\n",
      "Iteration:  120 | Avg. Reward: 500.08 | Var. Reward: 1051.9395 | Avg. Action Count: 669.77 | Actor Loss: 0.0057 | Critic Loss: 1329.2391\n",
      ">> Avg. Reward per Action: 0.7466\n",
      "Iteration:  130 | Avg. Reward: 726.72 | Var. Reward: 1043.6852 | Avg. Action Count: 534.53 | Actor Loss: -0.0077 | Critic Loss: 377.6274\n",
      ">> Avg. Reward per Action: 1.3595\n",
      "Iteration:  140 | Avg. Reward: -1173.76 | Var. Reward: 1594.7287 | Avg. Action Count: 1200.11 | Actor Loss: 0.0157 | Critic Loss: 1824.4597\n",
      ">> Avg. Reward per Action: -0.9780\n",
      "Iteration:  150 | Avg. Reward: 1096.00 | Var. Reward: 341.8318 | Avg. Action Count: 348.45 | Actor Loss: -0.0054 | Critic Loss: 4434.4146\n",
      ">> Avg. Reward per Action: 3.1454\n",
      "Iteration:  160 | Avg. Reward: -648.03 | Var. Reward: 1751.3801 | Avg. Action Count: 993.33 | Actor Loss: 0.0027 | Critic Loss: 2419.2749\n",
      ">> Avg. Reward per Action: -0.6524\n",
      "Iteration:  170 | Avg. Reward: 570.10 | Var. Reward: 1112.2789 | Avg. Action Count: 639.35 | Actor Loss: 0.0003 | Critic Loss: 3224.8235\n",
      ">> Avg. Reward per Action: 0.8917\n",
      "Iteration:  180 | Avg. Reward: -195.79 | Var. Reward: 1638.3353 | Avg. Action Count: 862.54 | Actor Loss: 0.0021 | Critic Loss: 928.5751\n",
      ">> Avg. Reward per Action: -0.2270\n",
      "Iteration:  190 | Avg. Reward: 1163.31 | Var. Reward: 347.3926 | Avg. Action Count: 337.04 | Actor Loss: 0.0021 | Critic Loss: 490.7950\n",
      ">> Avg. Reward per Action: 3.4515\n",
      "Iteration:  200 | Avg. Reward: 1266.28 | Var. Reward: 310.4949 | Avg. Action Count: 198.37 | Actor Loss: 0.0619 | Critic Loss: 2761.1404\n",
      ">> Avg. Reward per Action: 6.3834\n",
      "Iteration:  210 | Avg. Reward: 1144.37 | Var. Reward: 511.1066 | Avg. Action Count: 339.18 | Actor Loss: -0.0020 | Critic Loss: 363.6641\n",
      ">> Avg. Reward per Action: 3.3739\n",
      "Iteration:  220 | Avg. Reward: 669.14 | Var. Reward: 1193.5778 | Avg. Action Count: 551.06 | Actor Loss: 0.0348 | Critic Loss: 2032.3433\n",
      ">> Avg. Reward per Action: 1.2143\n",
      "Iteration:  230 | Avg. Reward: 1043.92 | Var. Reward: 743.9976 | Avg. Action Count: 395.83 | Actor Loss: 0.0391 | Critic Loss: 1389.9498\n",
      ">> Avg. Reward per Action: 2.6373\n",
      "Iteration:  240 | Avg. Reward: 913.74 | Var. Reward: 768.8672 | Avg. Action Count: 498.01 | Actor Loss: 0.0011 | Critic Loss: 630.0993\n",
      ">> Avg. Reward per Action: 1.8348\n",
      "Iteration:  250 | Avg. Reward: -551.73 | Var. Reward: 1987.3756 | Avg. Action Count: 859.63 | Actor Loss: 0.0128 | Critic Loss: 9.1207\n",
      ">> Avg. Reward per Action: -0.6418\n",
      "Iteration:  260 | Avg. Reward: 1397.70 | Var. Reward: 158.6276 | Avg. Action Count: 142.85 | Actor Loss: 0.0159 | Critic Loss: 3908.1111\n",
      ">> Avg. Reward per Action: 9.7844\n",
      "Iteration:  270 | Avg. Reward: 259.31 | Var. Reward: 1427.0715 | Avg. Action Count: 739.39 | Actor Loss: 0.2042 | Critic Loss: 1061.2655\n",
      ">> Avg. Reward per Action: 0.3507\n",
      "Iteration:  280 | Avg. Reward: 764.19 | Var. Reward: 797.9264 | Avg. Action Count: 594.81 | Actor Loss: 0.0278 | Critic Loss: 1043.4503\n",
      ">> Avg. Reward per Action: 1.2848\n",
      "Iteration:  290 | Avg. Reward: 421.80 | Var. Reward: 1252.5612 | Avg. Action Count: 703.25 | Actor Loss: 0.0000 | Critic Loss: 273.5388\n",
      ">> Avg. Reward per Action: 0.5998\n",
      "Iteration:  300 | Avg. Reward: -313.07 | Var. Reward: 1523.5664 | Avg. Action Count: 977.22 | Actor Loss: 0.0018 | Critic Loss: 1572.6833\n",
      ">> Avg. Reward per Action: -0.3204\n",
      "Iteration:  310 | Avg. Reward: -37.27 | Var. Reward: 1425.9120 | Avg. Action Count: 904.02 | Actor Loss: 0.0043 | Critic Loss: 1109.7695\n",
      ">> Avg. Reward per Action: -0.0412\n",
      "Iteration:  320 | Avg. Reward: 393.49 | Var. Reward: 1302.4685 | Avg. Action Count: 702.66 | Actor Loss: 0.0047 | Critic Loss: 483.2602\n",
      ">> Avg. Reward per Action: 0.5600\n",
      "Iteration:  330 | Avg. Reward: 951.90 | Var. Reward: 790.0300 | Avg. Action Count: 457.40 | Actor Loss: 0.0159 | Critic Loss: 764.8667\n",
      ">> Avg. Reward per Action: 2.0811\n",
      "Iteration:  340 | Avg. Reward: 937.47 | Var. Reward: 712.9929 | Avg. Action Count: 471.08 | Actor Loss: 0.0921 | Critic Loss: 1743.3364\n",
      ">> Avg. Reward per Action: 1.9900\n",
      "Iteration:  350 | Avg. Reward: 1093.43 | Var. Reward: 511.9628 | Avg. Action Count: 379.82 | Actor Loss: 0.0247 | Critic Loss: 3079.2214\n",
      ">> Avg. Reward per Action: 2.8788\n",
      "Iteration:  360 | Avg. Reward: 416.40 | Var. Reward: 1145.3007 | Avg. Action Count: 763.60 | Actor Loss: 0.0081 | Critic Loss: 847.7723\n",
      ">> Avg. Reward per Action: 0.5453\n",
      "Iteration:  370 | Avg. Reward: 1051.28 | Var. Reward: 551.6854 | Avg. Action Count: 429.97 | Actor Loss: 0.0011 | Critic Loss: 1436.6433\n",
      ">> Avg. Reward per Action: 2.4450\n",
      "Iteration:  380 | Avg. Reward: 209.81 | Var. Reward: 1326.4187 | Avg. Action Count: 812.44 | Actor Loss: 0.0066 | Critic Loss: 1072.9678\n",
      ">> Avg. Reward per Action: 0.2582\n",
      "Iteration:  390 | Avg. Reward: 1066.10 | Var. Reward: 642.1092 | Avg. Action Count: 400.10 | Actor Loss: 0.0121 | Critic Loss: 848.2416\n",
      ">> Avg. Reward per Action: 2.6646\n",
      "Iteration:  400 | Avg. Reward: 1268.30 | Var. Reward: 271.0133 | Avg. Action Count: 248.35 | Actor Loss: 0.0265 | Critic Loss: 2517.0520\n",
      ">> Avg. Reward per Action: 5.1069\n",
      "Iteration:  410 | Avg. Reward: 1104.64 | Var. Reward: 413.7110 | Avg. Action Count: 378.71 | Actor Loss: 0.0005 | Critic Loss: 2490.7297\n",
      ">> Avg. Reward per Action: 2.9168\n",
      "Iteration:  420 | Avg. Reward: 816.59 | Var. Reward: 868.7033 | Avg. Action Count: 517.16 | Actor Loss: 0.0032 | Critic Loss: 1791.0887\n",
      ">> Avg. Reward per Action: 1.5790\n",
      "Iteration:  430 | Avg. Reward: 542.79 | Var. Reward: 1131.8778 | Avg. Action Count: 654.36 | Actor Loss: -0.0031 | Critic Loss: 620.3174\n",
      ">> Avg. Reward per Action: 0.8295\n",
      "Iteration:  440 | Avg. Reward: -3.84 | Var. Reward: 1501.9846 | Avg. Action Count: 856.09 | Actor Loss: 0.0242 | Critic Loss: 1326.5774\n",
      ">> Avg. Reward per Action: -0.0045\n",
      "Iteration:  450 | Avg. Reward: 964.28 | Var. Reward: 772.6296 | Avg. Action Count: 442.87 | Actor Loss: 0.0095 | Critic Loss: 461.1818\n",
      ">> Avg. Reward per Action: 2.1773\n"
     ]
    },
    {
     "name": "stderr",
     "output_type": "stream",
     "text": [
      "\u001b[32m[I 2021-04-04 02:24:50,211]\u001b[0m Trial 4 finished with value: 9.784389219460973 and parameters: {'n_layers': 2, 'hidden_size': 128, 'learning_rate': 0.001381568129256042, 'gamma': 0.562377636565944, 'multiplier': 3}. Best is trial 3 with value: 37.334156581872065.\u001b[0m\n"
     ]
    },
    {
     "name": "stdout",
     "output_type": "stream",
     "text": [
      "Iteration:  460 | Avg. Reward: 578.61 | Var. Reward: 1129.1380 | Avg. Action Count: 652.34 | Actor Loss: 0.0105 | Critic Loss: 1050.9052\n",
      ">> Avg. Reward per Action: 0.8870\n",
      "Early stopping: Have no improvement since 260 iterations \n",
      "\n",
      "\n",
      "Best trial:\n",
      "Best parameters: {'n_layers': 2, 'hidden_size': 512, 'learning_rate': 0.0005845651528792866, 'gamma': 0.7264892325955636, 'multiplier': 3}\n",
      "Iteration:   10 | Avg. Reward: 1248.34 | Var. Reward: 280.3468 | Avg. Action Count: 228.61 | Actor Loss: 0.0269 | Critic Loss: 28247.8027\n",
      ">> Avg. Reward per Action: 5.4606\n",
      "Iteration:   20 | Avg. Reward: -2285.11 | Var. Reward: 2623.9547 | Avg. Action Count: 1098.96 | Actor Loss: 0.0240 | Critic Loss: 5712.3232\n",
      ">> Avg. Reward per Action: -2.0793\n",
      "Iteration:   30 | Avg. Reward: 1163.89 | Var. Reward: 614.3610 | Avg. Action Count: 276.71 | Actor Loss: 0.0706 | Critic Loss: 926.4979\n",
      ">> Avg. Reward per Action: 4.2062\n",
      "Iteration:   40 | Avg. Reward: 880.65 | Var. Reward: 710.8860 | Avg. Action Count: 499.15 | Actor Loss: 0.0479 | Critic Loss: 13066.1113\n",
      ">> Avg. Reward per Action: 1.7643\n",
      "Iteration:   50 | Avg. Reward: -1521.31 | Var. Reward: 1468.6469 | Avg. Action Count: 1305.01 | Actor Loss: 0.0358 | Critic Loss: 14.1971\n",
      ">> Avg. Reward per Action: -1.1657\n",
      "Iteration:   60 | Avg. Reward: 1402.95 | Var. Reward: 165.1034 | Avg. Action Count: 143.90 | Actor Loss: 0.0080 | Critic Loss: 4550.8594\n",
      ">> Avg. Reward per Action: 9.7495\n",
      "Iteration:   70 | Avg. Reward: -1235.98 | Var. Reward: 2808.8689 | Avg. Action Count: 837.33 | Actor Loss: 0.0271 | Critic Loss: 6203.7720\n",
      ">> Avg. Reward per Action: -1.4761\n",
      "Iteration:   80 | Avg. Reward: 346.30 | Var. Reward: 2632.6527 | Avg. Action Count: 326.20 | Actor Loss: 0.0802 | Critic Loss: 16811.4531\n",
      ">> Avg. Reward per Action: 1.0616\n",
      "Iteration:   90 | Avg. Reward: 1328.77 | Var. Reward: 268.4906 | Avg. Action Count: 191.43 | Actor Loss: 0.1622 | Critic Loss: 42192.4922\n",
      ">> Avg. Reward per Action: 6.9413\n",
      "Iteration:  100 | Avg. Reward: 34.32 | Var. Reward: 1964.4836 | Avg. Action Count: 631.68 | Actor Loss: 0.0025 | Critic Loss: 1030.3743\n",
      ">> Avg. Reward per Action: 0.0543\n",
      "Iteration:  110 | Avg. Reward: 656.37 | Var. Reward: 1411.1717 | Avg. Action Count: 452.38 | Actor Loss: 0.0006 | Critic Loss: 5213.3398\n",
      ">> Avg. Reward per Action: 1.4509\n",
      "Iteration:  120 | Avg. Reward: -646.49 | Var. Reward: 2060.8940 | Avg. Action Count: 866.24 | Actor Loss: 0.0007 | Critic Loss: 1749.9387\n",
      ">> Avg. Reward per Action: -0.7463\n",
      "Iteration:  130 | Avg. Reward: 900.71 | Var. Reward: 1023.5938 | Avg. Action Count: 419.64 | Actor Loss: 0.0048 | Critic Loss: 2607.8247\n",
      ">> Avg. Reward per Action: 2.1464\n",
      "Iteration:  140 | Avg. Reward: -88.79 | Var. Reward: 1951.0370 | Avg. Action Count: 684.24 | Actor Loss: 0.0004 | Critic Loss: 1236.8744\n",
      ">> Avg. Reward per Action: -0.1298\n",
      "Iteration:  150 | Avg. Reward: -813.66 | Var. Reward: 2118.5146 | Avg. Action Count: 905.81 | Actor Loss: 0.0069 | Critic Loss: 1792.9323\n",
      ">> Avg. Reward per Action: -0.8983\n",
      "Iteration:  160 | Avg. Reward: -2993.72 | Var. Reward: 4341.8375 | Avg. Action Count: 1027.02 | Actor Loss: 0.1193 | Critic Loss: 1901.8319\n",
      ">> Avg. Reward per Action: -2.9150\n",
      "Iteration:  170 | Avg. Reward: -3592.39 | Var. Reward: 5281.9840 | Avg. Action Count: 815.04 | Actor Loss: 0.1446 | Critic Loss: 2219.3271\n",
      ">> Avg. Reward per Action: -4.4076\n",
      "Iteration:  180 | Avg. Reward: 451.84 | Var. Reward: 2860.2071 | Avg. Action Count: 334.66 | Actor Loss: 0.0862 | Critic Loss: 5952.4536\n",
      ">> Avg. Reward per Action: 1.3501\n",
      "Iteration:  190 | Avg. Reward: 271.28 | Var. Reward: 1860.3449 | Avg. Action Count: 527.47 | Actor Loss: -0.0013 | Critic Loss: 1347.6172\n",
      ">> Avg. Reward per Action: 0.5143\n",
      "Iteration:  200 | Avg. Reward: 413.03 | Var. Reward: 1588.7333 | Avg. Action Count: 536.57 | Actor Loss: 0.0145 | Critic Loss: 7437.6899\n",
      ">> Avg. Reward per Action: 0.7698\n",
      "Iteration:  210 | Avg. Reward: 316.90 | Var. Reward: 1476.1349 | Avg. Action Count: 665.25 | Actor Loss: 0.0073 | Critic Loss: 1630.7179\n",
      ">> Avg. Reward per Action: 0.4764\n",
      "Iteration:  220 | Avg. Reward: -6074.80 | Var. Reward: 3970.7699 | Avg. Action Count: 1315.50 | Actor Loss: 0.1639 | Critic Loss: 965.1116\n",
      ">> Avg. Reward per Action: -4.6179\n",
      "Iteration:  230 | Avg. Reward: 583.64 | Var. Reward: 1260.3896 | Avg. Action Count: 570.86 | Actor Loss: 0.0156 | Critic Loss: 108.9559\n",
      ">> Avg. Reward per Action: 1.0224\n",
      "Iteration:  240 | Avg. Reward: -1450.08 | Var. Reward: 2556.6363 | Avg. Action Count: 949.28 | Actor Loss: 0.0179 | Critic Loss: 3077.1216\n",
      ">> Avg. Reward per Action: -1.5276\n",
      "Iteration:  250 | Avg. Reward: 485.62 | Var. Reward: 1129.8433 | Avg. Action Count: 696.73 | Actor Loss: 0.0147 | Critic Loss: 2208.9646\n",
      ">> Avg. Reward per Action: 0.6970\n",
      "Iteration:  260 | Avg. Reward: 1158.78 | Var. Reward: 558.3303 | Avg. Action Count: 303.52 | Actor Loss: 0.0130 | Critic Loss: 3510.3564\n",
      ">> Avg. Reward per Action: 3.8178\n",
      "Early stopping: Have no improvement since 60 iterations \n",
      "\n"
     ]
    }
   ],
   "source": [
    "# Define the environment\n",
    "dungeon = IceDungeonPO(40)\n",
    "dungeon.reset()\n",
    "\n",
    "# Save the environment for evaluating the results\n",
    "FILENAME_ENV = open('dungeon_' + str(dungeon.size) + '.p', 'wb')\n",
    "pickle.dump(dungeon, FILENAME_ENV)\n",
    "FILENAME_ENV.close()\n",
    "\n",
    "# Create a study object and optimise the objective function\n",
    "study = optuna.create_study(direction='maximize')\n",
    "\n",
    "# Limit tuning iteration at 5 times\n",
    "study.optimize(objective, n_trials=5)\n",
    "print('\\nBest trial:')\n",
    "trial_ = study.best_trial\n",
    "print('Best parameters:', trial_.params)\n",
    "\n",
    "# Training with the optimal hyperparameters\n",
    "_, iter_lst, avg_r_lst, var_r_lst, avg_ac_lst = PPO(dungeon, trial_.params).learning(save_model=True)"
   ]
  },
  {
   "cell_type": "markdown",
   "metadata": {},
   "source": [
    "### Visualisation of the results <a id='vis3_2'></a>"
   ]
  },
  {
   "cell_type": "code",
   "execution_count": 7,
   "metadata": {},
   "outputs": [
    {
     "data": {
      "application/vnd.plotly.v1+json": {
       "config": {
        "plotlyServerURL": "https://plot.ly"
       },
       "data": [
        {
         "mode": "markers",
         "name": "Objective Value",
         "type": "scatter",
         "x": [
          0,
          1,
          2,
          3,
          4
         ],
         "y": [
          1.4780693279746495,
          34.76089462762278,
          14.15369261477046,
          37.334156581872065,
          9.784389219460973
         ]
        },
        {
         "name": "Best Value",
         "type": "scatter",
         "x": [
          0,
          1,
          2,
          3,
          4
         ],
         "y": [
          1.4780693279746495,
          34.76089462762278,
          34.76089462762278,
          37.334156581872065,
          37.334156581872065
         ]
        }
       ],
       "layout": {
        "autosize": true,
        "template": {
         "data": {
          "bar": [
           {
            "error_x": {
             "color": "#2a3f5f"
            },
            "error_y": {
             "color": "#2a3f5f"
            },
            "marker": {
             "line": {
              "color": "#E5ECF6",
              "width": 0.5
             }
            },
            "type": "bar"
           }
          ],
          "barpolar": [
           {
            "marker": {
             "line": {
              "color": "#E5ECF6",
              "width": 0.5
             }
            },
            "type": "barpolar"
           }
          ],
          "carpet": [
           {
            "aaxis": {
             "endlinecolor": "#2a3f5f",
             "gridcolor": "white",
             "linecolor": "white",
             "minorgridcolor": "white",
             "startlinecolor": "#2a3f5f"
            },
            "baxis": {
             "endlinecolor": "#2a3f5f",
             "gridcolor": "white",
             "linecolor": "white",
             "minorgridcolor": "white",
             "startlinecolor": "#2a3f5f"
            },
            "type": "carpet"
           }
          ],
          "choropleth": [
           {
            "colorbar": {
             "outlinewidth": 0,
             "ticks": ""
            },
            "type": "choropleth"
           }
          ],
          "contour": [
           {
            "colorbar": {
             "outlinewidth": 0,
             "ticks": ""
            },
            "colorscale": [
             [
              0,
              "#0d0887"
             ],
             [
              0.1111111111111111,
              "#46039f"
             ],
             [
              0.2222222222222222,
              "#7201a8"
             ],
             [
              0.3333333333333333,
              "#9c179e"
             ],
             [
              0.4444444444444444,
              "#bd3786"
             ],
             [
              0.5555555555555556,
              "#d8576b"
             ],
             [
              0.6666666666666666,
              "#ed7953"
             ],
             [
              0.7777777777777778,
              "#fb9f3a"
             ],
             [
              0.8888888888888888,
              "#fdca26"
             ],
             [
              1,
              "#f0f921"
             ]
            ],
            "type": "contour"
           }
          ],
          "contourcarpet": [
           {
            "colorbar": {
             "outlinewidth": 0,
             "ticks": ""
            },
            "type": "contourcarpet"
           }
          ],
          "heatmap": [
           {
            "colorbar": {
             "outlinewidth": 0,
             "ticks": ""
            },
            "colorscale": [
             [
              0,
              "#0d0887"
             ],
             [
              0.1111111111111111,
              "#46039f"
             ],
             [
              0.2222222222222222,
              "#7201a8"
             ],
             [
              0.3333333333333333,
              "#9c179e"
             ],
             [
              0.4444444444444444,
              "#bd3786"
             ],
             [
              0.5555555555555556,
              "#d8576b"
             ],
             [
              0.6666666666666666,
              "#ed7953"
             ],
             [
              0.7777777777777778,
              "#fb9f3a"
             ],
             [
              0.8888888888888888,
              "#fdca26"
             ],
             [
              1,
              "#f0f921"
             ]
            ],
            "type": "heatmap"
           }
          ],
          "heatmapgl": [
           {
            "colorbar": {
             "outlinewidth": 0,
             "ticks": ""
            },
            "colorscale": [
             [
              0,
              "#0d0887"
             ],
             [
              0.1111111111111111,
              "#46039f"
             ],
             [
              0.2222222222222222,
              "#7201a8"
             ],
             [
              0.3333333333333333,
              "#9c179e"
             ],
             [
              0.4444444444444444,
              "#bd3786"
             ],
             [
              0.5555555555555556,
              "#d8576b"
             ],
             [
              0.6666666666666666,
              "#ed7953"
             ],
             [
              0.7777777777777778,
              "#fb9f3a"
             ],
             [
              0.8888888888888888,
              "#fdca26"
             ],
             [
              1,
              "#f0f921"
             ]
            ],
            "type": "heatmapgl"
           }
          ],
          "histogram": [
           {
            "marker": {
             "colorbar": {
              "outlinewidth": 0,
              "ticks": ""
             }
            },
            "type": "histogram"
           }
          ],
          "histogram2d": [
           {
            "colorbar": {
             "outlinewidth": 0,
             "ticks": ""
            },
            "colorscale": [
             [
              0,
              "#0d0887"
             ],
             [
              0.1111111111111111,
              "#46039f"
             ],
             [
              0.2222222222222222,
              "#7201a8"
             ],
             [
              0.3333333333333333,
              "#9c179e"
             ],
             [
              0.4444444444444444,
              "#bd3786"
             ],
             [
              0.5555555555555556,
              "#d8576b"
             ],
             [
              0.6666666666666666,
              "#ed7953"
             ],
             [
              0.7777777777777778,
              "#fb9f3a"
             ],
             [
              0.8888888888888888,
              "#fdca26"
             ],
             [
              1,
              "#f0f921"
             ]
            ],
            "type": "histogram2d"
           }
          ],
          "histogram2dcontour": [
           {
            "colorbar": {
             "outlinewidth": 0,
             "ticks": ""
            },
            "colorscale": [
             [
              0,
              "#0d0887"
             ],
             [
              0.1111111111111111,
              "#46039f"
             ],
             [
              0.2222222222222222,
              "#7201a8"
             ],
             [
              0.3333333333333333,
              "#9c179e"
             ],
             [
              0.4444444444444444,
              "#bd3786"
             ],
             [
              0.5555555555555556,
              "#d8576b"
             ],
             [
              0.6666666666666666,
              "#ed7953"
             ],
             [
              0.7777777777777778,
              "#fb9f3a"
             ],
             [
              0.8888888888888888,
              "#fdca26"
             ],
             [
              1,
              "#f0f921"
             ]
            ],
            "type": "histogram2dcontour"
           }
          ],
          "mesh3d": [
           {
            "colorbar": {
             "outlinewidth": 0,
             "ticks": ""
            },
            "type": "mesh3d"
           }
          ],
          "parcoords": [
           {
            "line": {
             "colorbar": {
              "outlinewidth": 0,
              "ticks": ""
             }
            },
            "type": "parcoords"
           }
          ],
          "pie": [
           {
            "automargin": true,
            "type": "pie"
           }
          ],
          "scatter": [
           {
            "marker": {
             "colorbar": {
              "outlinewidth": 0,
              "ticks": ""
             }
            },
            "type": "scatter"
           }
          ],
          "scatter3d": [
           {
            "line": {
             "colorbar": {
              "outlinewidth": 0,
              "ticks": ""
             }
            },
            "marker": {
             "colorbar": {
              "outlinewidth": 0,
              "ticks": ""
             }
            },
            "type": "scatter3d"
           }
          ],
          "scattercarpet": [
           {
            "marker": {
             "colorbar": {
              "outlinewidth": 0,
              "ticks": ""
             }
            },
            "type": "scattercarpet"
           }
          ],
          "scattergeo": [
           {
            "marker": {
             "colorbar": {
              "outlinewidth": 0,
              "ticks": ""
             }
            },
            "type": "scattergeo"
           }
          ],
          "scattergl": [
           {
            "marker": {
             "colorbar": {
              "outlinewidth": 0,
              "ticks": ""
             }
            },
            "type": "scattergl"
           }
          ],
          "scattermapbox": [
           {
            "marker": {
             "colorbar": {
              "outlinewidth": 0,
              "ticks": ""
             }
            },
            "type": "scattermapbox"
           }
          ],
          "scatterpolar": [
           {
            "marker": {
             "colorbar": {
              "outlinewidth": 0,
              "ticks": ""
             }
            },
            "type": "scatterpolar"
           }
          ],
          "scatterpolargl": [
           {
            "marker": {
             "colorbar": {
              "outlinewidth": 0,
              "ticks": ""
             }
            },
            "type": "scatterpolargl"
           }
          ],
          "scatterternary": [
           {
            "marker": {
             "colorbar": {
              "outlinewidth": 0,
              "ticks": ""
             }
            },
            "type": "scatterternary"
           }
          ],
          "surface": [
           {
            "colorbar": {
             "outlinewidth": 0,
             "ticks": ""
            },
            "colorscale": [
             [
              0,
              "#0d0887"
             ],
             [
              0.1111111111111111,
              "#46039f"
             ],
             [
              0.2222222222222222,
              "#7201a8"
             ],
             [
              0.3333333333333333,
              "#9c179e"
             ],
             [
              0.4444444444444444,
              "#bd3786"
             ],
             [
              0.5555555555555556,
              "#d8576b"
             ],
             [
              0.6666666666666666,
              "#ed7953"
             ],
             [
              0.7777777777777778,
              "#fb9f3a"
             ],
             [
              0.8888888888888888,
              "#fdca26"
             ],
             [
              1,
              "#f0f921"
             ]
            ],
            "type": "surface"
           }
          ],
          "table": [
           {
            "cells": {
             "fill": {
              "color": "#EBF0F8"
             },
             "line": {
              "color": "white"
             }
            },
            "header": {
             "fill": {
              "color": "#C8D4E3"
             },
             "line": {
              "color": "white"
             }
            },
            "type": "table"
           }
          ]
         },
         "layout": {
          "annotationdefaults": {
           "arrowcolor": "#2a3f5f",
           "arrowhead": 0,
           "arrowwidth": 1
          },
          "autotypenumbers": "strict",
          "coloraxis": {
           "colorbar": {
            "outlinewidth": 0,
            "ticks": ""
           }
          },
          "colorscale": {
           "diverging": [
            [
             0,
             "#8e0152"
            ],
            [
             0.1,
             "#c51b7d"
            ],
            [
             0.2,
             "#de77ae"
            ],
            [
             0.3,
             "#f1b6da"
            ],
            [
             0.4,
             "#fde0ef"
            ],
            [
             0.5,
             "#f7f7f7"
            ],
            [
             0.6,
             "#e6f5d0"
            ],
            [
             0.7,
             "#b8e186"
            ],
            [
             0.8,
             "#7fbc41"
            ],
            [
             0.9,
             "#4d9221"
            ],
            [
             1,
             "#276419"
            ]
           ],
           "sequential": [
            [
             0,
             "#0d0887"
            ],
            [
             0.1111111111111111,
             "#46039f"
            ],
            [
             0.2222222222222222,
             "#7201a8"
            ],
            [
             0.3333333333333333,
             "#9c179e"
            ],
            [
             0.4444444444444444,
             "#bd3786"
            ],
            [
             0.5555555555555556,
             "#d8576b"
            ],
            [
             0.6666666666666666,
             "#ed7953"
            ],
            [
             0.7777777777777778,
             "#fb9f3a"
            ],
            [
             0.8888888888888888,
             "#fdca26"
            ],
            [
             1,
             "#f0f921"
            ]
           ],
           "sequentialminus": [
            [
             0,
             "#0d0887"
            ],
            [
             0.1111111111111111,
             "#46039f"
            ],
            [
             0.2222222222222222,
             "#7201a8"
            ],
            [
             0.3333333333333333,
             "#9c179e"
            ],
            [
             0.4444444444444444,
             "#bd3786"
            ],
            [
             0.5555555555555556,
             "#d8576b"
            ],
            [
             0.6666666666666666,
             "#ed7953"
            ],
            [
             0.7777777777777778,
             "#fb9f3a"
            ],
            [
             0.8888888888888888,
             "#fdca26"
            ],
            [
             1,
             "#f0f921"
            ]
           ]
          },
          "colorway": [
           "#636efa",
           "#EF553B",
           "#00cc96",
           "#ab63fa",
           "#FFA15A",
           "#19d3f3",
           "#FF6692",
           "#B6E880",
           "#FF97FF",
           "#FECB52"
          ],
          "font": {
           "color": "#2a3f5f"
          },
          "geo": {
           "bgcolor": "white",
           "lakecolor": "white",
           "landcolor": "#E5ECF6",
           "showlakes": true,
           "showland": true,
           "subunitcolor": "white"
          },
          "hoverlabel": {
           "align": "left"
          },
          "hovermode": "closest",
          "mapbox": {
           "style": "light"
          },
          "paper_bgcolor": "white",
          "plot_bgcolor": "#E5ECF6",
          "polar": {
           "angularaxis": {
            "gridcolor": "white",
            "linecolor": "white",
            "ticks": ""
           },
           "bgcolor": "#E5ECF6",
           "radialaxis": {
            "gridcolor": "white",
            "linecolor": "white",
            "ticks": ""
           }
          },
          "scene": {
           "xaxis": {
            "backgroundcolor": "#E5ECF6",
            "gridcolor": "white",
            "gridwidth": 2,
            "linecolor": "white",
            "showbackground": true,
            "ticks": "",
            "zerolinecolor": "white"
           },
           "yaxis": {
            "backgroundcolor": "#E5ECF6",
            "gridcolor": "white",
            "gridwidth": 2,
            "linecolor": "white",
            "showbackground": true,
            "ticks": "",
            "zerolinecolor": "white"
           },
           "zaxis": {
            "backgroundcolor": "#E5ECF6",
            "gridcolor": "white",
            "gridwidth": 2,
            "linecolor": "white",
            "showbackground": true,
            "ticks": "",
            "zerolinecolor": "white"
           }
          },
          "shapedefaults": {
           "line": {
            "color": "#2a3f5f"
           }
          },
          "ternary": {
           "aaxis": {
            "gridcolor": "white",
            "linecolor": "white",
            "ticks": ""
           },
           "baxis": {
            "gridcolor": "white",
            "linecolor": "white",
            "ticks": ""
           },
           "bgcolor": "#E5ECF6",
           "caxis": {
            "gridcolor": "white",
            "linecolor": "white",
            "ticks": ""
           }
          },
          "title": {
           "x": 0.05
          },
          "xaxis": {
           "automargin": true,
           "gridcolor": "white",
           "linecolor": "white",
           "ticks": "",
           "title": {
            "standoff": 15
           },
           "zerolinecolor": "white",
           "zerolinewidth": 2
          },
          "yaxis": {
           "automargin": true,
           "gridcolor": "white",
           "linecolor": "white",
           "ticks": "",
           "title": {
            "standoff": 15
           },
           "zerolinecolor": "white",
           "zerolinewidth": 2
          }
         }
        },
        "title": {
         "text": "Optimization History Plot"
        },
        "xaxis": {
         "autorange": true,
         "range": [
          -0.24280597752253924,
          4.242805977522539
         ],
         "title": {
          "text": "#Trials"
         },
         "type": "linear"
        },
        "yaxis": {
         "autorange": true,
         "range": [
          -1.1483319676929955,
          39.96055787753971
         ],
         "title": {
          "text": "Objective Value"
         },
         "type": "linear"
        }
       }
      },
      "image/png": "[encoded data removed]",
      "text/html": [
       "<div>                            <div id=\"2f6ab4c8-5e4a-4ee4-8a4b-2b86301fa14a\" class=\"plotly-graph-div\" style=\"height:525px; width:100%;\"></div>            <script type=\"text/javascript\">                require([\"plotly\"], function(Plotly) {                    window.PLOTLYENV=window.PLOTLYENV || {};                                    if (document.getElementById(\"2f6ab4c8-5e4a-4ee4-8a4b-2b86301fa14a\")) {                    Plotly.newPlot(                        \"2f6ab4c8-5e4a-4ee4-8a4b-2b86301fa14a\",                        [{\"mode\": \"markers\", \"name\": \"Objective Value\", \"type\": \"scatter\", \"x\": [0, 1, 2, 3, 4], \"y\": [1.4780693279746495, 34.76089462762278, 14.15369261477046, 37.334156581872065, 9.784389219460973]}, {\"name\": \"Best Value\", \"type\": \"scatter\", \"x\": [0, 1, 2, 3, 4], \"y\": [1.4780693279746495, 34.76089462762278, 34.76089462762278, 37.334156581872065, 37.334156581872065]}],                        {\"template\": {\"data\": {\"bar\": [{\"error_x\": {\"color\": \"#2a3f5f\"}, \"error_y\": {\"color\": \"#2a3f5f\"}, \"marker\": {\"line\": {\"color\": \"#E5ECF6\", \"width\": 0.5}}, \"type\": \"bar\"}], \"barpolar\": [{\"marker\": {\"line\": {\"color\": \"#E5ECF6\", \"width\": 0.5}}, \"type\": \"barpolar\"}], \"carpet\": [{\"aaxis\": {\"endlinecolor\": \"#2a3f5f\", \"gridcolor\": \"white\", \"linecolor\": \"white\", \"minorgridcolor\": \"white\", \"startlinecolor\": \"#2a3f5f\"}, \"baxis\": {\"endlinecolor\": \"#2a3f5f\", \"gridcolor\": \"white\", \"linecolor\": \"white\", \"minorgridcolor\": \"white\", \"startlinecolor\": \"#2a3f5f\"}, \"type\": \"carpet\"}], \"choropleth\": [{\"colorbar\": {\"outlinewidth\": 0, \"ticks\": \"\"}, \"type\": \"choropleth\"}], \"contour\": [{\"colorbar\": {\"outlinewidth\": 0, \"ticks\": \"\"}, \"colorscale\": [[0.0, \"#0d0887\"], [0.1111111111111111, \"#46039f\"], [0.2222222222222222, \"#7201a8\"], [0.3333333333333333, \"#9c179e\"], [0.4444444444444444, \"#bd3786\"], [0.5555555555555556, \"#d8576b\"], [0.6666666666666666, \"#ed7953\"], [0.7777777777777778, \"#fb9f3a\"], [0.8888888888888888, \"#fdca26\"], [1.0, \"#f0f921\"]], \"type\": \"contour\"}], \"contourcarpet\": [{\"colorbar\": {\"outlinewidth\": 0, \"ticks\": \"\"}, \"type\": \"contourcarpet\"}], \"heatmap\": [{\"colorbar\": {\"outlinewidth\": 0, \"ticks\": \"\"}, \"colorscale\": [[0.0, \"#0d0887\"], [0.1111111111111111, \"#46039f\"], [0.2222222222222222, \"#7201a8\"], [0.3333333333333333, \"#9c179e\"], [0.4444444444444444, \"#bd3786\"], [0.5555555555555556, \"#d8576b\"], [0.6666666666666666, \"#ed7953\"], [0.7777777777777778, \"#fb9f3a\"], [0.8888888888888888, \"#fdca26\"], [1.0, \"#f0f921\"]], \"type\": \"heatmap\"}], \"heatmapgl\": [{\"colorbar\": {\"outlinewidth\": 0, \"ticks\": \"\"}, \"colorscale\": [[0.0, \"#0d0887\"], [0.1111111111111111, \"#46039f\"], [0.2222222222222222, \"#7201a8\"], [0.3333333333333333, \"#9c179e\"], [0.4444444444444444, \"#bd3786\"], [0.5555555555555556, \"#d8576b\"], [0.6666666666666666, \"#ed7953\"], [0.7777777777777778, \"#fb9f3a\"], [0.8888888888888888, \"#fdca26\"], [1.0, \"#f0f921\"]], \"type\": \"heatmapgl\"}], \"histogram\": [{\"marker\": {\"colorbar\": {\"outlinewidth\": 0, \"ticks\": \"\"}}, \"type\": \"histogram\"}], \"histogram2d\": [{\"colorbar\": {\"outlinewidth\": 0, \"ticks\": \"\"}, \"colorscale\": [[0.0, \"#0d0887\"], [0.1111111111111111, \"#46039f\"], [0.2222222222222222, \"#7201a8\"], [0.3333333333333333, \"#9c179e\"], [0.4444444444444444, \"#bd3786\"], [0.5555555555555556, \"#d8576b\"], [0.6666666666666666, \"#ed7953\"], [0.7777777777777778, \"#fb9f3a\"], [0.8888888888888888, \"#fdca26\"], [1.0, \"#f0f921\"]], \"type\": \"histogram2d\"}], \"histogram2dcontour\": [{\"colorbar\": {\"outlinewidth\": 0, \"ticks\": \"\"}, \"colorscale\": [[0.0, \"#0d0887\"], [0.1111111111111111, \"#46039f\"], [0.2222222222222222, \"#7201a8\"], [0.3333333333333333, \"#9c179e\"], [0.4444444444444444, \"#bd3786\"], [0.5555555555555556, \"#d8576b\"], [0.6666666666666666, \"#ed7953\"], [0.7777777777777778, \"#fb9f3a\"], [0.8888888888888888, \"#fdca26\"], [1.0, \"#f0f921\"]], \"type\": \"histogram2dcontour\"}], \"mesh3d\": [{\"colorbar\": {\"outlinewidth\": 0, \"ticks\": \"\"}, \"type\": \"mesh3d\"}], \"parcoords\": [{\"line\": {\"colorbar\": {\"outlinewidth\": 0, \"ticks\": \"\"}}, \"type\": \"parcoords\"}], \"pie\": [{\"automargin\": true, \"type\": \"pie\"}], \"scatter\": [{\"marker\": {\"colorbar\": {\"outlinewidth\": 0, \"ticks\": \"\"}}, \"type\": \"scatter\"}], \"scatter3d\": [{\"line\": {\"colorbar\": {\"outlinewidth\": 0, \"ticks\": \"\"}}, \"marker\": {\"colorbar\": {\"outlinewidth\": 0, \"ticks\": \"\"}}, \"type\": \"scatter3d\"}], \"scattercarpet\": [{\"marker\": {\"colorbar\": {\"outlinewidth\": 0, \"ticks\": \"\"}}, \"type\": \"scattercarpet\"}], \"scattergeo\": [{\"marker\": {\"colorbar\": {\"outlinewidth\": 0, \"ticks\": \"\"}}, \"type\": \"scattergeo\"}], \"scattergl\": [{\"marker\": {\"colorbar\": {\"outlinewidth\": 0, \"ticks\": \"\"}}, \"type\": \"scattergl\"}], \"scattermapbox\": [{\"marker\": {\"colorbar\": {\"outlinewidth\": 0, \"ticks\": \"\"}}, \"type\": \"scattermapbox\"}], \"scatterpolar\": [{\"marker\": {\"colorbar\": {\"outlinewidth\": 0, \"ticks\": \"\"}}, \"type\": \"scatterpolar\"}], \"scatterpolargl\": [{\"marker\": {\"colorbar\": {\"outlinewidth\": 0, \"ticks\": \"\"}}, \"type\": \"scatterpolargl\"}], \"scatterternary\": [{\"marker\": {\"colorbar\": {\"outlinewidth\": 0, \"ticks\": \"\"}}, \"type\": \"scatterternary\"}], \"surface\": [{\"colorbar\": {\"outlinewidth\": 0, \"ticks\": \"\"}, \"colorscale\": [[0.0, \"#0d0887\"], [0.1111111111111111, \"#46039f\"], [0.2222222222222222, \"#7201a8\"], [0.3333333333333333, \"#9c179e\"], [0.4444444444444444, \"#bd3786\"], [0.5555555555555556, \"#d8576b\"], [0.6666666666666666, \"#ed7953\"], [0.7777777777777778, \"#fb9f3a\"], [0.8888888888888888, \"#fdca26\"], [1.0, \"#f0f921\"]], \"type\": \"surface\"}], \"table\": [{\"cells\": {\"fill\": {\"color\": \"#EBF0F8\"}, \"line\": {\"color\": \"white\"}}, \"header\": {\"fill\": {\"color\": \"#C8D4E3\"}, \"line\": {\"color\": \"white\"}}, \"type\": \"table\"}]}, \"layout\": {\"annotationdefaults\": {\"arrowcolor\": \"#2a3f5f\", \"arrowhead\": 0, \"arrowwidth\": 1}, \"autotypenumbers\": \"strict\", \"coloraxis\": {\"colorbar\": {\"outlinewidth\": 0, \"ticks\": \"\"}}, \"colorscale\": {\"diverging\": [[0, \"#8e0152\"], [0.1, \"#c51b7d\"], [0.2, \"#de77ae\"], [0.3, \"#f1b6da\"], [0.4, \"#fde0ef\"], [0.5, \"#f7f7f7\"], [0.6, \"#e6f5d0\"], [0.7, \"#b8e186\"], [0.8, \"#7fbc41\"], [0.9, \"#4d9221\"], [1, \"#276419\"]], \"sequential\": [[0.0, \"#0d0887\"], [0.1111111111111111, \"#46039f\"], [0.2222222222222222, \"#7201a8\"], [0.3333333333333333, \"#9c179e\"], [0.4444444444444444, \"#bd3786\"], [0.5555555555555556, \"#d8576b\"], [0.6666666666666666, \"#ed7953\"], [0.7777777777777778, \"#fb9f3a\"], [0.8888888888888888, \"#fdca26\"], [1.0, \"#f0f921\"]], \"sequentialminus\": [[0.0, \"#0d0887\"], [0.1111111111111111, \"#46039f\"], [0.2222222222222222, \"#7201a8\"], [0.3333333333333333, \"#9c179e\"], [0.4444444444444444, \"#bd3786\"], [0.5555555555555556, \"#d8576b\"], [0.6666666666666666, \"#ed7953\"], [0.7777777777777778, \"#fb9f3a\"], [0.8888888888888888, \"#fdca26\"], [1.0, \"#f0f921\"]]}, \"colorway\": [\"#636efa\", \"#EF553B\", \"#00cc96\", \"#ab63fa\", \"#FFA15A\", \"#19d3f3\", \"#FF6692\", \"#B6E880\", \"#FF97FF\", \"#FECB52\"], \"font\": {\"color\": \"#2a3f5f\"}, \"geo\": {\"bgcolor\": \"white\", \"lakecolor\": \"white\", \"landcolor\": \"#E5ECF6\", \"showlakes\": true, \"showland\": true, \"subunitcolor\": \"white\"}, \"hoverlabel\": {\"align\": \"left\"}, \"hovermode\": \"closest\", \"mapbox\": {\"style\": \"light\"}, \"paper_bgcolor\": \"white\", \"plot_bgcolor\": \"#E5ECF6\", \"polar\": {\"angularaxis\": {\"gridcolor\": \"white\", \"linecolor\": \"white\", \"ticks\": \"\"}, \"bgcolor\": \"#E5ECF6\", \"radialaxis\": {\"gridcolor\": \"white\", \"linecolor\": \"white\", \"ticks\": \"\"}}, \"scene\": {\"xaxis\": {\"backgroundcolor\": \"#E5ECF6\", \"gridcolor\": \"white\", \"gridwidth\": 2, \"linecolor\": \"white\", \"showbackground\": true, \"ticks\": \"\", \"zerolinecolor\": \"white\"}, \"yaxis\": {\"backgroundcolor\": \"#E5ECF6\", \"gridcolor\": \"white\", \"gridwidth\": 2, \"linecolor\": \"white\", \"showbackground\": true, \"ticks\": \"\", \"zerolinecolor\": \"white\"}, \"zaxis\": {\"backgroundcolor\": \"#E5ECF6\", \"gridcolor\": \"white\", \"gridwidth\": 2, \"linecolor\": \"white\", \"showbackground\": true, \"ticks\": \"\", \"zerolinecolor\": \"white\"}}, \"shapedefaults\": {\"line\": {\"color\": \"#2a3f5f\"}}, \"ternary\": {\"aaxis\": {\"gridcolor\": \"white\", \"linecolor\": \"white\", \"ticks\": \"\"}, \"baxis\": {\"gridcolor\": \"white\", \"linecolor\": \"white\", \"ticks\": \"\"}, \"bgcolor\": \"#E5ECF6\", \"caxis\": {\"gridcolor\": \"white\", \"linecolor\": \"white\", \"ticks\": \"\"}}, \"title\": {\"x\": 0.05}, \"xaxis\": {\"automargin\": true, \"gridcolor\": \"white\", \"linecolor\": \"white\", \"ticks\": \"\", \"title\": {\"standoff\": 15}, \"zerolinecolor\": \"white\", \"zerolinewidth\": 2}, \"yaxis\": {\"automargin\": true, \"gridcolor\": \"white\", \"linecolor\": \"white\", \"ticks\": \"\", \"title\": {\"standoff\": 15}, \"zerolinecolor\": \"white\", \"zerolinewidth\": 2}}}, \"title\": {\"text\": \"Optimization History Plot\"}, \"xaxis\": {\"title\": {\"text\": \"#Trials\"}}, \"yaxis\": {\"title\": {\"text\": \"Objective Value\"}}},                        {\"responsive\": true}                    ).then(function(){\n",
       "                            \n",
       "var gd = document.getElementById('2f6ab4c8-5e4a-4ee4-8a4b-2b86301fa14a');\n",
       "var x = new MutationObserver(function (mutations, observer) {{\n",
       "        var display = window.getComputedStyle(gd).display;\n",
       "        if (!display || display === 'none') {{\n",
       "            console.log([gd, 'removed!']);\n",
       "            Plotly.purge(gd);\n",
       "            observer.disconnect();\n",
       "        }}\n",
       "}});\n",
       "\n",
       "// Listen for the removal of the full notebook cells\n",
       "var notebookContainer = gd.closest('#notebook-container');\n",
       "if (notebookContainer) {{\n",
       "    x.observe(notebookContainer, {childList: true});\n",
       "}}\n",
       "\n",
       "// Listen for the clearing of the current output cell\n",
       "var outputEl = gd.closest('.output');\n",
       "if (outputEl) {{\n",
       "    x.observe(outputEl, {childList: true});\n",
       "}}\n",
       "\n",
       "                        })                };                });            </script>        </div>"
      ]
     },
     "metadata": {},
     "output_type": "display_data"
    }
   ],
   "source": [
    "# Visualise the optimisation history\n",
    "plot_optimization_history(study)"
   ]
  },
  {
   "cell_type": "code",
   "execution_count": 8,
   "metadata": {},
   "outputs": [
    {
     "data": {
      "image/png": "[encoded data removed]",
      "text/plain": [
       "<Figure size 864x720 with 3 Axes>"
      ]
     },
     "metadata": {
      "needs_background": "light"
     },
     "output_type": "display_data"
    }
   ],
   "source": [
    "# Visualise experiments of the PPO training\n",
    "visualise_training(iter_lst, avg_r_lst, var_r_lst, avg_ac_lst, trial_.params)"
   ]
  },
  {
   "cell_type": "markdown",
   "metadata": {},
   "source": [
    "## Experiment 3: The large environment (n = 60) <a id='Experiment3_3'></a> "
   ]
  },
  {
   "cell_type": "code",
   "execution_count": 17,
   "metadata": {},
   "outputs": [
    {
     "name": "stderr",
     "output_type": "stream",
     "text": [
      "\u001b[32m[I 2021-04-04 10:01:47,348]\u001b[0m A new study created in memory with name: no-name-96d3f31d-6d25-4dc3-a1a6-3670a53fd03d\u001b[0m\n"
     ]
    },
    {
     "name": "stdout",
     "output_type": "stream",
     "text": [
      "Iteration:   10 | Avg. Reward: 3049.04 | Var. Reward: 354.6330 | Avg. Action Count: 408.31 | Actor Loss: 0.0128 | Critic Loss: 92289.5781\n",
      ">> Avg. Reward per Action: 7.4675\n",
      "Iteration:   20 | Avg. Reward: -2839.61 | Var. Reward: 4167.2067 | Avg. Action Count: 2541.71 | Actor Loss: -0.0001 | Critic Loss: 12773.6660\n",
      ">> Avg. Reward per Action: -1.1172\n",
      "Iteration:   30 | Avg. Reward: 3243.69 | Var. Reward: 278.2021 | Avg. Action Count: 220.01 | Actor Loss: 0.0315 | Critic Loss: 167996.2031\n",
      ">> Avg. Reward per Action: 14.7434\n",
      "Iteration:   40 | Avg. Reward: 3139.22 | Var. Reward: 397.0535 | Avg. Action Count: 328.53 | Actor Loss: 0.0073 | Critic Loss: 10100.8555\n",
      ">> Avg. Reward per Action: 9.5554\n",
      "Iteration:   50 | Avg. Reward: 3094.34 | Var. Reward: 332.8911 | Avg. Action Count: 355.71 | Actor Loss: 0.0095 | Critic Loss: 29175.4258\n",
      ">> Avg. Reward per Action: 8.6991\n",
      "Iteration:   60 | Avg. Reward: 14.67 | Var. Reward: 3686.8326 | Avg. Action Count: 1666.28 | Actor Loss: 0.0067 | Critic Loss: 23116.9980\n",
      ">> Avg. Reward per Action: 0.0088\n",
      "Iteration:   70 | Avg. Reward: 2935.39 | Var. Reward: 615.8960 | Avg. Action Count: 507.11 | Actor Loss: 0.0073 | Critic Loss: 19312.2305\n",
      ">> Avg. Reward per Action: 5.7885\n",
      "Iteration:   80 | Avg. Reward: 197.18 | Var. Reward: 3899.4847 | Avg. Action Count: 1513.12 | Actor Loss: 0.0115 | Critic Loss: 12593.4727\n",
      ">> Avg. Reward per Action: 0.1303\n",
      "Iteration:   90 | Avg. Reward: -1905.38 | Var. Reward: 3857.5334 | Avg. Action Count: 2417.98 | Actor Loss: 0.0252 | Critic Loss: 187.3396\n",
      ">> Avg. Reward per Action: -0.7880\n",
      "Iteration:  100 | Avg. Reward: 1526.01 | Var. Reward: 3002.3087 | Avg. Action Count: 1090.09 | Actor Loss: 0.0138 | Critic Loss: 29778.1641\n",
      ">> Avg. Reward per Action: 1.3999\n",
      "Iteration:  110 | Avg. Reward: 2739.02 | Var. Reward: 971.5900 | Avg. Action Count: 642.33 | Actor Loss: 0.0165 | Critic Loss: 29565.1113\n",
      ">> Avg. Reward per Action: 4.2642\n",
      "Iteration:  120 | Avg. Reward: 2570.21 | Var. Reward: 1287.6413 | Avg. Action Count: 721.89 | Actor Loss: 0.0143 | Critic Loss: 34134.8164\n",
      ">> Avg. Reward per Action: 3.5604\n",
      "Iteration:  130 | Avg. Reward: -4823.17 | Var. Reward: 11041.2893 | Avg. Action Count: 1939.52 | Actor Loss: 0.0514 | Critic Loss: 29675.1445\n",
      ">> Avg. Reward per Action: -2.4868\n",
      "Iteration:  140 | Avg. Reward: 3025.11 | Var. Reward: 507.9845 | Avg. Action Count: 453.24 | Actor Loss: 0.0203 | Critic Loss: 12569.0752\n",
      ">> Avg. Reward per Action: 6.6744\n",
      "Iteration:  150 | Avg. Reward: 1707.56 | Var. Reward: 2738.6498 | Avg. Action Count: 1052.44 | Actor Loss: 0.0074 | Critic Loss: 25892.9277\n",
      ">> Avg. Reward per Action: 1.6225\n",
      "Iteration:  160 | Avg. Reward: 2437.47 | Var. Reward: 1596.5250 | Avg. Action Count: 801.68 | Actor Loss: 0.0084 | Critic Loss: 34701.0352\n",
      ">> Avg. Reward per Action: 3.0405\n",
      "Iteration:  170 | Avg. Reward: 2454.04 | Var. Reward: 1466.2577 | Avg. Action Count: 805.91 | Actor Loss: 0.0131 | Critic Loss: 21340.5664\n",
      ">> Avg. Reward per Action: 3.0451\n",
      "Iteration:  180 | Avg. Reward: 1174.85 | Var. Reward: 2686.4820 | Avg. Action Count: 1439.20 | Actor Loss: 0.0020 | Critic Loss: 19579.1719\n",
      ">> Avg. Reward per Action: 0.8163\n",
      "Iteration:  190 | Avg. Reward: 1614.05 | Var. Reward: 2662.8003 | Avg. Action Count: 1153.70 | Actor Loss: 0.0047 | Critic Loss: 20856.0332\n",
      ">> Avg. Reward per Action: 1.3990\n",
      "Iteration:  200 | Avg. Reward: 2852.72 | Var. Reward: 695.4859 | Avg. Action Count: 490.48 | Actor Loss: 0.1179 | Critic Loss: 5646.6997\n",
      ">> Avg. Reward per Action: 5.8162\n",
      "Iteration:  210 | Avg. Reward: -14306.03 | Var. Reward: 10700.7788 | Avg. Action Count: 2713.78 | Actor Loss: 0.0095 | Critic Loss: 4956.4697\n",
      ">> Avg. Reward per Action: -5.2716\n",
      "Iteration:  220 | Avg. Reward: -12030.49 | Var. Reward: 10961.1145 | Avg. Action Count: 2645.44 | Actor Loss: 0.0039 | Critic Loss: 6959.8159\n",
      ">> Avg. Reward per Action: -4.5476\n"
     ]
    },
    {
     "name": "stderr",
     "output_type": "stream",
     "text": [
      "\u001b[32m[I 2021-04-04 10:31:05,413]\u001b[0m Trial 0 finished with value: 14.743375301122677 and parameters: {'n_layers': 1, 'hidden_size': 64, 'learning_rate': 0.003917653000097167, 'gamma': 0.763163115527858, 'multiplier': 3}. Best is trial 0 with value: 14.743375301122677.\u001b[0m\n"
     ]
    },
    {
     "name": "stdout",
     "output_type": "stream",
     "text": [
      "Iteration:  230 | Avg. Reward: -14937.41 | Var. Reward: 9076.4622 | Avg. Action Count: 3022.06 | Actor Loss: 0.0091 | Critic Loss: 320.1841\n",
      ">> Avg. Reward per Action: -4.9428\n",
      "Early stopping: Have no improvement since 30 iterations \n",
      "\n",
      "Iteration:   10 | Avg. Reward: 3212.61 | Var. Reward: 415.2744 | Avg. Action Count: 154.94 | Actor Loss: 0.0227 | Critic Loss: 63195.6172\n",
      ">> Avg. Reward per Action: 20.7345\n",
      "Iteration:   20 | Avg. Reward: -6774.69 | Var. Reward: 10036.7917 | Avg. Action Count: 1870.79 | Actor Loss: 0.0379 | Critic Loss: 5976.0381\n",
      ">> Avg. Reward per Action: -3.6213\n",
      "Iteration:   30 | Avg. Reward: 2944.87 | Var. Reward: 538.6331 | Avg. Action Count: 341.13 | Actor Loss: 0.0281 | Critic Loss: 61946.8633\n",
      ">> Avg. Reward per Action: 8.6327\n",
      "Iteration:   40 | Avg. Reward: 2675.81 | Var. Reward: 906.9898 | Avg. Action Count: 536.74 | Actor Loss: 0.0161 | Critic Loss: 10445.1904\n",
      ">> Avg. Reward per Action: 4.9853\n",
      "Iteration:   50 | Avg. Reward: -3375.91 | Var. Reward: 4524.1261 | Avg. Action Count: 2528.76 | Actor Loss: 0.0185 | Critic Loss: 67755.1172\n",
      ">> Avg. Reward per Action: -1.3350\n",
      "Iteration:   60 | Avg. Reward: 2426.33 | Var. Reward: 3226.8094 | Avg. Action Count: 396.92 | Actor Loss: 0.0238 | Critic Loss: 35420.5430\n",
      ">> Avg. Reward per Action: 6.1129\n",
      "Iteration:   70 | Avg. Reward: 3294.35 | Var. Reward: 465.5460 | Avg. Action Count: 195.30 | Actor Loss: 0.1798 | Critic Loss: 11935.3770\n",
      ">> Avg. Reward per Action: 16.8682\n",
      "Iteration:   80 | Avg. Reward: 3276.75 | Var. Reward: 623.8713 | Avg. Action Count: 189.40 | Actor Loss: 0.0347 | Critic Loss: 16403.8965\n",
      ">> Avg. Reward per Action: 17.3007\n",
      "Iteration:   90 | Avg. Reward: 2978.38 | Var. Reward: 875.8571 | Avg. Action Count: 328.27 | Actor Loss: 0.0462 | Critic Loss: 76667.7969\n",
      ">> Avg. Reward per Action: 9.0730\n",
      "Iteration:  100 | Avg. Reward: 3282.61 | Var. Reward: 590.4390 | Avg. Action Count: 196.04 | Actor Loss: 0.0146 | Critic Loss: 21357.4941\n",
      ">> Avg. Reward per Action: 16.7446\n",
      "Iteration:  110 | Avg. Reward: 3353.45 | Var. Reward: 367.2905 | Avg. Action Count: 173.35 | Actor Loss: 0.0611 | Critic Loss: 23267.6875\n",
      ">> Avg. Reward per Action: 19.3450\n",
      "Iteration:  120 | Avg. Reward: 3467.48 | Var. Reward: 131.9086 | Avg. Action Count: 87.37 | Actor Loss: 0.0947 | Critic Loss: 125279.0078\n",
      ">> Avg. Reward per Action: 39.6873\n",
      "Iteration:  130 | Avg. Reward: 3421.67 | Var. Reward: 181.9938 | Avg. Action Count: 115.98 | Actor Loss: 0.0884 | Critic Loss: 55525.8242\n",
      ">> Avg. Reward per Action: 29.5022\n",
      "Iteration:  140 | Avg. Reward: 3125.14 | Var. Reward: 407.9618 | Avg. Action Count: 258.16 | Actor Loss: 0.0451 | Critic Loss: 43502.1016\n",
      ">> Avg. Reward per Action: 12.1054\n",
      "Iteration:  150 | Avg. Reward: 2960.21 | Var. Reward: 718.4078 | Avg. Action Count: 384.89 | Actor Loss: 0.0323 | Critic Loss: 35856.3594\n",
      ">> Avg. Reward per Action: 7.6911\n",
      "Iteration:  160 | Avg. Reward: 3055.59 | Var. Reward: 455.9504 | Avg. Action Count: 397.81 | Actor Loss: 0.0240 | Critic Loss: 22565.2285\n",
      ">> Avg. Reward per Action: 7.6810\n",
      "Iteration:  170 | Avg. Reward: 2707.83 | Var. Reward: 886.9388 | Avg. Action Count: 615.77 | Actor Loss: 0.1398 | Critic Loss: 5528.0005\n",
      ">> Avg. Reward per Action: 4.3975\n",
      "Iteration:  180 | Avg. Reward: 2995.67 | Var. Reward: 986.3863 | Avg. Action Count: 322.83 | Actor Loss: 0.0523 | Critic Loss: 50501.0312\n",
      ">> Avg. Reward per Action: 9.2794\n",
      "Iteration:  190 | Avg. Reward: 2131.99 | Var. Reward: 2493.3177 | Avg. Action Count: 694.51 | Actor Loss: 0.0326 | Critic Loss: 16420.6953\n",
      ">> Avg. Reward per Action: 3.0698\n",
      "Iteration:  200 | Avg. Reward: 2188.86 | Var. Reward: 1786.3646 | Avg. Action Count: 802.94 | Actor Loss: 0.0258 | Critic Loss: 2298.7854\n",
      ">> Avg. Reward per Action: 2.7261\n",
      "Iteration:  210 | Avg. Reward: -5806.17 | Var. Reward: 5931.4253 | Avg. Action Count: 2575.82 | Actor Loss: 0.0517 | Critic Loss: 4372.0537\n",
      ">> Avg. Reward per Action: -2.2541\n",
      "Iteration:  220 | Avg. Reward: 2527.30 | Var. Reward: 2049.0361 | Avg. Action Count: 554.90 | Actor Loss: 0.0286 | Critic Loss: 27313.1191\n",
      ">> Avg. Reward per Action: 4.5545\n",
      "Iteration:  230 | Avg. Reward: 2228.11 | Var. Reward: 1999.8592 | Avg. Action Count: 790.74 | Actor Loss: 0.0208 | Critic Loss: 17289.1562\n",
      ">> Avg. Reward per Action: 2.8178\n",
      "Iteration:  240 | Avg. Reward: 2068.94 | Var. Reward: 1982.6939 | Avg. Action Count: 879.66 | Actor Loss: 0.0158 | Critic Loss: 10415.2627\n",
      ">> Avg. Reward per Action: 2.3520\n",
      "Iteration:  250 | Avg. Reward: 2316.13 | Var. Reward: 2314.4608 | Avg. Action Count: 669.92 | Actor Loss: 0.0252 | Critic Loss: 15219.2266\n",
      ">> Avg. Reward per Action: 3.4573\n",
      "Iteration:  260 | Avg. Reward: 2954.17 | Var. Reward: 836.2549 | Avg. Action Count: 421.88 | Actor Loss: 0.0128 | Critic Loss: 22441.9336\n",
      ">> Avg. Reward per Action: 7.0024\n",
      "Iteration:  270 | Avg. Reward: 1405.18 | Var. Reward: 2431.6366 | Avg. Action Count: 1238.52 | Actor Loss: 0.0070 | Critic Loss: 10092.2666\n",
      ">> Avg. Reward per Action: 1.1346\n",
      "Iteration:  280 | Avg. Reward: 2162.60 | Var. Reward: 2174.7124 | Avg. Action Count: 835.05 | Actor Loss: 0.0249 | Critic Loss: 18356.6953\n",
      ">> Avg. Reward per Action: 2.5898\n",
      "Iteration:  290 | Avg. Reward: -2363.89 | Var. Reward: 8015.1376 | Avg. Action Count: 1694.74 | Actor Loss: 0.0324 | Critic Loss: 6378.3950\n",
      ">> Avg. Reward per Action: -1.3948\n",
      "Iteration:  300 | Avg. Reward: -1913.50 | Var. Reward: 7528.0533 | Avg. Action Count: 1036.45 | Actor Loss: 0.1040 | Critic Loss: 383.5374\n",
      ">> Avg. Reward per Action: -1.8462\n",
      "Iteration:  310 | Avg. Reward: 1062.24 | Var. Reward: 3677.5306 | Avg. Action Count: 1145.56 | Actor Loss: 0.0623 | Critic Loss: 13095.1738\n",
      ">> Avg. Reward per Action: 0.9273\n"
     ]
    },
    {
     "name": "stderr",
     "output_type": "stream",
     "text": [
      "\u001b[32m[I 2021-04-04 11:23:42,957]\u001b[0m Trial 1 finished with value: 39.68730685590019 and parameters: {'n_layers': 1, 'hidden_size': 128, 'learning_rate': 0.0031943759750689416, 'gamma': 0.34259979225710624, 'multiplier': 4}. Best is trial 1 with value: 39.68730685590019.\u001b[0m\n"
     ]
    },
    {
     "name": "stdout",
     "output_type": "stream",
     "text": [
      "Iteration:  320 | Avg. Reward: -17376.69 | Var. Reward: 8483.0325 | Avg. Action Count: 3130.44 | Actor Loss: 0.7967 | Critic Loss: 1808.0948\n",
      ">> Avg. Reward per Action: -5.5509\n",
      "Early stopping: Have no improvement since 120 iterations \n",
      "\n",
      "Iteration:   10 | Avg. Reward: -17488.46 | Var. Reward: 8838.5261 | Avg. Action Count: 3065.61 | Actor Loss: 0.0040 | Critic Loss: 1132.1086\n",
      ">> Avg. Reward per Action: -5.7047\n",
      "Iteration:   20 | Avg. Reward: -23195.10 | Var. Reward: 3255.5831 | Avg. Action Count: 3563.75 | Actor Loss: -0.0000 | Critic Loss: 72.5894\n",
      ">> Avg. Reward per Action: -6.5086\n",
      "Iteration:   30 | Avg. Reward: -22685.88 | Var. Reward: 4146.0528 | Avg. Action Count: 3527.93 | Actor Loss: 0.0000 | Critic Loss: 19.6330\n",
      ">> Avg. Reward per Action: -6.4304\n",
      "Iteration:   40 | Avg. Reward: -23297.49 | Var. Reward: 1859.9776 | Avg. Action Count: 3599.64 | Actor Loss: -0.0000 | Critic Loss: 14.8726\n",
      ">> Avg. Reward per Action: -6.4722\n",
      "Iteration:   50 | Avg. Reward: -23120.13 | Var. Reward: 3382.0034 | Avg. Action Count: 3563.78 | Actor Loss: 0.0000 | Critic Loss: 18.2460\n",
      ">> Avg. Reward per Action: -6.4875\n",
      "Iteration:   60 | Avg. Reward: -23048.81 | Var. Reward: 1740.8826 | Avg. Action Count: 3599.56 | Actor Loss: -0.0000 | Critic Loss: 12.3425\n",
      ">> Avg. Reward per Action: -6.4032\n",
      "Iteration:   70 | Avg. Reward: -22948.50 | Var. Reward: 1564.5119 | Avg. Action Count: 3599.65 | Actor Loss: 0.0000 | Critic Loss: 19.4639\n",
      ">> Avg. Reward per Action: -6.3752\n",
      "Iteration:   80 | Avg. Reward: -23287.71 | Var. Reward: 1905.9549 | Avg. Action Count: 3599.61 | Actor Loss: -0.0000 | Critic Loss: 20.9647\n",
      ">> Avg. Reward per Action: -6.4695\n",
      "Iteration:   90 | Avg. Reward: -23057.60 | Var. Reward: 1905.9206 | Avg. Action Count: 3599.60 | Actor Loss: 0.0000 | Critic Loss: 17.7273\n",
      ">> Avg. Reward per Action: -6.4056\n",
      "Iteration:  100 | Avg. Reward: -23130.60 | Var. Reward: 3439.2718 | Avg. Action Count: 3563.65 | Actor Loss: 0.0000 | Critic Loss: 14.3039\n",
      ">> Avg. Reward per Action: -6.4907\n",
      "Iteration:  110 | Avg. Reward: -22855.30 | Var. Reward: 3139.5069 | Avg. Action Count: 3563.90 | Actor Loss: -0.0000 | Critic Loss: 21.6251\n",
      ">> Avg. Reward per Action: -6.4130\n",
      "Iteration:  120 | Avg. Reward: -22654.59 | Var. Reward: 3240.0796 | Avg. Action Count: 3563.59 | Actor Loss: 0.0000 | Critic Loss: 14.0772\n",
      ">> Avg. Reward per Action: -6.3572\n",
      "Iteration:  130 | Avg. Reward: -23163.81 | Var. Reward: 1955.2478 | Avg. Action Count: 3599.56 | Actor Loss: 0.0000 | Critic Loss: 10.3034\n",
      ">> Avg. Reward per Action: -6.4352\n",
      "Iteration:  140 | Avg. Reward: -22859.95 | Var. Reward: 3226.0368 | Avg. Action Count: 3563.95 | Actor Loss: -0.0000 | Critic Loss: 541.6516\n",
      ">> Avg. Reward per Action: -6.4142\n",
      "Iteration:  150 | Avg. Reward: -23019.85 | Var. Reward: 1864.2940 | Avg. Action Count: 3599.65 | Actor Loss: -0.0000 | Critic Loss: 16.3130\n",
      ">> Avg. Reward per Action: -6.3950\n",
      "Iteration:  160 | Avg. Reward: -22376.97 | Var. Reward: 4114.0405 | Avg. Action Count: 3527.82 | Actor Loss: 0.0000 | Critic Loss: 465.2201\n",
      ">> Avg. Reward per Action: -6.3430\n",
      "Iteration:  170 | Avg. Reward: -21942.37 | Var. Reward: 5518.1911 | Avg. Action Count: 3455.82 | Actor Loss: 0.0000 | Critic Loss: 18.2617\n",
      ">> Avg. Reward per Action: -6.3494\n",
      "Iteration:  180 | Avg. Reward: -23164.67 | Var. Reward: 3298.8005 | Avg. Action Count: 3563.82 | Actor Loss: 0.0000 | Critic Loss: 19.0953\n",
      ">> Avg. Reward per Action: -6.5000\n",
      "Iteration:  190 | Avg. Reward: -22998.19 | Var. Reward: 3345.2875 | Avg. Action Count: 3563.64 | Actor Loss: -0.0001 | Critic Loss: 22.0210\n",
      ">> Avg. Reward per Action: -6.4536\n",
      "Iteration:  200 | Avg. Reward: -22832.36 | Var. Reward: 4347.4039 | Avg. Action Count: 3527.96 | Actor Loss: 0.0000 | Critic Loss: 14.2059\n",
      ">> Avg. Reward per Action: -6.4718\n"
     ]
    },
    {
     "name": "stderr",
     "output_type": "stream",
     "text": [
      "\u001b[32m[I 2021-04-04 12:36:38,198]\u001b[0m Trial 2 finished with value: -5.704724345236348 and parameters: {'n_layers': 2, 'hidden_size': 256, 'learning_rate': 0.009726863700425076, 'gamma': 0.6064968872617659, 'multiplier': 5}. Best is trial 1 with value: 39.68730685590019.\u001b[0m\n"
     ]
    },
    {
     "name": "stdout",
     "output_type": "stream",
     "text": [
      "Iteration:  210 | Avg. Reward: -22522.21 | Var. Reward: 4041.2873 | Avg. Action Count: 3527.76 | Actor Loss: -0.0000 | Critic Loss: 16.8106\n",
      ">> Avg. Reward per Action: -6.3843\n",
      "Early stopping: Have no improvement since 10 iterations \n",
      "\n",
      "Iteration:   10 | Avg. Reward: 3503.08 | Var. Reward: 64.4743 | Avg. Action Count: 63.52 | Actor Loss: 0.1142 | Critic Loss: 202091.5625\n",
      ">> Avg. Reward per Action: 55.1492\n",
      "Iteration:   20 | Avg. Reward: 3502.54 | Var. Reward: 94.2587 | Avg. Action Count: 54.01 | Actor Loss: 0.1486 | Critic Loss: 353924.4062\n",
      ">> Avg. Reward per Action: 64.8498\n",
      "Iteration:   30 | Avg. Reward: 3526.81 | Var. Reward: 40.0104 | Avg. Action Count: 43.04 | Actor Loss: 0.0294 | Critic Loss: 108206.6719\n",
      ">> Avg. Reward per Action: 81.9426\n",
      "Iteration:   40 | Avg. Reward: -3773.10 | Var. Reward: 9806.5824 | Avg. Action Count: 1292.90 | Actor Loss: 0.2082 | Critic Loss: 29885.5996\n",
      ">> Avg. Reward per Action: -2.9183\n",
      "Iteration:   50 | Avg. Reward: 3512.65 | Var. Reward: 52.1103 | Avg. Action Count: 59.85 | Actor Loss: 0.1183 | Critic Loss: 43911.4062\n",
      ">> Avg. Reward per Action: 58.6909\n",
      "Iteration:   60 | Avg. Reward: 2775.74 | Var. Reward: 2290.7812 | Avg. Action Count: 222.91 | Actor Loss: 0.1304 | Critic Loss: 15016.7920\n",
      ">> Avg. Reward per Action: 12.4523\n",
      "Iteration:   70 | Avg. Reward: 3511.77 | Var. Reward: 46.9384 | Avg. Action Count: 51.48 | Actor Loss: 0.1106 | Critic Loss: 131483.7188\n",
      ">> Avg. Reward per Action: 68.2162\n",
      "Iteration:   80 | Avg. Reward: 3359.31 | Var. Reward: 359.2217 | Avg. Action Count: 108.44 | Actor Loss: 0.3089 | Critic Loss: 40012.8281\n",
      ">> Avg. Reward per Action: 30.9785\n",
      "Iteration:   90 | Avg. Reward: 3324.02 | Var. Reward: 177.3855 | Avg. Action Count: 172.38 | Actor Loss: 0.1605 | Critic Loss: 55187.2227\n",
      ">> Avg. Reward per Action: 19.2831\n",
      "Iteration:  100 | Avg. Reward: 3247.90 | Var. Reward: 214.3733 | Avg. Action Count: 237.10 | Actor Loss: 0.1404 | Critic Loss: 82976.1562\n",
      ">> Avg. Reward per Action: 13.6984\n",
      "Iteration:  110 | Avg. Reward: -13883.52 | Var. Reward: 11055.4053 | Avg. Action Count: 2588.57 | Actor Loss: 0.0900 | Critic Loss: 47132.5352\n",
      ">> Avg. Reward per Action: -5.3634\n",
      "Iteration:  120 | Avg. Reward: -20954.86 | Var. Reward: 8060.5350 | Avg. Action Count: 3276.96 | Actor Loss: -0.0000 | Critic Loss: 788.2668\n",
      ">> Avg. Reward per Action: -6.3946\n",
      "Iteration:  130 | Avg. Reward: -19766.19 | Var. Reward: 8766.2344 | Avg. Action Count: 3170.14 | Actor Loss: -0.0000 | Critic Loss: 521.5546\n",
      ">> Avg. Reward per Action: -6.2351\n",
      "Iteration:  140 | Avg. Reward: -10741.18 | Var. Reward: 13418.2741 | Avg. Action Count: 1976.08 | Actor Loss: -0.0000 | Critic Loss: 270.4424\n",
      ">> Avg. Reward per Action: -5.4356\n",
      "Iteration:  150 | Avg. Reward: -15249.27 | Var. Reward: 12401.1832 | Avg. Action Count: 2532.22 | Actor Loss: 0.0579 | Critic Loss: 2860.0215\n",
      ">> Avg. Reward per Action: -6.0221\n",
      "Iteration:  160 | Avg. Reward: -14496.49 | Var. Reward: 13614.8554 | Avg. Action Count: 2318.04 | Actor Loss: 0.0080 | Critic Loss: 1739.1266\n",
      ">> Avg. Reward per Action: -6.2538\n",
      "Iteration:  170 | Avg. Reward: 357.96 | Var. Reward: 3822.3069 | Avg. Action Count: 1488.64 | Actor Loss: 0.2219 | Critic Loss: 3848.7522\n",
      ">> Avg. Reward per Action: 0.2405\n",
      "Iteration:  180 | Avg. Reward: 3491.04 | Var. Reward: 98.9262 | Avg. Action Count: 64.21 | Actor Loss: 0.0743 | Critic Loss: 59698.8398\n",
      ">> Avg. Reward per Action: 54.3691\n",
      "Iteration:  190 | Avg. Reward: -609.44 | Var. Reward: 3941.2838 | Avg. Action Count: 1918.29 | Actor Loss: 0.1681 | Critic Loss: 6215.1060\n",
      ">> Avg. Reward per Action: -0.3177\n",
      "Iteration:  200 | Avg. Reward: -4338.93 | Var. Reward: 5666.9126 | Avg. Action Count: 2386.38 | Actor Loss: 0.0982 | Critic Loss: 263.9424\n",
      ">> Avg. Reward per Action: -1.8182\n",
      "Iteration:  210 | Avg. Reward: -5768.72 | Var. Reward: 6525.7516 | Avg. Action Count: 2824.62 | Actor Loss: 0.1169 | Critic Loss: 5309.9844\n",
      ">> Avg. Reward per Action: -2.0423\n",
      "Iteration:  220 | Avg. Reward: -3412.94 | Var. Reward: 3773.8441 | Avg. Action Count: 2726.99 | Actor Loss: 0.0214 | Critic Loss: 2356.6113\n",
      ">> Avg. Reward per Action: -1.2515\n"
     ]
    },
    {
     "name": "stderr",
     "output_type": "stream",
     "text": [
      "\u001b[32m[I 2021-04-04 13:06:22,810]\u001b[0m Trial 3 finished with value: 81.94261152416357 and parameters: {'n_layers': 1, 'hidden_size': 512, 'learning_rate': 0.003165522275854368, 'gamma': 0.5174459484261837, 'multiplier': 3}. Best is trial 3 with value: 81.94261152416357.\u001b[0m\n"
     ]
    },
    {
     "name": "stdout",
     "output_type": "stream",
     "text": [
      "Iteration:  230 | Avg. Reward: -5118.07 | Var. Reward: 1530.8879 | Avg. Action Count: 3492.17 | Actor Loss: 0.0309 | Critic Loss: 1971.8361\n",
      ">> Avg. Reward per Action: -1.4656\n",
      "Early stopping: Have no improvement since 30 iterations \n",
      "\n",
      "Iteration:   10 | Avg. Reward: -20625.55 | Var. Reward: 4246.8495 | Avg. Action Count: 3492.65 | Actor Loss: 0.0203 | Critic Loss: 64.5464\n",
      ">> Avg. Reward per Action: -5.9054\n",
      "Iteration:   20 | Avg. Reward: -22112.96 | Var. Reward: 4848.0126 | Avg. Action Count: 3491.91 | Actor Loss: 0.0018 | Critic Loss: 977.1810\n",
      ">> Avg. Reward per Action: -6.3326\n",
      "Iteration:   30 | Avg. Reward: -20952.33 | Var. Reward: 6909.7136 | Avg. Action Count: 3348.53 | Actor Loss: -0.0000 | Critic Loss: 25.0172\n",
      ">> Avg. Reward per Action: -6.2572\n",
      "Iteration:   40 | Avg. Reward: -21372.95 | Var. Reward: 6511.8973 | Avg. Action Count: 3384.50 | Actor Loss: 0.0004 | Critic Loss: 20.8587\n",
      ">> Avg. Reward per Action: -6.3150\n",
      "Iteration:   50 | Avg. Reward: -23256.72 | Var. Reward: 4557.4021 | Avg. Action Count: 3527.77 | Actor Loss: 0.0083 | Critic Loss: 16.5189\n",
      ">> Avg. Reward per Action: -6.5925\n",
      "Iteration:   60 | Avg. Reward: -24063.86 | Var. Reward: 3855.4542 | Avg. Action Count: 3563.76 | Actor Loss: 0.0047 | Critic Loss: 16.8433\n",
      ">> Avg. Reward per Action: -6.7524\n",
      "Iteration:   70 | Avg. Reward: -23327.49 | Var. Reward: 4879.9989 | Avg. Action Count: 3527.74 | Actor Loss: -0.0001 | Critic Loss: 10.1496\n",
      ">> Avg. Reward per Action: -6.6126\n",
      "Iteration:   80 | Avg. Reward: -23571.72 | Var. Reward: 4030.0999 | Avg. Action Count: 3563.67 | Actor Loss: 0.0006 | Critic Loss: 11.8801\n",
      ">> Avg. Reward per Action: -6.6145\n",
      "Iteration:   90 | Avg. Reward: -23891.05 | Var. Reward: 4016.9613 | Avg. Action Count: 3563.70 | Actor Loss: 0.0020 | Critic Loss: 6.1224\n",
      ">> Avg. Reward per Action: -6.7040\n",
      "Iteration:  100 | Avg. Reward: -12655.71 | Var. Reward: 10539.8272 | Avg. Action Count: 2349.46 | Actor Loss: 0.0042 | Critic Loss: 1622.3209\n",
      ">> Avg. Reward per Action: -5.3866\n",
      "Iteration:  110 | Avg. Reward: -15619.98 | Var. Reward: 10477.9971 | Avg. Action Count: 2779.83 | Actor Loss: 0.0605 | Critic Loss: 2257.5569\n",
      ">> Avg. Reward per Action: -5.6190\n",
      "Iteration:  120 | Avg. Reward: -12910.30 | Var. Reward: 11798.9469 | Avg. Action Count: 2391.55 | Actor Loss: 0.0460 | Critic Loss: 988.6792\n",
      ">> Avg. Reward per Action: -5.3983\n",
      "Iteration:  130 | Avg. Reward: -20816.82 | Var. Reward: 3492.2087 | Avg. Action Count: 3527.87 | Actor Loss: -0.0201 | Critic Loss: 15.7310\n",
      ">> Avg. Reward per Action: -5.9007\n",
      "Iteration:  140 | Avg. Reward: -10635.90 | Var. Reward: 12321.6486 | Avg. Action Count: 2068.60 | Actor Loss: 0.0022 | Critic Loss: 1867.9911\n",
      ">> Avg. Reward per Action: -5.1416\n",
      "Iteration:  150 | Avg. Reward: -12661.71 | Var. Reward: 11889.7126 | Avg. Action Count: 2355.61 | Actor Loss: 0.0084 | Critic Loss: 904.1336\n",
      ">> Avg. Reward per Action: -5.3751\n",
      "Iteration:  160 | Avg. Reward: -13174.24 | Var. Reward: 11728.0143 | Avg. Action Count: 2425.29 | Actor Loss: 0.0068 | Critic Loss: 1672.5449\n",
      ">> Avg. Reward per Action: -5.4320\n",
      "Iteration:  170 | Avg. Reward: -14029.08 | Var. Reward: 9336.0244 | Avg. Action Count: 2817.53 | Actor Loss: 0.0024 | Critic Loss: 659.2891\n",
      ">> Avg. Reward per Action: -4.9792\n",
      "Iteration:  180 | Avg. Reward: -19848.53 | Var. Reward: 5916.5393 | Avg. Action Count: 3385.08 | Actor Loss: 0.0291 | Critic Loss: 35.4218\n",
      ">> Avg. Reward per Action: -5.8635\n",
      "Iteration:  190 | Avg. Reward: -19849.86 | Var. Reward: 5916.4300 | Avg. Action Count: 3385.01 | Actor Loss: -0.0000 | Critic Loss: 9.1046\n",
      ">> Avg. Reward per Action: -5.8640\n",
      "Iteration:  200 | Avg. Reward: -20778.72 | Var. Reward: 3485.5120 | Avg. Action Count: 3527.87 | Actor Loss: 0.0003 | Critic Loss: 12.9842\n",
      ">> Avg. Reward per Action: -5.8899\n",
      "Iteration:  210 | Avg. Reward: -21066.14 | Var. Reward: 2484.4057 | Avg. Action Count: 3563.89 | Actor Loss: 0.0759 | Critic Loss: 16.5299\n",
      ">> Avg. Reward per Action: -5.9110\n",
      "Iteration:  220 | Avg. Reward: -21057.54 | Var. Reward: 2482.9102 | Avg. Action Count: 3563.94 | Actor Loss: 0.0004 | Critic Loss: 14.1924\n",
      ">> Avg. Reward per Action: -5.9085\n",
      "Iteration:  230 | Avg. Reward: -21128.74 | Var. Reward: 2492.1655 | Avg. Action Count: 3563.74 | Actor Loss: 0.1983 | Critic Loss: 10.7655\n",
      ">> Avg. Reward per Action: -5.9288\n",
      "Iteration:  240 | Avg. Reward: -21068.93 | Var. Reward: 2491.1916 | Avg. Action Count: 3563.63 | Actor Loss: 0.2204 | Critic Loss: 6.3254\n",
      ">> Avg. Reward per Action: -5.9122\n",
      "Iteration:  250 | Avg. Reward: -20853.61 | Var. Reward: 3498.2027 | Avg. Action Count: 3527.86 | Actor Loss: 0.0001 | Critic Loss: 11.0910\n",
      ">> Avg. Reward per Action: -5.9111\n",
      "Iteration:  260 | Avg. Reward: -20844.06 | Var. Reward: 3471.9399 | Avg. Action Count: 3528.66 | Actor Loss: 0.2017 | Critic Loss: 13.6143\n",
      ">> Avg. Reward per Action: -5.9071\n",
      "Iteration:  270 | Avg. Reward: -21054.11 | Var. Reward: 2477.4683 | Avg. Action Count: 3563.96 | Actor Loss: 0.0007 | Critic Loss: 6.9010\n",
      ">> Avg. Reward per Action: -5.9075\n",
      "Iteration:  280 | Avg. Reward: -20808.73 | Var. Reward: 3492.6208 | Avg. Action Count: 3527.73 | Actor Loss: 0.0001 | Critic Loss: 7.1139\n",
      ">> Avg. Reward per Action: -5.8986\n",
      "Iteration:  290 | Avg. Reward: -20057.77 | Var. Reward: 5423.1323 | Avg. Action Count: 3420.57 | Actor Loss: -0.0001 | Critic Loss: 7.0788\n",
      ">> Avg. Reward per Action: -5.8639\n",
      "Iteration:  300 | Avg. Reward: -21332.24 | Var. Reward: 200.5740 | Avg. Action Count: 3599.49 | Actor Loss: 0.0002 | Critic Loss: 10.1524\n",
      ">> Avg. Reward per Action: -5.9265\n",
      "Iteration:  310 | Avg. Reward: -20843.59 | Var. Reward: 3499.4488 | Avg. Action Count: 3527.79 | Actor Loss: -0.0001 | Critic Loss: 7.9621\n",
      ">> Avg. Reward per Action: -5.9084\n",
      "Iteration:  320 | Avg. Reward: -13882.99 | Var. Reward: 11404.2916 | Avg. Action Count: 2532.34 | Actor Loss: 0.0138 | Critic Loss: 18.4631\n",
      ">> Avg. Reward per Action: -5.4823\n",
      "Iteration:  330 | Avg. Reward: -14386.38 | Var. Reward: 11185.6962 | Avg. Action Count: 2602.18 | Actor Loss: 0.0163 | Critic Loss: 637.1654\n",
      ">> Avg. Reward per Action: -5.5286\n",
      "Iteration:  340 | Avg. Reward: -5879.76 | Var. Reward: 3254.2417 | Avg. Action Count: 3528.06 | Actor Loss: 0.0978 | Critic Loss: 104.2842\n",
      ">> Avg. Reward per Action: -1.6666\n",
      "Iteration:  350 | Avg. Reward: 2733.94 | Var. Reward: 873.3492 | Avg. Action Count: 727.76 | Actor Loss: 0.0797 | Critic Loss: 5209.3564\n",
      ">> Avg. Reward per Action: 3.7567\n",
      "Iteration:  360 | Avg. Reward: -318.91 | Var. Reward: 3715.9931 | Avg. Action Count: 1890.31 | Actor Loss: 0.0313 | Critic Loss: 531.3392\n",
      ">> Avg. Reward per Action: -0.1687\n",
      "Iteration:  370 | Avg. Reward: 3399.43 | Var. Reward: 253.7820 | Avg. Action Count: 108.12 | Actor Loss: 0.0643 | Critic Loss: 25589.6523\n",
      ">> Avg. Reward per Action: 31.4413\n",
      "Iteration:  380 | Avg. Reward: -14909.80 | Var. Reward: 12449.3722 | Avg. Action Count: 2494.40 | Actor Loss: 0.0462 | Critic Loss: 38516.4492\n",
      ">> Avg. Reward per Action: -5.9773\n",
      "Iteration:  390 | Avg. Reward: -20860.16 | Var. Reward: 7382.1427 | Avg. Action Count: 3312.66 | Actor Loss: 0.0016 | Critic Loss: 64.5887\n",
      ">> Avg. Reward per Action: -6.2971\n",
      "Iteration:  400 | Avg. Reward: -22766.64 | Var. Reward: 3281.8787 | Avg. Action Count: 3563.59 | Actor Loss: 0.0000 | Critic Loss: 19.9616\n",
      ">> Avg. Reward per Action: -6.3887\n",
      "Iteration:  410 | Avg. Reward: -19601.87 | Var. Reward: 9503.8088 | Avg. Action Count: 3101.52 | Actor Loss: 0.0016 | Critic Loss: 13.4136\n",
      ">> Avg. Reward per Action: -6.3201\n",
      "Iteration:  420 | Avg. Reward: -19845.31 | Var. Reward: 8820.4050 | Avg. Action Count: 3169.61 | Actor Loss: 0.0002 | Critic Loss: 13.3099\n",
      ">> Avg. Reward per Action: -6.2611\n",
      "Iteration:  430 | Avg. Reward: -12513.12 | Var. Reward: 13467.4093 | Avg. Action Count: 2140.27 | Actor Loss: 0.0155 | Critic Loss: 881.4053\n",
      ">> Avg. Reward per Action: -5.8465\n",
      "Iteration:  440 | Avg. Reward: -20390.16 | Var. Reward: 8162.6801 | Avg. Action Count: 3241.76 | Actor Loss: -0.0000 | Critic Loss: 12.6573\n",
      ">> Avg. Reward per Action: -6.2898\n",
      "Iteration:  450 | Avg. Reward: -20410.31 | Var. Reward: 8162.6977 | Avg. Action Count: 3243.86 | Actor Loss: -0.0001 | Critic Loss: 8.3463\n",
      ">> Avg. Reward per Action: -6.2920\n",
      "Iteration:  460 | Avg. Reward: -19577.16 | Var. Reward: 9533.6815 | Avg. Action Count: 3098.31 | Actor Loss: -0.0000 | Critic Loss: 284.7794\n",
      ">> Avg. Reward per Action: -6.3187\n",
      "Iteration:  470 | Avg. Reward: -21284.20 | Var. Reward: 7105.8582 | Avg. Action Count: 3348.65 | Actor Loss: 0.0000 | Critic Loss: 9.4972\n",
      ">> Avg. Reward per Action: -6.3561\n",
      "Iteration:  480 | Avg. Reward: -13927.33 | Var. Reward: 13064.6782 | Avg. Action Count: 2536.78 | Actor Loss: 0.0001 | Critic Loss: 9.5835\n",
      ">> Avg. Reward per Action: -5.4902\n",
      "Iteration:  490 | Avg. Reward: -14948.53 | Var. Reward: 11569.1345 | Avg. Action Count: 2837.63 | Actor Loss: 0.1093 | Critic Loss: 24.7000\n",
      ">> Avg. Reward per Action: -5.2680\n",
      "Iteration:  500 | Avg. Reward: -22662.95 | Var. Reward: 5699.4818 | Avg. Action Count: 3455.95 | Actor Loss: 0.0079 | Critic Loss: 12.1108\n",
      ">> Avg. Reward per Action: -6.5577\n",
      "Iteration:  510 | Avg. Reward: -21582.30 | Var. Reward: 7153.2129 | Avg. Action Count: 3350.55 | Actor Loss: -0.0000 | Critic Loss: 10.2776\n",
      ">> Avg. Reward per Action: -6.4414\n",
      "Iteration:  520 | Avg. Reward: -21907.62 | Var. Reward: 6091.1135 | Avg. Action Count: 3421.52 | Actor Loss: 0.0010 | Critic Loss: 75.3380\n",
      ">> Avg. Reward per Action: -6.4029\n",
      "Iteration:  530 | Avg. Reward: -21287.37 | Var. Reward: 7057.1917 | Avg. Action Count: 3349.12 | Actor Loss: 0.0014 | Critic Loss: 10.8573\n",
      ">> Avg. Reward per Action: -6.3561\n",
      "Iteration:  540 | Avg. Reward: -21557.40 | Var. Reward: 7144.9999 | Avg. Action Count: 3350.00 | Actor Loss: 0.0020 | Critic Loss: 25.4997\n",
      ">> Avg. Reward per Action: -6.4350\n",
      "Iteration:  550 | Avg. Reward: -21654.56 | Var. Reward: 6646.9363 | Avg. Action Count: 3385.21 | Actor Loss: 0.0325 | Critic Loss: 7.7535\n",
      ">> Avg. Reward per Action: -6.3968\n",
      "Iteration:  560 | Avg. Reward: -20005.99 | Var. Reward: 8861.7884 | Avg. Action Count: 3172.74 | Actor Loss: 0.0002 | Critic Loss: 679.2538\n",
      ">> Avg. Reward per Action: -6.3056\n"
     ]
    },
    {
     "name": "stderr",
     "output_type": "stream",
     "text": [
      "\u001b[32m[I 2021-04-04 16:29:36,126]\u001b[0m Trial 4 finished with value: 31.44126896041435 and parameters: {'n_layers': 2, 'hidden_size': 512, 'learning_rate': 0.0010159000155239603, 'gamma': 0.28723286864717534, 'multiplier': 4}. Best is trial 3 with value: 81.94261152416357.\u001b[0m\n"
     ]
    },
    {
     "name": "stdout",
     "output_type": "stream",
     "text": [
      "Iteration:  570 | Avg. Reward: -21237.92 | Var. Reward: 7499.5627 | Avg. Action Count: 3313.22 | Actor Loss: 0.0000 | Critic Loss: 5.0208\n",
      ">> Avg. Reward per Action: -6.4101\n",
      "Early stopping: Have no improvement since 370 iterations \n",
      "\n",
      "\n",
      "Best trial:\n",
      "Best parameters: {'n_layers': 1, 'hidden_size': 512, 'learning_rate': 0.003165522275854368, 'gamma': 0.5174459484261837, 'multiplier': 3}\n",
      "Iteration:   10 | Avg. Reward: -3727.28 | Var. Reward: 9039.0999 | Avg. Action Count: 1228.73 | Actor Loss: 0.0052 | Critic Loss: 7776.2822\n",
      ">> Avg. Reward per Action: -3.0334\n",
      "Iteration:   20 | Avg. Reward: 3519.60 | Var. Reward: 47.5087 | Avg. Action Count: 51.55 | Actor Loss: 0.0628 | Critic Loss: 146153.4375\n",
      ">> Avg. Reward per Action: 68.2755\n",
      "Iteration:   30 | Avg. Reward: -4324.02 | Var. Reward: 9405.9102 | Avg. Action Count: 1590.82 | Actor Loss: 0.0102 | Critic Loss: 13914.6094\n",
      ">> Avg. Reward per Action: -2.7181\n",
      "Iteration:   40 | Avg. Reward: 899.84 | Var. Reward: 3250.8308 | Avg. Action Count: 1478.46 | Actor Loss: 0.0366 | Critic Loss: 7281.2539\n",
      ">> Avg. Reward per Action: 0.6086\n",
      "Iteration:   50 | Avg. Reward: -2826.16 | Var. Reward: 8839.2866 | Avg. Action Count: 1246.26 | Actor Loss: 0.0189 | Critic Loss: 6604.8306\n",
      ">> Avg. Reward per Action: -2.2677\n",
      "Iteration:   60 | Avg. Reward: 2381.53 | Var. Reward: 3458.4791 | Avg. Action Count: 236.07 | Actor Loss: 0.0132 | Critic Loss: 81380.7891\n",
      ">> Avg. Reward per Action: 10.0882\n",
      "Iteration:   70 | Avg. Reward: 3085.11 | Var. Reward: 1195.5077 | Avg. Action Count: 125.69 | Actor Loss: 0.0542 | Critic Loss: 66557.5391\n",
      ">> Avg. Reward per Action: 24.5454\n",
      "Iteration:   80 | Avg. Reward: 557.66 | Var. Reward: 3818.6616 | Avg. Action Count: 1487.04 | Actor Loss: 0.2370 | Critic Loss: 10306.7500\n",
      ">> Avg. Reward per Action: 0.3750\n",
      "Iteration:   90 | Avg. Reward: 2823.09 | Var. Reward: 2917.6766 | Avg. Action Count: 161.36 | Actor Loss: 0.0194 | Critic Loss: 34680.8750\n",
      ">> Avg. Reward per Action: 17.4956\n",
      "Iteration:  100 | Avg. Reward: 3504.64 | Var. Reward: 64.9722 | Avg. Action Count: 59.76 | Actor Loss: 0.0881 | Critic Loss: 88511.3047\n",
      ">> Avg. Reward per Action: 58.6452\n",
      "Iteration:  110 | Avg. Reward: -1455.06 | Var. Reward: 8325.7874 | Avg. Action Count: 826.41 | Actor Loss: 0.0042 | Critic Loss: 14048.3906\n",
      ">> Avg. Reward per Action: -1.7607\n",
      "Iteration:  120 | Avg. Reward: -6734.54 | Var. Reward: 8547.6303 | Avg. Action Count: 2542.99 | Actor Loss: 0.0615 | Critic Loss: 12517.6494\n",
      ">> Avg. Reward per Action: -2.6483\n",
      "Iteration:  130 | Avg. Reward: 3415.54 | Var. Reward: 438.7731 | Avg. Action Count: 70.61 | Actor Loss: 0.0530 | Critic Loss: 87409.4609\n",
      ">> Avg. Reward per Action: 48.3719\n",
      "Iteration:  140 | Avg. Reward: 3513.44 | Var. Reward: 47.0411 | Avg. Action Count: 59.31 | Actor Loss: 0.0466 | Critic Loss: 76266.0938\n",
      ">> Avg. Reward per Action: 59.2386\n",
      "Iteration:  150 | Avg. Reward: 3508.20 | Var. Reward: 51.3110 | Avg. Action Count: 54.40 | Actor Loss: 0.2203 | Critic Loss: 52425.5977\n",
      ">> Avg. Reward per Action: 64.4890\n",
      "Iteration:  160 | Avg. Reward: 2143.11 | Var. Reward: 3220.7526 | Avg. Action Count: 285.79 | Actor Loss: 0.0798 | Critic Loss: 13871.0635\n",
      ">> Avg. Reward per Action: 7.4989\n",
      "Iteration:  170 | Avg. Reward: -19840.84 | Var. Reward: 5914.8495 | Avg. Action Count: 3384.94 | Actor Loss: 0.0008 | Critic Loss: 521.5605\n",
      ">> Avg. Reward per Action: -5.8615\n",
      "Iteration:  180 | Avg. Reward: -19402.42 | Var. Reward: 6768.1214 | Avg. Action Count: 3313.62 | Actor Loss: 0.0129 | Critic Loss: 780.1481\n",
      ">> Avg. Reward per Action: -5.8554\n",
      "Iteration:  190 | Avg. Reward: -20597.87 | Var. Reward: 4258.5284 | Avg. Action Count: 3492.02 | Actor Loss: 0.0050 | Critic Loss: 51.1064\n",
      ">> Avg. Reward per Action: -5.8986\n",
      "Iteration:  200 | Avg. Reward: -20349.42 | Var. Reward: 4874.1911 | Avg. Action Count: 3456.67 | Actor Loss: 0.0057 | Critic Loss: 174.8556\n",
      ">> Avg. Reward per Action: -5.8870\n",
      "Iteration:  210 | Avg. Reward: -21157.39 | Var. Reward: 2490.4519 | Avg. Action Count: 3563.64 | Actor Loss: 0.0199 | Critic Loss: 91.9693\n",
      ">> Avg. Reward per Action: -5.9370\n",
      "Iteration:  220 | Avg. Reward: -21054.76 | Var. Reward: 2475.3342 | Avg. Action Count: 3563.66 | Actor Loss: 0.0265 | Critic Loss: 149.2070\n",
      ">> Avg. Reward per Action: -5.9082\n",
      "Early stopping: Have no improvement since 20 iterations \n",
      "\n"
     ]
    }
   ],
   "source": [
    "# Define the environment\n",
    "dungeon = IceDungeonPO(60)\n",
    "dungeon.reset()\n",
    "\n",
    "# Save the environment for evaluating the results\n",
    "FILENAME_ENV = open('dungeon_' + str(dungeon.size) + '.p', 'wb')\n",
    "pickle.dump(dungeon, FILENAME_ENV)\n",
    "FILENAME_ENV.close()\n",
    "\n",
    "# Create a study object and optimise the objective function\n",
    "study = optuna.create_study(direction='maximize')\n",
    "\n",
    "# Limit tuning iteration at 5 times\n",
    "study.optimize(objective, n_trials=5)\n",
    "print('\\nBest trial:')\n",
    "trial_ = study.best_trial\n",
    "print('Best parameters:', trial_.params)\n",
    "\n",
    "# Training with the optimal hyperparameters\n",
    "_, iter_lst, avg_r_lst, var_r_lst, avg_ac_lst = PPO(dungeon, trial_.params).learning(save_model=True)"
   ]
  },
  {
   "cell_type": "markdown",
   "metadata": {},
   "source": [
    "### Visualisation of the results <a id='vis3_3'></a>"
   ]
  },
  {
   "cell_type": "code",
   "execution_count": 18,
   "metadata": {},
   "outputs": [
    {
     "data": {
      "application/vnd.plotly.v1+json": {
       "config": {
        "plotlyServerURL": "https://plot.ly"
       },
       "data": [
        {
         "mode": "markers",
         "name": "Objective Value",
         "type": "scatter",
         "x": [
          0,
          1,
          2,
          3,
          4
         ],
         "y": [
          14.743375301122677,
          39.68730685590019,
          -5.704724345236348,
          81.94261152416357,
          31.44126896041435
         ]
        },
        {
         "name": "Best Value",
         "type": "scatter",
         "x": [
          0,
          1,
          2,
          3,
          4
         ],
         "y": [
          14.743375301122677,
          39.68730685590019,
          39.68730685590019,
          81.94261152416357,
          81.94261152416357
         ]
        }
       ],
       "layout": {
        "autosize": true,
        "template": {
         "data": {
          "bar": [
           {
            "error_x": {
             "color": "#2a3f5f"
            },
            "error_y": {
             "color": "#2a3f5f"
            },
            "marker": {
             "line": {
              "color": "#E5ECF6",
              "width": 0.5
             }
            },
            "type": "bar"
           }
          ],
          "barpolar": [
           {
            "marker": {
             "line": {
              "color": "#E5ECF6",
              "width": 0.5
             }
            },
            "type": "barpolar"
           }
          ],
          "carpet": [
           {
            "aaxis": {
             "endlinecolor": "#2a3f5f",
             "gridcolor": "white",
             "linecolor": "white",
             "minorgridcolor": "white",
             "startlinecolor": "#2a3f5f"
            },
            "baxis": {
             "endlinecolor": "#2a3f5f",
             "gridcolor": "white",
             "linecolor": "white",
             "minorgridcolor": "white",
             "startlinecolor": "#2a3f5f"
            },
            "type": "carpet"
           }
          ],
          "choropleth": [
           {
            "colorbar": {
             "outlinewidth": 0,
             "ticks": ""
            },
            "type": "choropleth"
           }
          ],
          "contour": [
           {
            "colorbar": {
             "outlinewidth": 0,
             "ticks": ""
            },
            "colorscale": [
             [
              0,
              "#0d0887"
             ],
             [
              0.1111111111111111,
              "#46039f"
             ],
             [
              0.2222222222222222,
              "#7201a8"
             ],
             [
              0.3333333333333333,
              "#9c179e"
             ],
             [
              0.4444444444444444,
              "#bd3786"
             ],
             [
              0.5555555555555556,
              "#d8576b"
             ],
             [
              0.6666666666666666,
              "#ed7953"
             ],
             [
              0.7777777777777778,
              "#fb9f3a"
             ],
             [
              0.8888888888888888,
              "#fdca26"
             ],
             [
              1,
              "#f0f921"
             ]
            ],
            "type": "contour"
           }
          ],
          "contourcarpet": [
           {
            "colorbar": {
             "outlinewidth": 0,
             "ticks": ""
            },
            "type": "contourcarpet"
           }
          ],
          "heatmap": [
           {
            "colorbar": {
             "outlinewidth": 0,
             "ticks": ""
            },
            "colorscale": [
             [
              0,
              "#0d0887"
             ],
             [
              0.1111111111111111,
              "#46039f"
             ],
             [
              0.2222222222222222,
              "#7201a8"
             ],
             [
              0.3333333333333333,
              "#9c179e"
             ],
             [
              0.4444444444444444,
              "#bd3786"
             ],
             [
              0.5555555555555556,
              "#d8576b"
             ],
             [
              0.6666666666666666,
              "#ed7953"
             ],
             [
              0.7777777777777778,
              "#fb9f3a"
             ],
             [
              0.8888888888888888,
              "#fdca26"
             ],
             [
              1,
              "#f0f921"
             ]
            ],
            "type": "heatmap"
           }
          ],
          "heatmapgl": [
           {
            "colorbar": {
             "outlinewidth": 0,
             "ticks": ""
            },
            "colorscale": [
             [
              0,
              "#0d0887"
             ],
             [
              0.1111111111111111,
              "#46039f"
             ],
             [
              0.2222222222222222,
              "#7201a8"
             ],
             [
              0.3333333333333333,
              "#9c179e"
             ],
             [
              0.4444444444444444,
              "#bd3786"
             ],
             [
              0.5555555555555556,
              "#d8576b"
             ],
             [
              0.6666666666666666,
              "#ed7953"
             ],
             [
              0.7777777777777778,
              "#fb9f3a"
             ],
             [
              0.8888888888888888,
              "#fdca26"
             ],
             [
              1,
              "#f0f921"
             ]
            ],
            "type": "heatmapgl"
           }
          ],
          "histogram": [
           {
            "marker": {
             "colorbar": {
              "outlinewidth": 0,
              "ticks": ""
             }
            },
            "type": "histogram"
           }
          ],
          "histogram2d": [
           {
            "colorbar": {
             "outlinewidth": 0,
             "ticks": ""
            },
            "colorscale": [
             [
              0,
              "#0d0887"
             ],
             [
              0.1111111111111111,
              "#46039f"
             ],
             [
              0.2222222222222222,
              "#7201a8"
             ],
             [
              0.3333333333333333,
              "#9c179e"
             ],
             [
              0.4444444444444444,
              "#bd3786"
             ],
             [
              0.5555555555555556,
              "#d8576b"
             ],
             [
              0.6666666666666666,
              "#ed7953"
             ],
             [
              0.7777777777777778,
              "#fb9f3a"
             ],
             [
              0.8888888888888888,
              "#fdca26"
             ],
             [
              1,
              "#f0f921"
             ]
            ],
            "type": "histogram2d"
           }
          ],
          "histogram2dcontour": [
           {
            "colorbar": {
             "outlinewidth": 0,
             "ticks": ""
            },
            "colorscale": [
             [
              0,
              "#0d0887"
             ],
             [
              0.1111111111111111,
              "#46039f"
             ],
             [
              0.2222222222222222,
              "#7201a8"
             ],
             [
              0.3333333333333333,
              "#9c179e"
             ],
             [
              0.4444444444444444,
              "#bd3786"
             ],
             [
              0.5555555555555556,
              "#d8576b"
             ],
             [
              0.6666666666666666,
              "#ed7953"
             ],
             [
              0.7777777777777778,
              "#fb9f3a"
             ],
             [
              0.8888888888888888,
              "#fdca26"
             ],
             [
              1,
              "#f0f921"
             ]
            ],
            "type": "histogram2dcontour"
           }
          ],
          "mesh3d": [
           {
            "colorbar": {
             "outlinewidth": 0,
             "ticks": ""
            },
            "type": "mesh3d"
           }
          ],
          "parcoords": [
           {
            "line": {
             "colorbar": {
              "outlinewidth": 0,
              "ticks": ""
             }
            },
            "type": "parcoords"
           }
          ],
          "pie": [
           {
            "automargin": true,
            "type": "pie"
           }
          ],
          "scatter": [
           {
            "marker": {
             "colorbar": {
              "outlinewidth": 0,
              "ticks": ""
             }
            },
            "type": "scatter"
           }
          ],
          "scatter3d": [
           {
            "line": {
             "colorbar": {
              "outlinewidth": 0,
              "ticks": ""
             }
            },
            "marker": {
             "colorbar": {
              "outlinewidth": 0,
              "ticks": ""
             }
            },
            "type": "scatter3d"
           }
          ],
          "scattercarpet": [
           {
            "marker": {
             "colorbar": {
              "outlinewidth": 0,
              "ticks": ""
             }
            },
            "type": "scattercarpet"
           }
          ],
          "scattergeo": [
           {
            "marker": {
             "colorbar": {
              "outlinewidth": 0,
              "ticks": ""
             }
            },
            "type": "scattergeo"
           }
          ],
          "scattergl": [
           {
            "marker": {
             "colorbar": {
              "outlinewidth": 0,
              "ticks": ""
             }
            },
            "type": "scattergl"
           }
          ],
          "scattermapbox": [
           {
            "marker": {
             "colorbar": {
              "outlinewidth": 0,
              "ticks": ""
             }
            },
            "type": "scattermapbox"
           }
          ],
          "scatterpolar": [
           {
            "marker": {
             "colorbar": {
              "outlinewidth": 0,
              "ticks": ""
             }
            },
            "type": "scatterpolar"
           }
          ],
          "scatterpolargl": [
           {
            "marker": {
             "colorbar": {
              "outlinewidth": 0,
              "ticks": ""
             }
            },
            "type": "scatterpolargl"
           }
          ],
          "scatterternary": [
           {
            "marker": {
             "colorbar": {
              "outlinewidth": 0,
              "ticks": ""
             }
            },
            "type": "scatterternary"
           }
          ],
          "surface": [
           {
            "colorbar": {
             "outlinewidth": 0,
             "ticks": ""
            },
            "colorscale": [
             [
              0,
              "#0d0887"
             ],
             [
              0.1111111111111111,
              "#46039f"
             ],
             [
              0.2222222222222222,
              "#7201a8"
             ],
             [
              0.3333333333333333,
              "#9c179e"
             ],
             [
              0.4444444444444444,
              "#bd3786"
             ],
             [
              0.5555555555555556,
              "#d8576b"
             ],
             [
              0.6666666666666666,
              "#ed7953"
             ],
             [
              0.7777777777777778,
              "#fb9f3a"
             ],
             [
              0.8888888888888888,
              "#fdca26"
             ],
             [
              1,
              "#f0f921"
             ]
            ],
            "type": "surface"
           }
          ],
          "table": [
           {
            "cells": {
             "fill": {
              "color": "#EBF0F8"
             },
             "line": {
              "color": "white"
             }
            },
            "header": {
             "fill": {
              "color": "#C8D4E3"
             },
             "line": {
              "color": "white"
             }
            },
            "type": "table"
           }
          ]
         },
         "layout": {
          "annotationdefaults": {
           "arrowcolor": "#2a3f5f",
           "arrowhead": 0,
           "arrowwidth": 1
          },
          "autotypenumbers": "strict",
          "coloraxis": {
           "colorbar": {
            "outlinewidth": 0,
            "ticks": ""
           }
          },
          "colorscale": {
           "diverging": [
            [
             0,
             "#8e0152"
            ],
            [
             0.1,
             "#c51b7d"
            ],
            [
             0.2,
             "#de77ae"
            ],
            [
             0.3,
             "#f1b6da"
            ],
            [
             0.4,
             "#fde0ef"
            ],
            [
             0.5,
             "#f7f7f7"
            ],
            [
             0.6,
             "#e6f5d0"
            ],
            [
             0.7,
             "#b8e186"
            ],
            [
             0.8,
             "#7fbc41"
            ],
            [
             0.9,
             "#4d9221"
            ],
            [
             1,
             "#276419"
            ]
           ],
           "sequential": [
            [
             0,
             "#0d0887"
            ],
            [
             0.1111111111111111,
             "#46039f"
            ],
            [
             0.2222222222222222,
             "#7201a8"
            ],
            [
             0.3333333333333333,
             "#9c179e"
            ],
            [
             0.4444444444444444,
             "#bd3786"
            ],
            [
             0.5555555555555556,
             "#d8576b"
            ],
            [
             0.6666666666666666,
             "#ed7953"
            ],
            [
             0.7777777777777778,
             "#fb9f3a"
            ],
            [
             0.8888888888888888,
             "#fdca26"
            ],
            [
             1,
             "#f0f921"
            ]
           ],
           "sequentialminus": [
            [
             0,
             "#0d0887"
            ],
            [
             0.1111111111111111,
             "#46039f"
            ],
            [
             0.2222222222222222,
             "#7201a8"
            ],
            [
             0.3333333333333333,
             "#9c179e"
            ],
            [
             0.4444444444444444,
             "#bd3786"
            ],
            [
             0.5555555555555556,
             "#d8576b"
            ],
            [
             0.6666666666666666,
             "#ed7953"
            ],
            [
             0.7777777777777778,
             "#fb9f3a"
            ],
            [
             0.8888888888888888,
             "#fdca26"
            ],
            [
             1,
             "#f0f921"
            ]
           ]
          },
          "colorway": [
           "#636efa",
           "#EF553B",
           "#00cc96",
           "#ab63fa",
           "#FFA15A",
           "#19d3f3",
           "#FF6692",
           "#B6E880",
           "#FF97FF",
           "#FECB52"
          ],
          "font": {
           "color": "#2a3f5f"
          },
          "geo": {
           "bgcolor": "white",
           "lakecolor": "white",
           "landcolor": "#E5ECF6",
           "showlakes": true,
           "showland": true,
           "subunitcolor": "white"
          },
          "hoverlabel": {
           "align": "left"
          },
          "hovermode": "closest",
          "mapbox": {
           "style": "light"
          },
          "paper_bgcolor": "white",
          "plot_bgcolor": "#E5ECF6",
          "polar": {
           "angularaxis": {
            "gridcolor": "white",
            "linecolor": "white",
            "ticks": ""
           },
           "bgcolor": "#E5ECF6",
           "radialaxis": {
            "gridcolor": "white",
            "linecolor": "white",
            "ticks": ""
           }
          },
          "scene": {
           "xaxis": {
            "backgroundcolor": "#E5ECF6",
            "gridcolor": "white",
            "gridwidth": 2,
            "linecolor": "white",
            "showbackground": true,
            "ticks": "",
            "zerolinecolor": "white"
           },
           "yaxis": {
            "backgroundcolor": "#E5ECF6",
            "gridcolor": "white",
            "gridwidth": 2,
            "linecolor": "white",
            "showbackground": true,
            "ticks": "",
            "zerolinecolor": "white"
           },
           "zaxis": {
            "backgroundcolor": "#E5ECF6",
            "gridcolor": "white",
            "gridwidth": 2,
            "linecolor": "white",
            "showbackground": true,
            "ticks": "",
            "zerolinecolor": "white"
           }
          },
          "shapedefaults": {
           "line": {
            "color": "#2a3f5f"
           }
          },
          "ternary": {
           "aaxis": {
            "gridcolor": "white",
            "linecolor": "white",
            "ticks": ""
           },
           "baxis": {
            "gridcolor": "white",
            "linecolor": "white",
            "ticks": ""
           },
           "bgcolor": "#E5ECF6",
           "caxis": {
            "gridcolor": "white",
            "linecolor": "white",
            "ticks": ""
           }
          },
          "title": {
           "x": 0.05
          },
          "xaxis": {
           "automargin": true,
           "gridcolor": "white",
           "linecolor": "white",
           "ticks": "",
           "title": {
            "standoff": 15
           },
           "zerolinecolor": "white",
           "zerolinewidth": 2
          },
          "yaxis": {
           "automargin": true,
           "gridcolor": "white",
           "linecolor": "white",
           "ticks": "",
           "title": {
            "standoff": 15
           },
           "zerolinecolor": "white",
           "zerolinewidth": 2
          }
         }
        },
        "title": {
         "text": "Optimization History Plot"
        },
        "xaxis": {
         "autorange": true,
         "range": [
          -0.24280597752253924,
          4.242805977522539
         ],
         "title": {
          "text": "#Trials"
         },
         "type": "linear"
        },
        "yaxis": {
         "autorange": true,
         "range": [
          -12.124752131848442,
          88.36263931077566
         ],
         "title": {
          "text": "Objective Value"
         },
         "type": "linear"
        }
       }
      },
      "image/png": "[encoded data removed]",
      "text/html": [
       "<div>                            <div id=\"ccdc0d95-52fd-444b-8073-0b1ecf280ff6\" class=\"plotly-graph-div\" style=\"height:525px; width:100%;\"></div>            <script type=\"text/javascript\">                require([\"plotly\"], function(Plotly) {                    window.PLOTLYENV=window.PLOTLYENV || {};                                    if (document.getElementById(\"ccdc0d95-52fd-444b-8073-0b1ecf280ff6\")) {                    Plotly.newPlot(                        \"ccdc0d95-52fd-444b-8073-0b1ecf280ff6\",                        [{\"mode\": \"markers\", \"name\": \"Objective Value\", \"type\": \"scatter\", \"x\": [0, 1, 2, 3, 4], \"y\": [14.743375301122677, 39.68730685590019, -5.704724345236348, 81.94261152416357, 31.44126896041435]}, {\"name\": \"Best Value\", \"type\": \"scatter\", \"x\": [0, 1, 2, 3, 4], \"y\": [14.743375301122677, 39.68730685590019, 39.68730685590019, 81.94261152416357, 81.94261152416357]}],                        {\"template\": {\"data\": {\"bar\": [{\"error_x\": {\"color\": \"#2a3f5f\"}, \"error_y\": {\"color\": \"#2a3f5f\"}, \"marker\": {\"line\": {\"color\": \"#E5ECF6\", \"width\": 0.5}}, \"type\": \"bar\"}], \"barpolar\": [{\"marker\": {\"line\": {\"color\": \"#E5ECF6\", \"width\": 0.5}}, \"type\": \"barpolar\"}], \"carpet\": [{\"aaxis\": {\"endlinecolor\": \"#2a3f5f\", \"gridcolor\": \"white\", \"linecolor\": \"white\", \"minorgridcolor\": \"white\", \"startlinecolor\": \"#2a3f5f\"}, \"baxis\": {\"endlinecolor\": \"#2a3f5f\", \"gridcolor\": \"white\", \"linecolor\": \"white\", \"minorgridcolor\": \"white\", \"startlinecolor\": \"#2a3f5f\"}, \"type\": \"carpet\"}], \"choropleth\": [{\"colorbar\": {\"outlinewidth\": 0, \"ticks\": \"\"}, \"type\": \"choropleth\"}], \"contour\": [{\"colorbar\": {\"outlinewidth\": 0, \"ticks\": \"\"}, \"colorscale\": [[0.0, \"#0d0887\"], [0.1111111111111111, \"#46039f\"], [0.2222222222222222, \"#7201a8\"], [0.3333333333333333, \"#9c179e\"], [0.4444444444444444, \"#bd3786\"], [0.5555555555555556, \"#d8576b\"], [0.6666666666666666, \"#ed7953\"], [0.7777777777777778, \"#fb9f3a\"], [0.8888888888888888, \"#fdca26\"], [1.0, \"#f0f921\"]], \"type\": \"contour\"}], \"contourcarpet\": [{\"colorbar\": {\"outlinewidth\": 0, \"ticks\": \"\"}, \"type\": \"contourcarpet\"}], \"heatmap\": [{\"colorbar\": {\"outlinewidth\": 0, \"ticks\": \"\"}, \"colorscale\": [[0.0, \"#0d0887\"], [0.1111111111111111, \"#46039f\"], [0.2222222222222222, \"#7201a8\"], [0.3333333333333333, \"#9c179e\"], [0.4444444444444444, \"#bd3786\"], [0.5555555555555556, \"#d8576b\"], [0.6666666666666666, \"#ed7953\"], [0.7777777777777778, \"#fb9f3a\"], [0.8888888888888888, \"#fdca26\"], [1.0, \"#f0f921\"]], \"type\": \"heatmap\"}], \"heatmapgl\": [{\"colorbar\": {\"outlinewidth\": 0, \"ticks\": \"\"}, \"colorscale\": [[0.0, \"#0d0887\"], [0.1111111111111111, \"#46039f\"], [0.2222222222222222, \"#7201a8\"], [0.3333333333333333, \"#9c179e\"], [0.4444444444444444, \"#bd3786\"], [0.5555555555555556, \"#d8576b\"], [0.6666666666666666, \"#ed7953\"], [0.7777777777777778, \"#fb9f3a\"], [0.8888888888888888, \"#fdca26\"], [1.0, \"#f0f921\"]], \"type\": \"heatmapgl\"}], \"histogram\": [{\"marker\": {\"colorbar\": {\"outlinewidth\": 0, \"ticks\": \"\"}}, \"type\": \"histogram\"}], \"histogram2d\": [{\"colorbar\": {\"outlinewidth\": 0, \"ticks\": \"\"}, \"colorscale\": [[0.0, \"#0d0887\"], [0.1111111111111111, \"#46039f\"], [0.2222222222222222, \"#7201a8\"], [0.3333333333333333, \"#9c179e\"], [0.4444444444444444, \"#bd3786\"], [0.5555555555555556, \"#d8576b\"], [0.6666666666666666, \"#ed7953\"], [0.7777777777777778, \"#fb9f3a\"], [0.8888888888888888, \"#fdca26\"], [1.0, \"#f0f921\"]], \"type\": \"histogram2d\"}], \"histogram2dcontour\": [{\"colorbar\": {\"outlinewidth\": 0, \"ticks\": \"\"}, \"colorscale\": [[0.0, \"#0d0887\"], [0.1111111111111111, \"#46039f\"], [0.2222222222222222, \"#7201a8\"], [0.3333333333333333, \"#9c179e\"], [0.4444444444444444, \"#bd3786\"], [0.5555555555555556, \"#d8576b\"], [0.6666666666666666, \"#ed7953\"], [0.7777777777777778, \"#fb9f3a\"], [0.8888888888888888, \"#fdca26\"], [1.0, \"#f0f921\"]], \"type\": \"histogram2dcontour\"}], \"mesh3d\": [{\"colorbar\": {\"outlinewidth\": 0, \"ticks\": \"\"}, \"type\": \"mesh3d\"}], \"parcoords\": [{\"line\": {\"colorbar\": {\"outlinewidth\": 0, \"ticks\": \"\"}}, \"type\": \"parcoords\"}], \"pie\": [{\"automargin\": true, \"type\": \"pie\"}], \"scatter\": [{\"marker\": {\"colorbar\": {\"outlinewidth\": 0, \"ticks\": \"\"}}, \"type\": \"scatter\"}], \"scatter3d\": [{\"line\": {\"colorbar\": {\"outlinewidth\": 0, \"ticks\": \"\"}}, \"marker\": {\"colorbar\": {\"outlinewidth\": 0, \"ticks\": \"\"}}, \"type\": \"scatter3d\"}], \"scattercarpet\": [{\"marker\": {\"colorbar\": {\"outlinewidth\": 0, \"ticks\": \"\"}}, \"type\": \"scattercarpet\"}], \"scattergeo\": [{\"marker\": {\"colorbar\": {\"outlinewidth\": 0, \"ticks\": \"\"}}, \"type\": \"scattergeo\"}], \"scattergl\": [{\"marker\": {\"colorbar\": {\"outlinewidth\": 0, \"ticks\": \"\"}}, \"type\": \"scattergl\"}], \"scattermapbox\": [{\"marker\": {\"colorbar\": {\"outlinewidth\": 0, \"ticks\": \"\"}}, \"type\": \"scattermapbox\"}], \"scatterpolar\": [{\"marker\": {\"colorbar\": {\"outlinewidth\": 0, \"ticks\": \"\"}}, \"type\": \"scatterpolar\"}], \"scatterpolargl\": [{\"marker\": {\"colorbar\": {\"outlinewidth\": 0, \"ticks\": \"\"}}, \"type\": \"scatterpolargl\"}], \"scatterternary\": [{\"marker\": {\"colorbar\": {\"outlinewidth\": 0, \"ticks\": \"\"}}, \"type\": \"scatterternary\"}], \"surface\": [{\"colorbar\": {\"outlinewidth\": 0, \"ticks\": \"\"}, \"colorscale\": [[0.0, \"#0d0887\"], [0.1111111111111111, \"#46039f\"], [0.2222222222222222, \"#7201a8\"], [0.3333333333333333, \"#9c179e\"], [0.4444444444444444, \"#bd3786\"], [0.5555555555555556, \"#d8576b\"], [0.6666666666666666, \"#ed7953\"], [0.7777777777777778, \"#fb9f3a\"], [0.8888888888888888, \"#fdca26\"], [1.0, \"#f0f921\"]], \"type\": \"surface\"}], \"table\": [{\"cells\": {\"fill\": {\"color\": \"#EBF0F8\"}, \"line\": {\"color\": \"white\"}}, \"header\": {\"fill\": {\"color\": \"#C8D4E3\"}, \"line\": {\"color\": \"white\"}}, \"type\": \"table\"}]}, \"layout\": {\"annotationdefaults\": {\"arrowcolor\": \"#2a3f5f\", \"arrowhead\": 0, \"arrowwidth\": 1}, \"autotypenumbers\": \"strict\", \"coloraxis\": {\"colorbar\": {\"outlinewidth\": 0, \"ticks\": \"\"}}, \"colorscale\": {\"diverging\": [[0, \"#8e0152\"], [0.1, \"#c51b7d\"], [0.2, \"#de77ae\"], [0.3, \"#f1b6da\"], [0.4, \"#fde0ef\"], [0.5, \"#f7f7f7\"], [0.6, \"#e6f5d0\"], [0.7, \"#b8e186\"], [0.8, \"#7fbc41\"], [0.9, \"#4d9221\"], [1, \"#276419\"]], \"sequential\": [[0.0, \"#0d0887\"], [0.1111111111111111, \"#46039f\"], [0.2222222222222222, \"#7201a8\"], [0.3333333333333333, \"#9c179e\"], [0.4444444444444444, \"#bd3786\"], [0.5555555555555556, \"#d8576b\"], [0.6666666666666666, \"#ed7953\"], [0.7777777777777778, \"#fb9f3a\"], [0.8888888888888888, \"#fdca26\"], [1.0, \"#f0f921\"]], \"sequentialminus\": [[0.0, \"#0d0887\"], [0.1111111111111111, \"#46039f\"], [0.2222222222222222, \"#7201a8\"], [0.3333333333333333, \"#9c179e\"], [0.4444444444444444, \"#bd3786\"], [0.5555555555555556, \"#d8576b\"], [0.6666666666666666, \"#ed7953\"], [0.7777777777777778, \"#fb9f3a\"], [0.8888888888888888, \"#fdca26\"], [1.0, \"#f0f921\"]]}, \"colorway\": [\"#636efa\", \"#EF553B\", \"#00cc96\", \"#ab63fa\", \"#FFA15A\", \"#19d3f3\", \"#FF6692\", \"#B6E880\", \"#FF97FF\", \"#FECB52\"], \"font\": {\"color\": \"#2a3f5f\"}, \"geo\": {\"bgcolor\": \"white\", \"lakecolor\": \"white\", \"landcolor\": \"#E5ECF6\", \"showlakes\": true, \"showland\": true, \"subunitcolor\": \"white\"}, \"hoverlabel\": {\"align\": \"left\"}, \"hovermode\": \"closest\", \"mapbox\": {\"style\": \"light\"}, \"paper_bgcolor\": \"white\", \"plot_bgcolor\": \"#E5ECF6\", \"polar\": {\"angularaxis\": {\"gridcolor\": \"white\", \"linecolor\": \"white\", \"ticks\": \"\"}, \"bgcolor\": \"#E5ECF6\", \"radialaxis\": {\"gridcolor\": \"white\", \"linecolor\": \"white\", \"ticks\": \"\"}}, \"scene\": {\"xaxis\": {\"backgroundcolor\": \"#E5ECF6\", \"gridcolor\": \"white\", \"gridwidth\": 2, \"linecolor\": \"white\", \"showbackground\": true, \"ticks\": \"\", \"zerolinecolor\": \"white\"}, \"yaxis\": {\"backgroundcolor\": \"#E5ECF6\", \"gridcolor\": \"white\", \"gridwidth\": 2, \"linecolor\": \"white\", \"showbackground\": true, \"ticks\": \"\", \"zerolinecolor\": \"white\"}, \"zaxis\": {\"backgroundcolor\": \"#E5ECF6\", \"gridcolor\": \"white\", \"gridwidth\": 2, \"linecolor\": \"white\", \"showbackground\": true, \"ticks\": \"\", \"zerolinecolor\": \"white\"}}, \"shapedefaults\": {\"line\": {\"color\": \"#2a3f5f\"}}, \"ternary\": {\"aaxis\": {\"gridcolor\": \"white\", \"linecolor\": \"white\", \"ticks\": \"\"}, \"baxis\": {\"gridcolor\": \"white\", \"linecolor\": \"white\", \"ticks\": \"\"}, \"bgcolor\": \"#E5ECF6\", \"caxis\": {\"gridcolor\": \"white\", \"linecolor\": \"white\", \"ticks\": \"\"}}, \"title\": {\"x\": 0.05}, \"xaxis\": {\"automargin\": true, \"gridcolor\": \"white\", \"linecolor\": \"white\", \"ticks\": \"\", \"title\": {\"standoff\": 15}, \"zerolinecolor\": \"white\", \"zerolinewidth\": 2}, \"yaxis\": {\"automargin\": true, \"gridcolor\": \"white\", \"linecolor\": \"white\", \"ticks\": \"\", \"title\": {\"standoff\": 15}, \"zerolinecolor\": \"white\", \"zerolinewidth\": 2}}}, \"title\": {\"text\": \"Optimization History Plot\"}, \"xaxis\": {\"title\": {\"text\": \"#Trials\"}}, \"yaxis\": {\"title\": {\"text\": \"Objective Value\"}}},                        {\"responsive\": true}                    ).then(function(){\n",
       "                            \n",
       "var gd = document.getElementById('ccdc0d95-52fd-444b-8073-0b1ecf280ff6');\n",
       "var x = new MutationObserver(function (mutations, observer) {{\n",
       "        var display = window.getComputedStyle(gd).display;\n",
       "        if (!display || display === 'none') {{\n",
       "            console.log([gd, 'removed!']);\n",
       "            Plotly.purge(gd);\n",
       "            observer.disconnect();\n",
       "        }}\n",
       "}});\n",
       "\n",
       "// Listen for the removal of the full notebook cells\n",
       "var notebookContainer = gd.closest('#notebook-container');\n",
       "if (notebookContainer) {{\n",
       "    x.observe(notebookContainer, {childList: true});\n",
       "}}\n",
       "\n",
       "// Listen for the clearing of the current output cell\n",
       "var outputEl = gd.closest('.output');\n",
       "if (outputEl) {{\n",
       "    x.observe(outputEl, {childList: true});\n",
       "}}\n",
       "\n",
       "                        })                };                });            </script>        </div>"
      ]
     },
     "metadata": {},
     "output_type": "display_data"
    }
   ],
   "source": [
    "# Visualise the optimisation history\n",
    "plot_optimization_history(study)"
   ]
  },
  {
   "cell_type": "code",
   "execution_count": 19,
   "metadata": {},
   "outputs": [
    {
     "data": {
      "image/png": "[encoded data removed]",
      "text/plain": [
       "<Figure size 864x720 with 3 Axes>"
      ]
     },
     "metadata": {
      "needs_background": "light"
     },
     "output_type": "display_data"
    }
   ],
   "source": [
    "# Visualise experiments of the PPO training\n",
    "visualise_training(iter_lst, avg_r_lst, var_r_lst, avg_ac_lst, trial_.params)"
   ]
  },
  {
   "cell_type": "code",
   "execution_count": null,
   "metadata": {},
   "outputs": [],
   "source": []
  }
 ],
 "metadata": {
  "kernelspec": {
   "display_name": "Python 3",
   "language": "python",
   "name": "python3"
  },
  "language_info": {
   "codemirror_mode": {
    "name": "ipython",
    "version": 3
   },
   "file_extension": ".py",
   "mimetype": "text/x-python",
   "name": "python",
   "nbconvert_exporter": "python",
   "pygments_lexer": "ipython3",
   "version": "3.8.5"
  }
 },
 "nbformat": 4,
 "nbformat_minor": 5
}
