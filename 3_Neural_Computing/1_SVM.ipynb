{
 "cells": [
  {
   "cell_type": "markdown",
   "metadata": {},
   "source": [
    "# Section 1: SVM"
   ]
  },
  {
   "cell_type": "markdown",
   "metadata": {},
   "source": [
    "This notebook shows the steps to train a SVM Model. The notebook are separated into 3 main sections:"
   ]
  },
  {
   "cell_type": "markdown",
   "metadata": {},
   "source": [
    "## Contents\n",
    "\n",
    "- <a href='#1'>1. Import libraries and data</a>\n",
    "- <a href='#2'>2. Train SVM using pixel intensity as an input</a>\n",
    " - <a href='#2.1'>2.1 Find the appropriate kernel</a> \n",
    " - <a href='#2.2'>2.2 Tune the parameters(C and/or gamma ) for only for the best kernel</a>         \n",
    "- <a href='#3'>3. Train SVM using HOG descriptor as an input</a>\n",
    " - <a href='#3.1'>3.1 Find the appropriate kernel</a> \n",
    " - <a href='#3.2'>3.2 Tune the parameters(C and/or gamma ) for only for the best kernel</a> "
   ]
  },
  {
   "cell_type": "markdown",
   "metadata": {},
   "source": [
    "## 1.Import libraries and data <a id='1'></a> "
   ]
  },
  {
   "cell_type": "code",
   "execution_count": 3,
   "metadata": {},
   "outputs": [],
   "source": [
    "import os\n",
    "import matplotlib.pyplot as plt\n",
    "from skimage.feature import hog\n",
    "import numpy as np\n",
    "import pandas as pd\n",
    "import pickle\n",
    "from sklearn.pipeline import Pipeline\n",
    "from sklearn.preprocessing import StandardScaler\n",
    "from sklearn import svm\n",
    "from sklearn.model_selection import GridSearchCV\n",
    "from sklearn.base import BaseEstimator, TransformerMixin\n",
    "import time\n",
    "pd.set_option('expand_frame_repr', False)"
   ]
  },
  {
   "cell_type": "code",
   "execution_count": 2,
   "metadata": {},
   "outputs": [],
   "source": [
    "# Helper Function to show the first 5 images\n",
    "# Credit from INM427 Neural Computing Exercise\n",
    "def plot_example(X, y):\n",
    "    \"\"\"Plot the first 5 images and their labels in a row.\"\"\"\n",
    "    for i, (img, y) in enumerate(zip(X[:5].reshape(5, 28, 28), y[:5])):\n",
    "        plt.subplot(151 + i)\n",
    "        plt.imshow(img,cmap ='gray')\n",
    "        plt.xticks([])\n",
    "        plt.yticks([])\n",
    "        plt.title(y)"
   ]
  },
  {
   "cell_type": "code",
   "execution_count": 4,
   "metadata": {},
   "outputs": [],
   "source": [
    "# %% Get Current Path\n",
    "# Get data location path\n",
    "cwd = os.getcwd()\n",
    "script_path = cwd + '/'\n",
    "data_path = script_path + 'Data2'\n",
    "train_path = data_path +'/' + 'mnist_background_random_train.amat'\n",
    "test_path = data_path +'/' + 'mnist_background_random_test.amat'"
   ]
  },
  {
   "cell_type": "code",
   "execution_count": 6,
   "metadata": {},
   "outputs": [],
   "source": [
    "# Import Data\n",
    "df_train = np.loadtxt(train_path)\n",
    "df_test = np.loadtxt(test_path)\n",
    "\n",
    "X_train = df_train[:,0:-1]\n",
    "y_train = df_train[:,-1]\n",
    "X_test = df_test[:,0:-1]\n",
    "y_test = df_test[:,-1]"
   ]
  },
  {
   "cell_type": "markdown",
   "metadata": {},
   "source": [
    "Since SVM perform poorly on a large dataset.\n",
    "To shorten the training process, we will use only 40% of our training data to tune (which is around 5000 observations, 500 on each classes)"
   ]
  },
  {
   "cell_type": "code",
   "execution_count": 8,
   "metadata": {},
   "outputs": [],
   "source": [
    "from sklearn.model_selection import train_test_split\n",
    "_, X_tuning, _, y_tuning = train_test_split(X_train, y_train,\n",
    "                                                    stratify=y_train, \n",
    "                                                    test_size=0.4,\n",
    "                                                    random_state =1)"
   ]
  },
  {
   "cell_type": "markdown",
   "metadata": {},
   "source": [
    "## 2.Train SVM using pixel intensity as an input <a id='2'></a> "
   ]
  },
  {
   "cell_type": "markdown",
   "metadata": {},
   "source": [
    "The method to train SVM is divided into 2 steps\n",
    "\n",
    "1. Find the appropriate kernel\n",
    "2. Tune the appropriates parameter for only the best kernel"
   ]
  },
  {
   "cell_type": "markdown",
   "metadata": {},
   "source": [
    "### 2.1 Find the appropriate kernel <a id='2.1'></a> "
   ]
  },
  {
   "cell_type": "markdown",
   "metadata": {},
   "source": [
    "To find the appropriate, two gridsearchs are conducted. <br>\n",
    "\n",
    "* The first gridsearch ran through: 'linear', 'rbf' , 'sigmoid' kernel. <br>\n",
    "* The second gridseach ran through 'poly' kernel"
   ]
  },
  {
   "cell_type": "code",
   "execution_count": 24,
   "metadata": {},
   "outputs": [
    {
     "name": "stdout",
     "output_type": "stream",
     "text": [
      "Fitting 5 folds for each of 3 candidates, totalling 15 fits\n"
     ]
    },
    {
     "name": "stderr",
     "output_type": "stream",
     "text": [
      "[Parallel(n_jobs=-1)]: Using backend LokyBackend with 4 concurrent workers.\n",
      "[Parallel(n_jobs=-1)]: Done  12 out of  15 | elapsed:  2.1min remaining:   32.0s\n",
      "[Parallel(n_jobs=-1)]: Done  15 out of  15 | elapsed:  2.8min finished\n"
     ]
    },
    {
     "data": {
      "text/plain": [
       "GridSearchCV(cv=5, estimator=SVC(), n_jobs=-1,\n",
       "             param_grid={'kernel': ['linear', 'rbf', 'sigmoid']},\n",
       "             return_train_score=True, scoring='accuracy', verbose=4)"
      ]
     },
     "execution_count": 24,
     "metadata": {},
     "output_type": "execute_result"
    }
   ],
   "source": [
    "#Define kernel and general parameter to test\n",
    "parameters = {'kernel':['linear', 'rbf', 'sigmoid']}\n",
    "#Initiate SV class\n",
    "svc = svm.SVC()\n",
    "\n",
    "# First gridsearch\n",
    "raw_model_1 = GridSearchCV(svc, parameters,\n",
    "                    cv = 5,\n",
    "                    scoring = 'accuracy',\n",
    "                    n_jobs = -1,\n",
    "                    verbose = 4,\n",
    "                    return_train_score = True)\n",
    "\n",
    "raw_model_1.fit(X_tuning, y_tuning)"
   ]
  },
  {
   "cell_type": "code",
   "execution_count": 25,
   "metadata": {},
   "outputs": [
    {
     "name": "stdout",
     "output_type": "stream",
     "text": [
      "  param_kernel  mean_test_score  std_test_score\n",
      "0       linear         0.745417        0.014246\n",
      "1          rbf         0.820000        0.007778\n",
      "2      sigmoid         0.110833        0.000510\n"
     ]
    }
   ],
   "source": [
    "#Display the result of the first gridseach\n",
    "col = ['param_kernel',\n",
    "       'mean_test_score','std_test_score']\n",
    "df_temp_1 = pd.DataFrame(raw_model_1.cv_results_)\n",
    "df_temp_1 = df_temp_1[col]\n",
    "print(df_temp_1)\n",
    "\n",
    "#df_temp_1.to_csv('raw_kernel_1.csv')"
   ]
  },
  {
   "cell_type": "code",
   "execution_count": 26,
   "metadata": {},
   "outputs": [
    {
     "name": "stdout",
     "output_type": "stream",
     "text": [
      "Fitting 5 folds for each of 3 candidates, totalling 15 fits\n"
     ]
    },
    {
     "name": "stderr",
     "output_type": "stream",
     "text": [
      "[Parallel(n_jobs=-1)]: Using backend LokyBackend with 4 concurrent workers.\n",
      "[Parallel(n_jobs=-1)]: Done  12 out of  15 | elapsed:  2.1min remaining:   31.0s\n",
      "[Parallel(n_jobs=-1)]: Done  15 out of  15 | elapsed:  2.7min finished\n"
     ]
    },
    {
     "data": {
      "text/plain": [
       "GridSearchCV(cv=5, estimator=SVC(), n_jobs=-1,\n",
       "             param_grid={'degree': [2, 3, 4], 'kernel': ['poly']},\n",
       "             return_train_score=True, scoring='accuracy', verbose=4)"
      ]
     },
     "execution_count": 26,
     "metadata": {},
     "output_type": "execute_result"
    }
   ],
   "source": [
    "#Define kernel and general parameter to test\n",
    "parameters = {'kernel':['poly'], \n",
    "              'degree' :[2,3,4]}\n",
    "#Initiate SV class\n",
    "svc = svm.SVC()\n",
    "\n",
    "# The second gridsearch\n",
    "raw_model_1_2 = GridSearchCV(svc, parameters,\n",
    "                    cv = 5,\n",
    "                    scoring = 'accuracy',\n",
    "                    n_jobs = -1,\n",
    "                    verbose = 4,\n",
    "                    return_train_score = True)\n",
    "\n",
    "raw_model_1_2.fit(X_tuning, y_tuning)"
   ]
  },
  {
   "cell_type": "code",
   "execution_count": 27,
   "metadata": {},
   "outputs": [
    {
     "name": "stdout",
     "output_type": "stream",
     "text": [
      "  param_kernel param_degree  mean_test_score  std_test_score\n",
      "0         poly            2         0.765417        0.016789\n",
      "1         poly            3         0.778750        0.012476\n",
      "2         poly            4         0.788542        0.013209\n"
     ]
    }
   ],
   "source": [
    "#Display the result of the second gridseach\n",
    "col = ['param_kernel','param_degree',\n",
    "       'mean_test_score','std_test_score']\n",
    "df_temp_2 = pd.DataFrame(raw_model_1_2.cv_results_)\n",
    "df_temp_2 = df_temp_2[col]\n",
    "print(df_temp_2)"
   ]
  },
  {
   "cell_type": "code",
   "execution_count": 28,
   "metadata": {},
   "outputs": [
    {
     "name": "stdout",
     "output_type": "stream",
     "text": [
      "  param_kernel param_degree  mean_test_score  std_test_score\n",
      "0         poly            2         0.765417        0.016789\n",
      "1         poly            3         0.778750        0.012476\n",
      "2         poly            4         0.788542        0.013209\n",
      "0       linear          NaN         0.745417        0.014246\n",
      "1          rbf          NaN         0.820000        0.007778\n",
      "2      sigmoid          NaN         0.110833        0.000510\n"
     ]
    }
   ],
   "source": [
    "#Display the result of the first gridseach & second gridsearch\n",
    "df_result_1 = pd.concat([df_temp_2,df_temp_1])\n",
    "print(df_result_1)\n",
    "df_result_1.to_csv('raw_kernel_result.csv')"
   ]
  },
  {
   "cell_type": "markdown",
   "metadata": {},
   "source": [
    "The result of the gridsearch shows that 'rbf' kernel work best in separating the pixel intensity<br>"
   ]
  },
  {
   "cell_type": "markdown",
   "metadata": {},
   "source": [
    "### 2.2 Tune the parameters(C and/or gamma ) for only for the best kernel<a id='2.2'></a> "
   ]
  },
  {
   "cell_type": "markdown",
   "metadata": {},
   "source": [
    "The appropriate parameters in rbf kernel is C and sigma. We used exponential range to search for both parameters."
   ]
  },
  {
   "cell_type": "code",
   "execution_count": 30,
   "metadata": {},
   "outputs": [
    {
     "name": "stdout",
     "output_type": "stream",
     "text": [
      "Fitting 5 folds for each of 48 candidates, totalling 240 fits\n"
     ]
    },
    {
     "name": "stderr",
     "output_type": "stream",
     "text": [
      "[Parallel(n_jobs=-1)]: Using backend LokyBackend with 4 concurrent workers.\n",
      "[Parallel(n_jobs=-1)]: Done  17 tasks      | elapsed:  4.3min\n",
      "[Parallel(n_jobs=-1)]: Done  90 tasks      | elapsed: 25.8min\n",
      "[Parallel(n_jobs=-1)]: Done 213 tasks      | elapsed: 67.4min\n",
      "[Parallel(n_jobs=-1)]: Done 240 out of 240 | elapsed: 75.2min finished\n"
     ]
    },
    {
     "data": {
      "text/plain": [
       "GridSearchCV(cv=5, estimator=SVC(), n_jobs=-1,\n",
       "             param_grid={'C': [0.1, 0.3, 1, 3, 10, 30, 100, 300],\n",
       "                         'gamma': ['scale', 0.01, 0.1, 0.3, 0.9, 1],\n",
       "                         'kernel': ['rbf']},\n",
       "             return_train_score=True, scoring='accuracy', verbose=4)"
      ]
     },
     "execution_count": 30,
     "metadata": {},
     "output_type": "execute_result"
    }
   ],
   "source": [
    "#Define kernel and general parameter to test\n",
    "parameters = {'kernel':['rbf'],\n",
    "             'C': [0.1,0.3,1,3,10,30,100,300],\n",
    "             'gamma':['scale',0.01,0.1,0.3,0.9,1,]}\n",
    "#Initiate SV class\n",
    "svc = svm.SVC()\n",
    "\n",
    "raw_param_2 = GridSearchCV(svc, parameters,\n",
    "                    cv = 5,\n",
    "                    scoring = 'accuracy',\n",
    "                    n_jobs = -1,\n",
    "                    verbose = 4,\n",
    "                    return_train_score = True)\n",
    "\n",
    "raw_param_2.fit(X_tuning, y_tuning)"
   ]
  },
  {
   "cell_type": "code",
   "execution_count": 32,
   "metadata": {},
   "outputs": [
    {
     "name": "stdout",
     "output_type": "stream",
     "text": [
      "   param_kernel param_C param_gamma  mean_test_score  std_test_score\n",
      "0           rbf     0.1       scale         0.492708        0.010437\n",
      "1           rbf     0.1        0.01         0.585000        0.010512\n",
      "2           rbf     0.1         0.1         0.110833        0.000510\n",
      "3           rbf     0.1         0.3         0.110833        0.000510\n",
      "4           rbf     0.1         0.9         0.110833        0.000510\n",
      "5           rbf     0.1           1         0.110833        0.000510\n",
      "6           rbf     0.3       scale         0.780625        0.009377\n",
      "7           rbf     0.3        0.01         0.786250        0.012244\n",
      "8           rbf     0.3         0.1         0.110833        0.000510\n",
      "9           rbf     0.3         0.3         0.110833        0.000510\n",
      "10          rbf     0.3         0.9         0.110833        0.000510\n",
      "11          rbf     0.3           1         0.110833        0.000510\n",
      "12          rbf       1       scale         0.820000        0.007778\n",
      "13          rbf       1        0.01         0.816875        0.007581\n",
      "14          rbf       1         0.1         0.110833        0.000510\n",
      "15          rbf       1         0.3         0.110833        0.000510\n",
      "16          rbf       1         0.9         0.110833        0.000510\n",
      "17          rbf       1           1         0.110833        0.000510\n",
      "18          rbf       3       scale         0.820625        0.008053\n",
      "19          rbf       3        0.01         0.814583        0.009387\n",
      "20          rbf       3         0.1         0.110833        0.000510\n",
      "21          rbf       3         0.3         0.110833        0.000510\n",
      "22          rbf       3         0.9         0.110833        0.000510\n",
      "23          rbf       3           1         0.110833        0.000510\n",
      "24          rbf      10       scale         0.820625        0.008053\n",
      "25          rbf      10        0.01         0.814375        0.009442\n",
      "26          rbf      10         0.1         0.110833        0.000510\n",
      "27          rbf      10         0.3         0.110833        0.000510\n",
      "28          rbf      10         0.9         0.110833        0.000510\n",
      "29          rbf      10           1         0.110833        0.000510\n",
      "30          rbf      30       scale         0.820625        0.008053\n",
      "31          rbf      30        0.01         0.814375        0.009442\n",
      "32          rbf      30         0.1         0.110833        0.000510\n",
      "33          rbf      30         0.3         0.110833        0.000510\n",
      "34          rbf      30         0.9         0.110833        0.000510\n",
      "35          rbf      30           1         0.110833        0.000510\n",
      "36          rbf     100       scale         0.820625        0.008053\n",
      "37          rbf     100        0.01         0.814375        0.009442\n",
      "38          rbf     100         0.1         0.110833        0.000510\n",
      "39          rbf     100         0.3         0.110833        0.000510\n",
      "40          rbf     100         0.9         0.110833        0.000510\n",
      "41          rbf     100           1         0.110833        0.000510\n",
      "42          rbf     300       scale         0.820625        0.008053\n",
      "43          rbf     300        0.01         0.814375        0.009442\n",
      "44          rbf     300         0.1         0.110833        0.000510\n",
      "45          rbf     300         0.3         0.110833        0.000510\n",
      "46          rbf     300         0.9         0.110833        0.000510\n",
      "47          rbf     300           1         0.110833        0.000510\n"
     ]
    }
   ],
   "source": [
    "col = ['param_kernel','param_C','param_gamma',\n",
    "       'mean_test_score','std_test_score']\n",
    "df_temp_4 = pd.DataFrame(raw_param_2.cv_results_)\n",
    "df_temp_4 = df_temp_4[col]\n",
    "print(df_temp_4)\n",
    "\n",
    "#df_temp_4.to_csv('raw_param_1.csv')"
   ]
  },
  {
   "cell_type": "code",
   "execution_count": 36,
   "metadata": {},
   "outputs": [
    {
     "name": "stdout",
     "output_type": "stream",
     "text": [
      "   param_kernel param_C param_gamma  mean_test_score  std_test_score\n",
      "24          rbf      10       scale         0.820625        0.008053\n",
      "18          rbf       3       scale         0.820625        0.008053\n",
      "42          rbf     300       scale         0.820625        0.008053\n",
      "36          rbf     100       scale         0.820625        0.008053\n",
      "30          rbf      30       scale         0.820625        0.008053\n",
      "12          rbf       1       scale         0.820000        0.007778\n",
      "13          rbf       1        0.01         0.816875        0.007581\n",
      "19          rbf       3        0.01         0.814583        0.009387\n",
      "43          rbf     300        0.01         0.814375        0.009442\n",
      "37          rbf     100        0.01         0.814375        0.009442\n",
      "31          rbf      30        0.01         0.814375        0.009442\n",
      "25          rbf      10        0.01         0.814375        0.009442\n",
      "7           rbf     0.3        0.01         0.786250        0.012244\n",
      "6           rbf     0.3       scale         0.780625        0.009377\n",
      "1           rbf     0.1        0.01         0.585000        0.010512\n"
     ]
    }
   ],
   "source": [
    "# Rank my Value\n",
    "# Sort the result by accuracy score\n",
    "print(df_temp_4.sort_values('mean_test_score', ascending=False).head(15))"
   ]
  },
  {
   "cell_type": "markdown",
   "metadata": {},
   "source": [
    "Looking at the results the sigma(gamma) parameter that perform well is a default 'scale' parameter. The scale parameter is the default parameter from SVM, the value is according to this formula (1 / (n_features * X.var()) which is around 0.014.\n",
    "\n",
    "The exponential range  of C is also not have that much effect on the result.\n",
    "\n",
    "<b>Hence the final parameters for SVM using pixel intensity as an input is<b>\n",
    "* kernel: rbf\n",
    "* C: 10\n",
    "* gamma: scale (0.014)"
   ]
  },
  {
   "cell_type": "markdown",
   "metadata": {},
   "source": [
    "Train the model using the above parameters and export"
   ]
  },
  {
   "cell_type": "code",
   "execution_count": 5,
   "metadata": {},
   "outputs": [
    {
     "name": "stdout",
     "output_type": "stream",
     "text": [
      "Training Time 150.84240317344666\n"
     ]
    }
   ],
   "source": [
    "\n",
    "svm_1 = svm.SVC(kernel = 'rbf', C =10, gamma ='scale')\n",
    "\n",
    "t0 = time.time()\n",
    "svm_1.fit(X_train,y_train)\n",
    "t1 = time.time()\n",
    "\n",
    "print('Training Time',t1-t0)\n",
    "\n"
   ]
  },
  {
   "cell_type": "code",
   "execution_count": 9,
   "metadata": {},
   "outputs": [],
   "source": [
    "pkl_filename = \"svm_1_raw_pixel.pkl\"\n",
    "with open(pkl_filename, 'wb') as file:\n",
    "    pickle.dump(svm_1, file)"
   ]
  },
  {
   "cell_type": "markdown",
   "metadata": {},
   "source": [
    "## 3.Train SVM using HOG descriptor as an input <a id='3'></a> "
   ]
  },
  {
   "cell_type": "markdown",
   "metadata": {},
   "source": [
    "The method to train SVM is divided into 2 steps\n",
    "\n",
    "1. Find the appropriate kernel\n",
    "2. Tune the appropriates parameter for only the best kernel"
   ]
  },
  {
   "cell_type": "markdown",
   "metadata": {},
   "source": [
    "Before we move on to create a model and search for optimized parameters, we need to create some function and transform our data to HOG features"
   ]
  },
  {
   "cell_type": "code",
   "execution_count": 9,
   "metadata": {},
   "outputs": [],
   "source": [
    "# Import the data again\n",
    "X_train = X_train.reshape(X_train.shape[0],28,28)\n",
    "X_test = X_test.reshape(X_test.shape[0],28,28)\n",
    "X_tuning = X_tuning.reshape(X_tuning.shape[0],28,28)"
   ]
  },
  {
   "cell_type": "markdown",
   "metadata": {},
   "source": [
    "Create a class to transform the image to HOG. In this process, we fixed the parameters of HOG transformer.\n",
    "These set of parameters would transform the image of size 28*28 into the features of size 5408 which should provide more information about the image"
   ]
  },
  {
   "cell_type": "code",
   "execution_count": 7,
   "metadata": {},
   "outputs": [],
   "source": [
    "# Create a class to transform image to HOG\n",
    "# Credit: https://kapernikov.com/tutorial-image-classification-with-scikit-learn/\n",
    "class HogTransformer(BaseEstimator, TransformerMixin):\n",
    "    \"\"\"\n",
    "    Expects an array of 2d arrays (1 channel images)\n",
    "    Calculates hog features for each img\n",
    "    \"\"\"\n",
    "\n",
    "    def __init__(self, y=None, orientations=8,\n",
    "                 pixels_per_cell=(2, 2),\n",
    "                 cells_per_block=(2, 2)):\n",
    "        self.y = y\n",
    "        self.orientations = orientations\n",
    "        self.pixels_per_cell = pixels_per_cell\n",
    "        self.cells_per_block = cells_per_block\n",
    "\n",
    "    def fit(self, X, y=None):\n",
    "        return self\n",
    "\n",
    "    def transform(self, X, y=None):\n",
    "\n",
    "        def local_hog(X):\n",
    "            return hog(X,\n",
    "                       orientations=self.orientations,\n",
    "                       pixels_per_cell=self.pixels_per_cell,\n",
    "                       cells_per_block=self.cells_per_block)\n",
    "\n",
    "        try:  # parallel\n",
    "            return np.array([local_hog(img) for img in X])\n",
    "        except:\n",
    "            return np.array([local_hog(img) for img in X])"
   ]
  },
  {
   "cell_type": "markdown",
   "metadata": {},
   "source": [
    "### 3.1 Find the appropriate kernel <a id='3.1'></a> "
   ]
  },
  {
   "cell_type": "markdown",
   "metadata": {},
   "source": [
    "To find the appropriate, two gridsearchs are conducted. <br>\n",
    "\n",
    "* The first gridsearch ran through: 'linear', 'rbf' , 'sigmoid' kernel. <br>\n",
    "* The second gridseach ran through 'poly' kernel"
   ]
  },
  {
   "cell_type": "markdown",
   "metadata": {},
   "source": [
    "In this section instead of just a model, we utilised a pipeline to easily convery image inot HOG features and fit to a model"
   ]
  },
  {
   "cell_type": "code",
   "execution_count": 8,
   "metadata": {},
   "outputs": [],
   "source": [
    "# Initiate a pipleline to turn the image to HOG, standardize and train\n",
    "HOG_pipeline = Pipeline(\n",
    "    [\n",
    "    ('hogify', HogTransformer(\n",
    "        pixels_per_cell=(2, 2),\n",
    "        cells_per_block=(2, 2),\n",
    "        orientations=8)\n",
    "     ),\n",
    "    ('scalify', StandardScaler()),\n",
    "    ('classify',  svm.SVC()) ])"
   ]
  },
  {
   "cell_type": "code",
   "execution_count": 79,
   "metadata": {},
   "outputs": [
    {
     "name": "stdout",
     "output_type": "stream",
     "text": [
      "Fitting 5 folds for each of 3 candidates, totalling 15 fits\n"
     ]
    },
    {
     "name": "stderr",
     "output_type": "stream",
     "text": [
      "[Parallel(n_jobs=-1)]: Using backend LokyBackend with 4 concurrent workers.\n",
      "[Parallel(n_jobs=-1)]: Done  12 out of  15 | elapsed: 20.6min remaining:  5.1min\n",
      "[Parallel(n_jobs=-1)]: Done  15 out of  15 | elapsed: 24.1min finished\n"
     ]
    },
    {
     "data": {
      "text/plain": [
       "GridSearchCV(cv=5,\n",
       "             estimator=Pipeline(steps=[('hogify', HogTransformer()),\n",
       "                                       ('scalify', StandardScaler()),\n",
       "                                       ('classify', SVC())]),\n",
       "             n_jobs=-1,\n",
       "             param_grid={'classify__kernel': ['linear', 'rbf', 'sigmoid']},\n",
       "             return_train_score=True, scoring='accuracy', verbose=4)"
      ]
     },
     "execution_count": 79,
     "metadata": {},
     "output_type": "execute_result"
    }
   ],
   "source": [
    "#Define kernel and general parameter to test\n",
    "parameters = {'classify__kernel':['linear', 'rbf', 'sigmoid']}\n",
    "\n",
    "# First gridsearch\n",
    "hog_model_1 = GridSearchCV(HOG_pipeline, parameters,\n",
    "                    cv = 5,\n",
    "                    scoring = 'accuracy',\n",
    "                    n_jobs = -1,\n",
    "                    verbose = 4,\n",
    "                    return_train_score = True)\n",
    "\n",
    "hog_model_1.fit(X_tuning, y_tuning)"
   ]
  },
  {
   "cell_type": "code",
   "execution_count": 82,
   "metadata": {},
   "outputs": [
    {
     "name": "stdout",
     "output_type": "stream",
     "text": [
      "  param_classify__kernel  mean_test_score  std_test_score\n",
      "0                 linear         0.719583        0.007666\n",
      "1                    rbf         0.776667        0.009354\n",
      "2                sigmoid         0.746042        0.008995\n"
     ]
    }
   ],
   "source": [
    "#Display result of the first gridsearch\n",
    "col = ['param_classify__kernel',\n",
    "       'mean_test_score','std_test_score']\n",
    "df_temp_6 = pd.DataFrame(hog_model_1.cv_results_)\n",
    "df_temp_6 = df_temp_6[col]\n",
    "print(df_temp_6)\n",
    "\n",
    "#df_temp_4.to_csv('raw_param_1.csv')"
   ]
  },
  {
   "cell_type": "code",
   "execution_count": 83,
   "metadata": {},
   "outputs": [
    {
     "name": "stdout",
     "output_type": "stream",
     "text": [
      "Fitting 5 folds for each of 3 candidates, totalling 15 fits\n"
     ]
    },
    {
     "name": "stderr",
     "output_type": "stream",
     "text": [
      "[Parallel(n_jobs=-1)]: Using backend LokyBackend with 4 concurrent workers.\n",
      "[Parallel(n_jobs=-1)]: Done  12 out of  15 | elapsed: 27.9min remaining:  7.0min\n",
      "[Parallel(n_jobs=-1)]: Done  15 out of  15 | elapsed: 34.7min finished\n"
     ]
    },
    {
     "data": {
      "text/plain": [
       "GridSearchCV(cv=5,\n",
       "             estimator=Pipeline(steps=[('hogify', HogTransformer()),\n",
       "                                       ('scalify', StandardScaler()),\n",
       "                                       ('classify', SVC())]),\n",
       "             n_jobs=-1,\n",
       "             param_grid={'classify__degree': [2, 3, 4],\n",
       "                         'classify__kernel': ['poly']},\n",
       "             return_train_score=True, scoring='accuracy', verbose=4)"
      ]
     },
     "execution_count": 83,
     "metadata": {},
     "output_type": "execute_result"
    }
   ],
   "source": [
    "#Define kernel and general parameter to test\n",
    "parameters = {'classify__kernel':['poly'], \n",
    "              'classify__degree' :[2,3,4]}\n",
    "\n",
    "\n",
    "#Second gridsearch\n",
    "hog_model_1_2 = GridSearchCV(HOG_pipeline, parameters,\n",
    "                    cv = 5,\n",
    "                    scoring = 'accuracy',\n",
    "                    n_jobs = -1,\n",
    "                    verbose = 4,\n",
    "                    return_train_score = True)\n",
    "\n",
    "hog_model_1_2.fit(X_tuning, y_tuning)"
   ]
  },
  {
   "cell_type": "code",
   "execution_count": 87,
   "metadata": {},
   "outputs": [
    {
     "name": "stdout",
     "output_type": "stream",
     "text": [
      "  param_classify__kernel param_classify__degree  mean_test_score  std_test_score\n",
      "0                   poly                      2         0.580833        0.011460\n",
      "1                   poly                      3         0.114792        0.001215\n",
      "2                   poly                      4         0.110833        0.000510\n"
     ]
    }
   ],
   "source": [
    "#Display the result of the second gridsearhc\n",
    "col = ['param_classify__kernel','param_classify__degree',\n",
    "       'mean_test_score','std_test_score']\n",
    "df_temp_7 = pd.DataFrame(hog_model_1_2.cv_results_)\n",
    "df_temp_7 = df_temp_7[col]\n",
    "print(df_temp_7)"
   ]
  },
  {
   "cell_type": "code",
   "execution_count": 88,
   "metadata": {},
   "outputs": [
    {
     "name": "stdout",
     "output_type": "stream",
     "text": [
      "  param_classify__kernel param_classify__degree  mean_test_score  std_test_score\n",
      "0                   poly                      2         0.580833        0.011460\n",
      "1                   poly                      3         0.114792        0.001215\n",
      "2                   poly                      4         0.110833        0.000510\n",
      "0                 linear                    NaN         0.719583        0.007666\n",
      "1                    rbf                    NaN         0.776667        0.009354\n",
      "2                sigmoid                    NaN         0.746042        0.008995\n"
     ]
    }
   ],
   "source": [
    "#Concat and display \n",
    "df_result_2 = pd.concat([df_temp_7,df_temp_6])\n",
    "print(df_result_2)\n",
    "df_result_2.to_csv('hog_kernel_result.csv')"
   ]
  },
  {
   "cell_type": "markdown",
   "metadata": {},
   "source": [
    "The result of the gridsearch shows that 'rbf' kernel work best in separating the pixel intensity<br>\n"
   ]
  },
  {
   "cell_type": "markdown",
   "metadata": {},
   "source": [
    "### 3.2 Tune the parameters(C and/or gamma ) for only for the best kernel <a id='3.2'></a> "
   ]
  },
  {
   "cell_type": "markdown",
   "metadata": {},
   "source": [
    "The appropriate parameters in rbf kernel is C and sigma. We used exponential range to search for both parameters."
   ]
  },
  {
   "cell_type": "code",
   "execution_count": null,
   "metadata": {},
   "outputs": [
    {
     "name": "stdout",
     "output_type": "stream",
     "text": [
      "Fitting 5 folds for each of 48 candidates, totalling 240 fits\n"
     ]
    },
    {
     "name": "stderr",
     "output_type": "stream",
     "text": [
      "[Parallel(n_jobs=-1)]: Using backend LokyBackend with 4 concurrent workers.\n",
      "[Parallel(n_jobs=-1)]: Done  17 tasks      | elapsed: 38.2min\n",
      "[Parallel(n_jobs=-1)]: Done  90 tasks      | elapsed: 204.6min\n",
      "[Parallel(n_jobs=-1)]: Done 213 tasks      | elapsed: 491.5min\n"
     ]
    }
   ],
   "source": [
    "#Define kernel and general parameter to test\n",
    "parameters = {'classify__kernel':['rbf'],\n",
    "             'classify__C': [0.1,0.3,1,3,10,30,100,300],\n",
    "             'classify__gamma':['scale',0.01,0.1,0.3,0.9,1,]}\n",
    "\n",
    "\n",
    "\n",
    "hog_param_1 = GridSearchCV(HOG_pipeline, parameters,\n",
    "                    cv = 5,\n",
    "                    scoring = 'accuracy',\n",
    "                    n_jobs = -1,\n",
    "                    verbose = 4,\n",
    "                    return_train_score = True)\n",
    "\n",
    "hog_param_1.fit(X_tuning, y_tuning)"
   ]
  },
  {
   "cell_type": "code",
   "execution_count": 93,
   "metadata": {},
   "outputs": [
    {
     "name": "stdout",
     "output_type": "stream",
     "text": [
      "   param_classify__kernel param_classify__C param_classify__gamma  mean_test_score  std_test_score\n",
      "0                     rbf               0.1                 scale         0.110833        0.000510\n",
      "1                     rbf               0.1                  0.01         0.110833        0.000510\n",
      "2                     rbf               0.1                   0.1         0.110833        0.000510\n",
      "3                     rbf               0.1                   0.3         0.110833        0.000510\n",
      "4                     rbf               0.1                   0.9         0.110833        0.000510\n",
      "5                     rbf               0.1                     1         0.110833        0.000510\n",
      "6                     rbf               0.3                 scale         0.588125        0.005129\n",
      "7                     rbf               0.3                  0.01         0.110833        0.000510\n",
      "8                     rbf               0.3                   0.1         0.110833        0.000510\n",
      "9                     rbf               0.3                   0.3         0.110833        0.000510\n",
      "10                    rbf               0.3                   0.9         0.110833        0.000510\n",
      "11                    rbf               0.3                     1         0.110833        0.000510\n",
      "12                    rbf                 1                 scale         0.776667        0.009354\n",
      "13                    rbf                 1                  0.01         0.110833        0.000510\n",
      "14                    rbf                 1                   0.1         0.110833        0.000510\n",
      "15                    rbf                 1                   0.3         0.110833        0.000510\n",
      "16                    rbf                 1                   0.9         0.110833        0.000510\n",
      "17                    rbf                 1                     1         0.110833        0.000510\n",
      "18                    rbf                 3                 scale         0.775625        0.008165\n",
      "19                    rbf                 3                  0.01         0.110833        0.000510\n",
      "20                    rbf                 3                   0.1         0.110833        0.000510\n",
      "21                    rbf                 3                   0.3         0.110833        0.000510\n",
      "22                    rbf                 3                   0.9         0.110833        0.000510\n",
      "23                    rbf                 3                     1         0.110833        0.000510\n",
      "24                    rbf                10                 scale         0.775625        0.008165\n",
      "25                    rbf                10                  0.01         0.110833        0.000510\n",
      "26                    rbf                10                   0.1         0.110833        0.000510\n",
      "27                    rbf                10                   0.3         0.110833        0.000510\n",
      "28                    rbf                10                   0.9         0.110833        0.000510\n",
      "29                    rbf                10                     1         0.110833        0.000510\n",
      "30                    rbf                30                 scale         0.775625        0.008165\n",
      "31                    rbf                30                  0.01         0.110833        0.000510\n",
      "32                    rbf                30                   0.1         0.110833        0.000510\n",
      "33                    rbf                30                   0.3         0.110833        0.000510\n",
      "34                    rbf                30                   0.9         0.110833        0.000510\n",
      "35                    rbf                30                     1         0.110833        0.000510\n",
      "36                    rbf               100                 scale         0.775625        0.008165\n",
      "37                    rbf               100                  0.01         0.110833        0.000510\n",
      "38                    rbf               100                   0.1         0.110833        0.000510\n",
      "39                    rbf               100                   0.3         0.110833        0.000510\n",
      "40                    rbf               100                   0.9         0.110833        0.000510\n",
      "41                    rbf               100                     1         0.110833        0.000510\n",
      "42                    rbf               300                 scale         0.775625        0.008165\n",
      "43                    rbf               300                  0.01         0.110833        0.000510\n",
      "44                    rbf               300                   0.1         0.110833        0.000510\n",
      "45                    rbf               300                   0.3         0.110833        0.000510\n",
      "46                    rbf               300                   0.9         0.110833        0.000510\n",
      "47                    rbf               300                     1         0.110833        0.000510\n"
     ]
    }
   ],
   "source": [
    "col = ['param_classify__kernel','param_classify__C','param_classify__gamma',\n",
    "       'mean_test_score','std_test_score']\n",
    "df_temp_8 = pd.DataFrame(hog_param_1.cv_results_)\n",
    "df_temp_8 = df_temp_8[col]\n",
    "print(df_temp_8)\n",
    "\n",
    "#df_temp_4.to_csv('raw_param_1.csv')"
   ]
  },
  {
   "cell_type": "code",
   "execution_count": 94,
   "metadata": {},
   "outputs": [
    {
     "name": "stdout",
     "output_type": "stream",
     "text": [
      "   param_classify__kernel param_classify__C param_classify__gamma  mean_test_score  std_test_score\n",
      "12                    rbf                 1                 scale         0.776667        0.009354\n",
      "42                    rbf               300                 scale         0.775625        0.008165\n",
      "30                    rbf                30                 scale         0.775625        0.008165\n",
      "18                    rbf                 3                 scale         0.775625        0.008165\n",
      "36                    rbf               100                 scale         0.775625        0.008165\n",
      "24                    rbf                10                 scale         0.775625        0.008165\n",
      "6                     rbf               0.3                 scale         0.588125        0.005129\n",
      "34                    rbf                30                   0.9         0.110833        0.000510\n",
      "28                    rbf                10                   0.9         0.110833        0.000510\n",
      "29                    rbf                10                     1         0.110833        0.000510\n",
      "46                    rbf               300                   0.9         0.110833        0.000510\n",
      "31                    rbf                30                  0.01         0.110833        0.000510\n",
      "32                    rbf                30                   0.1         0.110833        0.000510\n",
      "45                    rbf               300                   0.3         0.110833        0.000510\n",
      "33                    rbf                30                   0.3         0.110833        0.000510\n"
     ]
    }
   ],
   "source": [
    "# Rank my Value\n",
    "# Sort the result by accuracy score\n",
    "print(df_temp_8.sort_values('mean_test_score', ascending=False).head(15))"
   ]
  },
  {
   "cell_type": "markdown",
   "metadata": {},
   "source": [
    "Looking at the results the sigma(gamma) parameter that perform well is a default 'scale' parameter. The scale parameter is the default parameter from SVM, the value is according to this formula (1 / (n_features * X.var()) which is around 0.000018.\n",
    "\n",
    "The exponential range  of C is also not have that much effect on the result.\n",
    "\n",
    "<b>Hence the final parameters for SVM using pixel intensity as an input is<b>\n",
    "* kernel: rbf\n",
    "* C: 1\n",
    "* gamma: scale ( 0.000018)"
   ]
  },
  {
   "cell_type": "markdown",
   "metadata": {},
   "source": [
    "Train the model using the above parameters and export"
   ]
  },
  {
   "cell_type": "code",
   "execution_count": 11,
   "metadata": {},
   "outputs": [
    {
     "name": "stdout",
     "output_type": "stream",
     "text": [
      "1895.2547478675842\n"
     ]
    }
   ],
   "source": [
    "HOG_final = Pipeline(\n",
    "    [\n",
    "    ('hogify', HogTransformer(\n",
    "        pixels_per_cell=(2, 2),\n",
    "        cells_per_block=(2, 2),\n",
    "        orientations=8)\n",
    "     ),\n",
    "    ('scalify', StandardScaler()),\n",
    "    ('classify',  svm.SVC()) ])\n",
    "\n",
    "t0 = time.time()\n",
    "HOG_final.fit(X_train,y_train)\n",
    "t1 = time.time()\n",
    "\n",
    "print(t1-t0)"
   ]
  },
  {
   "cell_type": "code",
   "execution_count": 12,
   "metadata": {},
   "outputs": [],
   "source": [
    "pkl_filename = \"svm_1_hog.pkl\"\n",
    "with open(pkl_filename, 'wb') as file:\n",
    "    pickle.dump(HOG_final, file)"
   ]
  }
 ],
 "metadata": {
  "kernelspec": {
   "display_name": "Python 3",
   "language": "python",
   "name": "python3"
  },
  "language_info": {
   "codemirror_mode": {
    "name": "ipython",
    "version": 3
   },
   "file_extension": ".py",
   "mimetype": "text/x-python",
   "name": "python",
   "nbconvert_exporter": "python",
   "pygments_lexer": "ipython3",
   "version": "3.8.5"
  }
 },
 "nbformat": 4,
 "nbformat_minor": 4
}
